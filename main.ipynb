{
 "cells": [
  {
   "cell_type": "markdown",
   "metadata": {},
   "source": [
    "Import"
   ]
  },
  {
   "cell_type": "code",
   "execution_count": 1,
   "metadata": {},
   "outputs": [
    {
     "data": {
      "text/html": [
       "        <script type=\"text/javascript\">\n",
       "        window.PlotlyConfig = {MathJaxConfig: 'local'};\n",
       "        if (window.MathJax) {MathJax.Hub.Config({SVG: {font: \"STIX-Web\"}});}\n",
       "        if (typeof require !== 'undefined') {\n",
       "        require.undef(\"plotly\");\n",
       "        requirejs.config({\n",
       "            paths: {\n",
       "                'plotly': ['https://cdn.plot.ly/plotly-latest.min']\n",
       "            }\n",
       "        });\n",
       "        require(['plotly'], function(Plotly) {\n",
       "            window._Plotly = Plotly;\n",
       "        });\n",
       "        }\n",
       "        </script>\n",
       "        "
      ]
     },
     "metadata": {},
     "output_type": "display_data"
    }
   ],
   "source": [
    "import numpy as np\n",
    "import pandas as pd \n",
    "import matplotlib.pyplot as plt\n",
    "import seaborn as sns \n",
    "import plotly.graph_objs as go\n",
    "import plotly.figure_factory as ff\n",
    "from plotly import tools\n",
    "from plotly.offline import download_plotlyjs, init_notebook_mode, plot, iplot\n",
    "import plotly.express as px\n",
    "init_notebook_mode(connected=True)\n",
    "import warnings\n",
    "warnings.filterwarnings(\"ignore\")"
   ]
  },
  {
   "cell_type": "markdown",
   "metadata": {},
   "source": [
    "Data"
   ]
  },
  {
   "cell_type": "code",
   "execution_count": 2,
   "metadata": {},
   "outputs": [
    {
     "data": {
      "text/html": [
       "<div>\n",
       "<style scoped>\n",
       "    .dataframe tbody tr th:only-of-type {\n",
       "        vertical-align: middle;\n",
       "    }\n",
       "\n",
       "    .dataframe tbody tr th {\n",
       "        vertical-align: top;\n",
       "    }\n",
       "\n",
       "    .dataframe thead th {\n",
       "        text-align: right;\n",
       "    }\n",
       "</style>\n",
       "<table border=\"1\" class=\"dataframe\">\n",
       "  <thead>\n",
       "    <tr style=\"text-align: right;\">\n",
       "      <th></th>\n",
       "      <th>country</th>\n",
       "      <th>iso_code</th>\n",
       "      <th>date</th>\n",
       "      <th>total_vaccinations</th>\n",
       "      <th>people_vaccinated</th>\n",
       "      <th>people_fully_vaccinated</th>\n",
       "      <th>daily_vaccinations_raw</th>\n",
       "      <th>daily_vaccinations</th>\n",
       "      <th>total_vaccinations_per_hundred</th>\n",
       "      <th>people_vaccinated_per_hundred</th>\n",
       "      <th>people_fully_vaccinated_per_hundred</th>\n",
       "      <th>daily_vaccinations_per_million</th>\n",
       "      <th>vaccines</th>\n",
       "      <th>source_name</th>\n",
       "      <th>source_website</th>\n",
       "    </tr>\n",
       "  </thead>\n",
       "  <tbody>\n",
       "    <tr>\n",
       "      <th>0</th>\n",
       "      <td>Afghanistan</td>\n",
       "      <td>AFG</td>\n",
       "      <td>2021-02-22</td>\n",
       "      <td>0.0</td>\n",
       "      <td>0.0</td>\n",
       "      <td>NaN</td>\n",
       "      <td>NaN</td>\n",
       "      <td>NaN</td>\n",
       "      <td>0.00</td>\n",
       "      <td>0.00</td>\n",
       "      <td>NaN</td>\n",
       "      <td>NaN</td>\n",
       "      <td>Johnson&amp;Johnson, Oxford/AstraZeneca, Pfizer/Bi...</td>\n",
       "      <td>World Health Organization</td>\n",
       "      <td>https://covid19.who.int/</td>\n",
       "    </tr>\n",
       "    <tr>\n",
       "      <th>1</th>\n",
       "      <td>Afghanistan</td>\n",
       "      <td>AFG</td>\n",
       "      <td>2021-02-23</td>\n",
       "      <td>NaN</td>\n",
       "      <td>NaN</td>\n",
       "      <td>NaN</td>\n",
       "      <td>NaN</td>\n",
       "      <td>1367.0</td>\n",
       "      <td>NaN</td>\n",
       "      <td>NaN</td>\n",
       "      <td>NaN</td>\n",
       "      <td>34.0</td>\n",
       "      <td>Johnson&amp;Johnson, Oxford/AstraZeneca, Pfizer/Bi...</td>\n",
       "      <td>World Health Organization</td>\n",
       "      <td>https://covid19.who.int/</td>\n",
       "    </tr>\n",
       "    <tr>\n",
       "      <th>2</th>\n",
       "      <td>Afghanistan</td>\n",
       "      <td>AFG</td>\n",
       "      <td>2021-02-24</td>\n",
       "      <td>NaN</td>\n",
       "      <td>NaN</td>\n",
       "      <td>NaN</td>\n",
       "      <td>NaN</td>\n",
       "      <td>1367.0</td>\n",
       "      <td>NaN</td>\n",
       "      <td>NaN</td>\n",
       "      <td>NaN</td>\n",
       "      <td>34.0</td>\n",
       "      <td>Johnson&amp;Johnson, Oxford/AstraZeneca, Pfizer/Bi...</td>\n",
       "      <td>World Health Organization</td>\n",
       "      <td>https://covid19.who.int/</td>\n",
       "    </tr>\n",
       "    <tr>\n",
       "      <th>3</th>\n",
       "      <td>Afghanistan</td>\n",
       "      <td>AFG</td>\n",
       "      <td>2021-02-25</td>\n",
       "      <td>NaN</td>\n",
       "      <td>NaN</td>\n",
       "      <td>NaN</td>\n",
       "      <td>NaN</td>\n",
       "      <td>1367.0</td>\n",
       "      <td>NaN</td>\n",
       "      <td>NaN</td>\n",
       "      <td>NaN</td>\n",
       "      <td>34.0</td>\n",
       "      <td>Johnson&amp;Johnson, Oxford/AstraZeneca, Pfizer/Bi...</td>\n",
       "      <td>World Health Organization</td>\n",
       "      <td>https://covid19.who.int/</td>\n",
       "    </tr>\n",
       "    <tr>\n",
       "      <th>4</th>\n",
       "      <td>Afghanistan</td>\n",
       "      <td>AFG</td>\n",
       "      <td>2021-02-26</td>\n",
       "      <td>NaN</td>\n",
       "      <td>NaN</td>\n",
       "      <td>NaN</td>\n",
       "      <td>NaN</td>\n",
       "      <td>1367.0</td>\n",
       "      <td>NaN</td>\n",
       "      <td>NaN</td>\n",
       "      <td>NaN</td>\n",
       "      <td>34.0</td>\n",
       "      <td>Johnson&amp;Johnson, Oxford/AstraZeneca, Pfizer/Bi...</td>\n",
       "      <td>World Health Organization</td>\n",
       "      <td>https://covid19.who.int/</td>\n",
       "    </tr>\n",
       "    <tr>\n",
       "      <th>...</th>\n",
       "      <td>...</td>\n",
       "      <td>...</td>\n",
       "      <td>...</td>\n",
       "      <td>...</td>\n",
       "      <td>...</td>\n",
       "      <td>...</td>\n",
       "      <td>...</td>\n",
       "      <td>...</td>\n",
       "      <td>...</td>\n",
       "      <td>...</td>\n",
       "      <td>...</td>\n",
       "      <td>...</td>\n",
       "      <td>...</td>\n",
       "      <td>...</td>\n",
       "      <td>...</td>\n",
       "    </tr>\n",
       "    <tr>\n",
       "      <th>53590</th>\n",
       "      <td>Zimbabwe</td>\n",
       "      <td>ZWE</td>\n",
       "      <td>2021-10-22</td>\n",
       "      <td>5814790.0</td>\n",
       "      <td>3271638.0</td>\n",
       "      <td>2543152.0</td>\n",
       "      <td>17507.0</td>\n",
       "      <td>20007.0</td>\n",
       "      <td>38.53</td>\n",
       "      <td>21.68</td>\n",
       "      <td>16.85</td>\n",
       "      <td>1326.0</td>\n",
       "      <td>Oxford/AstraZeneca, Sinopharm/Beijing, Sinovac...</td>\n",
       "      <td>Ministry of Health</td>\n",
       "      <td>https://www.arcgis.com/home/webmap/viewer.html...</td>\n",
       "    </tr>\n",
       "    <tr>\n",
       "      <th>53591</th>\n",
       "      <td>Zimbabwe</td>\n",
       "      <td>ZWE</td>\n",
       "      <td>2021-10-23</td>\n",
       "      <td>5826876.0</td>\n",
       "      <td>3276746.0</td>\n",
       "      <td>2550130.0</td>\n",
       "      <td>12086.0</td>\n",
       "      <td>19845.0</td>\n",
       "      <td>38.61</td>\n",
       "      <td>21.71</td>\n",
       "      <td>16.90</td>\n",
       "      <td>1315.0</td>\n",
       "      <td>Oxford/AstraZeneca, Sinopharm/Beijing, Sinovac...</td>\n",
       "      <td>Ministry of Health</td>\n",
       "      <td>https://www.arcgis.com/home/webmap/viewer.html...</td>\n",
       "    </tr>\n",
       "    <tr>\n",
       "      <th>53592</th>\n",
       "      <td>Zimbabwe</td>\n",
       "      <td>ZWE</td>\n",
       "      <td>2021-10-24</td>\n",
       "      <td>5836363.0</td>\n",
       "      <td>3281618.0</td>\n",
       "      <td>2554745.0</td>\n",
       "      <td>9487.0</td>\n",
       "      <td>19241.0</td>\n",
       "      <td>38.67</td>\n",
       "      <td>21.74</td>\n",
       "      <td>16.93</td>\n",
       "      <td>1275.0</td>\n",
       "      <td>Oxford/AstraZeneca, Sinopharm/Beijing, Sinovac...</td>\n",
       "      <td>Ministry of Health</td>\n",
       "      <td>https://www.arcgis.com/home/webmap/viewer.html...</td>\n",
       "    </tr>\n",
       "    <tr>\n",
       "      <th>53593</th>\n",
       "      <td>Zimbabwe</td>\n",
       "      <td>ZWE</td>\n",
       "      <td>2021-10-25</td>\n",
       "      <td>5848934.0</td>\n",
       "      <td>3287996.0</td>\n",
       "      <td>2560938.0</td>\n",
       "      <td>12571.0</td>\n",
       "      <td>15135.0</td>\n",
       "      <td>38.75</td>\n",
       "      <td>21.79</td>\n",
       "      <td>16.97</td>\n",
       "      <td>1003.0</td>\n",
       "      <td>Oxford/AstraZeneca, Sinopharm/Beijing, Sinovac...</td>\n",
       "      <td>Ministry of Health</td>\n",
       "      <td>https://www.arcgis.com/home/webmap/viewer.html...</td>\n",
       "    </tr>\n",
       "    <tr>\n",
       "      <th>53594</th>\n",
       "      <td>Zimbabwe</td>\n",
       "      <td>ZWE</td>\n",
       "      <td>2021-10-26</td>\n",
       "      <td>5866629.0</td>\n",
       "      <td>3294687.0</td>\n",
       "      <td>2571942.0</td>\n",
       "      <td>17695.0</td>\n",
       "      <td>15697.0</td>\n",
       "      <td>38.87</td>\n",
       "      <td>21.83</td>\n",
       "      <td>17.04</td>\n",
       "      <td>1040.0</td>\n",
       "      <td>Oxford/AstraZeneca, Sinopharm/Beijing, Sinovac...</td>\n",
       "      <td>Ministry of Health</td>\n",
       "      <td>https://www.arcgis.com/home/webmap/viewer.html...</td>\n",
       "    </tr>\n",
       "  </tbody>\n",
       "</table>\n",
       "<p>53595 rows × 15 columns</p>\n",
       "</div>"
      ],
      "text/plain": [
       "           country iso_code        date  total_vaccinations  \\\n",
       "0      Afghanistan      AFG  2021-02-22                 0.0   \n",
       "1      Afghanistan      AFG  2021-02-23                 NaN   \n",
       "2      Afghanistan      AFG  2021-02-24                 NaN   \n",
       "3      Afghanistan      AFG  2021-02-25                 NaN   \n",
       "4      Afghanistan      AFG  2021-02-26                 NaN   \n",
       "...            ...      ...         ...                 ...   \n",
       "53590     Zimbabwe      ZWE  2021-10-22           5814790.0   \n",
       "53591     Zimbabwe      ZWE  2021-10-23           5826876.0   \n",
       "53592     Zimbabwe      ZWE  2021-10-24           5836363.0   \n",
       "53593     Zimbabwe      ZWE  2021-10-25           5848934.0   \n",
       "53594     Zimbabwe      ZWE  2021-10-26           5866629.0   \n",
       "\n",
       "       people_vaccinated  people_fully_vaccinated  daily_vaccinations_raw  \\\n",
       "0                    0.0                      NaN                     NaN   \n",
       "1                    NaN                      NaN                     NaN   \n",
       "2                    NaN                      NaN                     NaN   \n",
       "3                    NaN                      NaN                     NaN   \n",
       "4                    NaN                      NaN                     NaN   \n",
       "...                  ...                      ...                     ...   \n",
       "53590          3271638.0                2543152.0                 17507.0   \n",
       "53591          3276746.0                2550130.0                 12086.0   \n",
       "53592          3281618.0                2554745.0                  9487.0   \n",
       "53593          3287996.0                2560938.0                 12571.0   \n",
       "53594          3294687.0                2571942.0                 17695.0   \n",
       "\n",
       "       daily_vaccinations  total_vaccinations_per_hundred  \\\n",
       "0                     NaN                            0.00   \n",
       "1                  1367.0                             NaN   \n",
       "2                  1367.0                             NaN   \n",
       "3                  1367.0                             NaN   \n",
       "4                  1367.0                             NaN   \n",
       "...                   ...                             ...   \n",
       "53590             20007.0                           38.53   \n",
       "53591             19845.0                           38.61   \n",
       "53592             19241.0                           38.67   \n",
       "53593             15135.0                           38.75   \n",
       "53594             15697.0                           38.87   \n",
       "\n",
       "       people_vaccinated_per_hundred  people_fully_vaccinated_per_hundred  \\\n",
       "0                               0.00                                  NaN   \n",
       "1                                NaN                                  NaN   \n",
       "2                                NaN                                  NaN   \n",
       "3                                NaN                                  NaN   \n",
       "4                                NaN                                  NaN   \n",
       "...                              ...                                  ...   \n",
       "53590                          21.68                                16.85   \n",
       "53591                          21.71                                16.90   \n",
       "53592                          21.74                                16.93   \n",
       "53593                          21.79                                16.97   \n",
       "53594                          21.83                                17.04   \n",
       "\n",
       "       daily_vaccinations_per_million  \\\n",
       "0                                 NaN   \n",
       "1                                34.0   \n",
       "2                                34.0   \n",
       "3                                34.0   \n",
       "4                                34.0   \n",
       "...                               ...   \n",
       "53590                          1326.0   \n",
       "53591                          1315.0   \n",
       "53592                          1275.0   \n",
       "53593                          1003.0   \n",
       "53594                          1040.0   \n",
       "\n",
       "                                                vaccines  \\\n",
       "0      Johnson&Johnson, Oxford/AstraZeneca, Pfizer/Bi...   \n",
       "1      Johnson&Johnson, Oxford/AstraZeneca, Pfizer/Bi...   \n",
       "2      Johnson&Johnson, Oxford/AstraZeneca, Pfizer/Bi...   \n",
       "3      Johnson&Johnson, Oxford/AstraZeneca, Pfizer/Bi...   \n",
       "4      Johnson&Johnson, Oxford/AstraZeneca, Pfizer/Bi...   \n",
       "...                                                  ...   \n",
       "53590  Oxford/AstraZeneca, Sinopharm/Beijing, Sinovac...   \n",
       "53591  Oxford/AstraZeneca, Sinopharm/Beijing, Sinovac...   \n",
       "53592  Oxford/AstraZeneca, Sinopharm/Beijing, Sinovac...   \n",
       "53593  Oxford/AstraZeneca, Sinopharm/Beijing, Sinovac...   \n",
       "53594  Oxford/AstraZeneca, Sinopharm/Beijing, Sinovac...   \n",
       "\n",
       "                     source_name  \\\n",
       "0      World Health Organization   \n",
       "1      World Health Organization   \n",
       "2      World Health Organization   \n",
       "3      World Health Organization   \n",
       "4      World Health Organization   \n",
       "...                          ...   \n",
       "53590         Ministry of Health   \n",
       "53591         Ministry of Health   \n",
       "53592         Ministry of Health   \n",
       "53593         Ministry of Health   \n",
       "53594         Ministry of Health   \n",
       "\n",
       "                                          source_website  \n",
       "0                               https://covid19.who.int/  \n",
       "1                               https://covid19.who.int/  \n",
       "2                               https://covid19.who.int/  \n",
       "3                               https://covid19.who.int/  \n",
       "4                               https://covid19.who.int/  \n",
       "...                                                  ...  \n",
       "53590  https://www.arcgis.com/home/webmap/viewer.html...  \n",
       "53591  https://www.arcgis.com/home/webmap/viewer.html...  \n",
       "53592  https://www.arcgis.com/home/webmap/viewer.html...  \n",
       "53593  https://www.arcgis.com/home/webmap/viewer.html...  \n",
       "53594  https://www.arcgis.com/home/webmap/viewer.html...  \n",
       "\n",
       "[53595 rows x 15 columns]"
      ]
     },
     "execution_count": 2,
     "metadata": {},
     "output_type": "execute_result"
    }
   ],
   "source": [
    "data1 = pd.read_csv('./country_vaccinations.csv')\n",
    "data2 = pd.read_csv('./country_vaccinations_by_manufacturer.csv')\n",
    "data1"
   ]
  },
  {
   "cell_type": "code",
   "execution_count": 4,
   "metadata": {},
   "outputs": [
    {
     "data": {
      "text/html": [
       "<div>\n",
       "<style scoped>\n",
       "    .dataframe tbody tr th:only-of-type {\n",
       "        vertical-align: middle;\n",
       "    }\n",
       "\n",
       "    .dataframe tbody tr th {\n",
       "        vertical-align: top;\n",
       "    }\n",
       "\n",
       "    .dataframe thead th {\n",
       "        text-align: right;\n",
       "    }\n",
       "</style>\n",
       "<table border=\"1\" class=\"dataframe\">\n",
       "  <thead>\n",
       "    <tr style=\"text-align: right;\">\n",
       "      <th></th>\n",
       "      <th>location</th>\n",
       "      <th>date</th>\n",
       "      <th>vaccine</th>\n",
       "      <th>total_vaccinations</th>\n",
       "    </tr>\n",
       "  </thead>\n",
       "  <tbody>\n",
       "    <tr>\n",
       "      <th>0</th>\n",
       "      <td>Austria</td>\n",
       "      <td>2021-01-08</td>\n",
       "      <td>Johnson&amp;Johnson</td>\n",
       "      <td>0</td>\n",
       "    </tr>\n",
       "    <tr>\n",
       "      <th>1</th>\n",
       "      <td>Austria</td>\n",
       "      <td>2021-01-08</td>\n",
       "      <td>Moderna</td>\n",
       "      <td>0</td>\n",
       "    </tr>\n",
       "    <tr>\n",
       "      <th>2</th>\n",
       "      <td>Austria</td>\n",
       "      <td>2021-01-08</td>\n",
       "      <td>Oxford/AstraZeneca</td>\n",
       "      <td>0</td>\n",
       "    </tr>\n",
       "    <tr>\n",
       "      <th>3</th>\n",
       "      <td>Austria</td>\n",
       "      <td>2021-01-08</td>\n",
       "      <td>Pfizer/BioNTech</td>\n",
       "      <td>31201</td>\n",
       "    </tr>\n",
       "    <tr>\n",
       "      <th>4</th>\n",
       "      <td>Austria</td>\n",
       "      <td>2021-01-15</td>\n",
       "      <td>Johnson&amp;Johnson</td>\n",
       "      <td>0</td>\n",
       "    </tr>\n",
       "  </tbody>\n",
       "</table>\n",
       "</div>"
      ],
      "text/plain": [
       "  location        date             vaccine  total_vaccinations\n",
       "0  Austria  2021-01-08     Johnson&Johnson                   0\n",
       "1  Austria  2021-01-08             Moderna                   0\n",
       "2  Austria  2021-01-08  Oxford/AstraZeneca                   0\n",
       "3  Austria  2021-01-08     Pfizer/BioNTech               31201\n",
       "4  Austria  2021-01-15     Johnson&Johnson                   0"
      ]
     },
     "execution_count": 4,
     "metadata": {},
     "output_type": "execute_result"
    }
   ],
   "source": [
    "data2.head()"
   ]
  },
  {
   "cell_type": "code",
   "execution_count": 4,
   "metadata": {},
   "outputs": [],
   "source": [
    "country_vaccine = data1.groupby(['country', 'iso_code', 'vaccines'])['total_vaccinations','total_vaccinations_per_hundred', 'daily_vaccinations',\n",
    "'daily_vaccinations_per_million', 'people_vaccinated', 'people_vaccinated_per_hundred', 'people_fully_vaccinated', 'people_fully_vaccinated_per_hundred'].max().reset_index()\n",
    "\n",
    "country_vaccine.columns = ['Country', 'ISO Code', 'Vaccines', 'Total Vaccinations', 'Percentage', 'Daily vaccinations',\n",
    "'Daily vaccinations per million', 'People vaccinated', 'People vaccinated percentage', 'People fully vaccinated', 'People fully vaccinated percentage']"
   ]
  },
  {
   "cell_type": "code",
   "execution_count": 19,
   "metadata": {},
   "outputs": [
    {
     "data": {
      "text/html": [
       "<div>\n",
       "<style scoped>\n",
       "    .dataframe tbody tr th:only-of-type {\n",
       "        vertical-align: middle;\n",
       "    }\n",
       "\n",
       "    .dataframe tbody tr th {\n",
       "        vertical-align: top;\n",
       "    }\n",
       "\n",
       "    .dataframe thead th {\n",
       "        text-align: right;\n",
       "    }\n",
       "</style>\n",
       "<table border=\"1\" class=\"dataframe\">\n",
       "  <thead>\n",
       "    <tr style=\"text-align: right;\">\n",
       "      <th></th>\n",
       "      <th>Country</th>\n",
       "      <th>ISO Code</th>\n",
       "      <th>Vaccines</th>\n",
       "      <th>Total Vaccinations</th>\n",
       "      <th>Percentage</th>\n",
       "      <th>Daily vaccinations</th>\n",
       "      <th>Daily vaccinations per million</th>\n",
       "      <th>People vaccinated</th>\n",
       "      <th>People vaccinated percentage</th>\n",
       "      <th>People fully vaccinated</th>\n",
       "      <th>People fully vaccinated percentage</th>\n",
       "    </tr>\n",
       "  </thead>\n",
       "  <tbody>\n",
       "    <tr>\n",
       "      <th>0</th>\n",
       "      <td>Afghanistan</td>\n",
       "      <td>AFG</td>\n",
       "      <td>Johnson&amp;Johnson, Oxford/AstraZeneca, Pfizer/Bi...</td>\n",
       "      <td>2369625.0</td>\n",
       "      <td>5.95</td>\n",
       "      <td>70761.0</td>\n",
       "      <td>1776.0</td>\n",
       "      <td>828601.0</td>\n",
       "      <td>2.08</td>\n",
       "      <td>430744.0</td>\n",
       "      <td>1.08</td>\n",
       "    </tr>\n",
       "    <tr>\n",
       "      <th>1</th>\n",
       "      <td>Albania</td>\n",
       "      <td>ALB</td>\n",
       "      <td>Oxford/AstraZeneca, Pfizer/BioNTech, Sinovac, ...</td>\n",
       "      <td>1873903.0</td>\n",
       "      <td>65.23</td>\n",
       "      <td>17565.0</td>\n",
       "      <td>6114.0</td>\n",
       "      <td>998130.0</td>\n",
       "      <td>34.74</td>\n",
       "      <td>875773.0</td>\n",
       "      <td>30.48</td>\n",
       "    </tr>\n",
       "    <tr>\n",
       "      <th>2</th>\n",
       "      <td>Algeria</td>\n",
       "      <td>DZA</td>\n",
       "      <td>Oxford/AstraZeneca, Sinopharm/Beijing, Sinovac...</td>\n",
       "      <td>11080739.0</td>\n",
       "      <td>24.84</td>\n",
       "      <td>256927.0</td>\n",
       "      <td>5759.0</td>\n",
       "      <td>6328806.0</td>\n",
       "      <td>14.18</td>\n",
       "      <td>4751933.0</td>\n",
       "      <td>10.65</td>\n",
       "    </tr>\n",
       "    <tr>\n",
       "      <th>3</th>\n",
       "      <td>Andorra</td>\n",
       "      <td>AND</td>\n",
       "      <td>Oxford/AstraZeneca, Pfizer/BioNTech</td>\n",
       "      <td>102032.0</td>\n",
       "      <td>131.90</td>\n",
       "      <td>1762.0</td>\n",
       "      <td>22778.0</td>\n",
       "      <td>54312.0</td>\n",
       "      <td>70.21</td>\n",
       "      <td>47720.0</td>\n",
       "      <td>61.69</td>\n",
       "    </tr>\n",
       "    <tr>\n",
       "      <th>4</th>\n",
       "      <td>Angola</td>\n",
       "      <td>AGO</td>\n",
       "      <td>Oxford/AstraZeneca</td>\n",
       "      <td>5940208.0</td>\n",
       "      <td>17.51</td>\n",
       "      <td>183173.0</td>\n",
       "      <td>5398.0</td>\n",
       "      <td>4511991.0</td>\n",
       "      <td>13.30</td>\n",
       "      <td>1604661.0</td>\n",
       "      <td>4.73</td>\n",
       "    </tr>\n",
       "    <tr>\n",
       "      <th>...</th>\n",
       "      <td>...</td>\n",
       "      <td>...</td>\n",
       "      <td>...</td>\n",
       "      <td>...</td>\n",
       "      <td>...</td>\n",
       "      <td>...</td>\n",
       "      <td>...</td>\n",
       "      <td>...</td>\n",
       "      <td>...</td>\n",
       "      <td>...</td>\n",
       "      <td>...</td>\n",
       "    </tr>\n",
       "    <tr>\n",
       "      <th>218</th>\n",
       "      <td>Wales</td>\n",
       "      <td>OWID_WLS</td>\n",
       "      <td>Moderna, Oxford/AstraZeneca, Pfizer/BioNTech</td>\n",
       "      <td>5054813.0</td>\n",
       "      <td>159.46</td>\n",
       "      <td>57187.0</td>\n",
       "      <td>18040.0</td>\n",
       "      <td>2432956.0</td>\n",
       "      <td>76.75</td>\n",
       "      <td>2240960.0</td>\n",
       "      <td>70.69</td>\n",
       "    </tr>\n",
       "    <tr>\n",
       "      <th>219</th>\n",
       "      <td>Wallis and Futuna</td>\n",
       "      <td>WLF</td>\n",
       "      <td>Moderna</td>\n",
       "      <td>11361.0</td>\n",
       "      <td>102.41</td>\n",
       "      <td>343.0</td>\n",
       "      <td>30918.0</td>\n",
       "      <td>5897.0</td>\n",
       "      <td>53.15</td>\n",
       "      <td>5464.0</td>\n",
       "      <td>49.25</td>\n",
       "    </tr>\n",
       "    <tr>\n",
       "      <th>220</th>\n",
       "      <td>Yemen</td>\n",
       "      <td>YEM</td>\n",
       "      <td>Johnson&amp;Johnson, Oxford/AstraZeneca, Sinovac</td>\n",
       "      <td>356173.0</td>\n",
       "      <td>1.17</td>\n",
       "      <td>10240.0</td>\n",
       "      <td>336.0</td>\n",
       "      <td>308025.0</td>\n",
       "      <td>1.01</td>\n",
       "      <td>48148.0</td>\n",
       "      <td>0.16</td>\n",
       "    </tr>\n",
       "    <tr>\n",
       "      <th>221</th>\n",
       "      <td>Zambia</td>\n",
       "      <td>ZMB</td>\n",
       "      <td>Johnson&amp;Johnson, Oxford/AstraZeneca, Sinopharm...</td>\n",
       "      <td>871881.0</td>\n",
       "      <td>4.61</td>\n",
       "      <td>13814.0</td>\n",
       "      <td>730.0</td>\n",
       "      <td>311049.0</td>\n",
       "      <td>1.64</td>\n",
       "      <td>511004.0</td>\n",
       "      <td>2.70</td>\n",
       "    </tr>\n",
       "    <tr>\n",
       "      <th>222</th>\n",
       "      <td>Zimbabwe</td>\n",
       "      <td>ZWE</td>\n",
       "      <td>Oxford/AstraZeneca, Sinopharm/Beijing, Sinovac...</td>\n",
       "      <td>5866629.0</td>\n",
       "      <td>38.87</td>\n",
       "      <td>75000.0</td>\n",
       "      <td>4969.0</td>\n",
       "      <td>3294687.0</td>\n",
       "      <td>21.83</td>\n",
       "      <td>2571942.0</td>\n",
       "      <td>17.04</td>\n",
       "    </tr>\n",
       "  </tbody>\n",
       "</table>\n",
       "<p>223 rows × 11 columns</p>\n",
       "</div>"
      ],
      "text/plain": [
       "               Country  ISO Code  \\\n",
       "0          Afghanistan       AFG   \n",
       "1              Albania       ALB   \n",
       "2              Algeria       DZA   \n",
       "3              Andorra       AND   \n",
       "4               Angola       AGO   \n",
       "..                 ...       ...   \n",
       "218              Wales  OWID_WLS   \n",
       "219  Wallis and Futuna       WLF   \n",
       "220              Yemen       YEM   \n",
       "221             Zambia       ZMB   \n",
       "222           Zimbabwe       ZWE   \n",
       "\n",
       "                                              Vaccines  Total Vaccinations  \\\n",
       "0    Johnson&Johnson, Oxford/AstraZeneca, Pfizer/Bi...           2369625.0   \n",
       "1    Oxford/AstraZeneca, Pfizer/BioNTech, Sinovac, ...           1873903.0   \n",
       "2    Oxford/AstraZeneca, Sinopharm/Beijing, Sinovac...          11080739.0   \n",
       "3                  Oxford/AstraZeneca, Pfizer/BioNTech            102032.0   \n",
       "4                                   Oxford/AstraZeneca           5940208.0   \n",
       "..                                                 ...                 ...   \n",
       "218       Moderna, Oxford/AstraZeneca, Pfizer/BioNTech           5054813.0   \n",
       "219                                            Moderna             11361.0   \n",
       "220       Johnson&Johnson, Oxford/AstraZeneca, Sinovac            356173.0   \n",
       "221  Johnson&Johnson, Oxford/AstraZeneca, Sinopharm...            871881.0   \n",
       "222  Oxford/AstraZeneca, Sinopharm/Beijing, Sinovac...           5866629.0   \n",
       "\n",
       "     Percentage  Daily vaccinations  Daily vaccinations per million  \\\n",
       "0          5.95             70761.0                          1776.0   \n",
       "1         65.23             17565.0                          6114.0   \n",
       "2         24.84            256927.0                          5759.0   \n",
       "3        131.90              1762.0                         22778.0   \n",
       "4         17.51            183173.0                          5398.0   \n",
       "..          ...                 ...                             ...   \n",
       "218      159.46             57187.0                         18040.0   \n",
       "219      102.41               343.0                         30918.0   \n",
       "220        1.17             10240.0                           336.0   \n",
       "221        4.61             13814.0                           730.0   \n",
       "222       38.87             75000.0                          4969.0   \n",
       "\n",
       "     People vaccinated  People vaccinated percentage  People fully vaccinated  \\\n",
       "0             828601.0                          2.08                 430744.0   \n",
       "1             998130.0                         34.74                 875773.0   \n",
       "2            6328806.0                         14.18                4751933.0   \n",
       "3              54312.0                         70.21                  47720.0   \n",
       "4            4511991.0                         13.30                1604661.0   \n",
       "..                 ...                           ...                      ...   \n",
       "218          2432956.0                         76.75                2240960.0   \n",
       "219             5897.0                         53.15                   5464.0   \n",
       "220           308025.0                          1.01                  48148.0   \n",
       "221           311049.0                          1.64                 511004.0   \n",
       "222          3294687.0                         21.83                2571942.0   \n",
       "\n",
       "     People fully vaccinated percentage  \n",
       "0                                  1.08  \n",
       "1                                 30.48  \n",
       "2                                 10.65  \n",
       "3                                 61.69  \n",
       "4                                  4.73  \n",
       "..                                  ...  \n",
       "218                               70.69  \n",
       "219                               49.25  \n",
       "220                                0.16  \n",
       "221                                2.70  \n",
       "222                               17.04  \n",
       "\n",
       "[223 rows x 11 columns]"
      ]
     },
     "execution_count": 19,
     "metadata": {},
     "output_type": "execute_result"
    }
   ],
   "source": [
    "country_vaccine"
   ]
  },
  {
   "cell_type": "code",
   "execution_count": 4,
   "metadata": {},
   "outputs": [
    {
     "name": "stdout",
     "output_type": "stream",
     "text": [
      "Vaccines : Johnson&Johnson, Oxford/AstraZeneca, Pfizer/BioNTech, Sinopharm/Beijing:\n",
      "Countries : ['Afghanistan', 'Cameroon']\n",
      "\n",
      "Vaccines : Oxford/AstraZeneca, Pfizer/BioNTech, Sinovac, Sputnik V:\n",
      "Countries : ['Albania', 'Azerbaijan', 'Bosnia and Herzegovina', 'Oman']\n",
      "\n",
      "Vaccines : Oxford/AstraZeneca, Sinopharm/Beijing, Sinovac, Sputnik V:\n",
      "Countries : ['Algeria', 'Armenia', 'Zimbabwe']\n",
      "\n",
      "Vaccines : Oxford/AstraZeneca, Pfizer/BioNTech:\n",
      "Countries : ['Andorra', 'Bermuda', 'Cayman Islands', 'Costa Rica', 'Grenada', 'Kosovo', 'Panama', 'Saint Kitts and Nevis', 'Saint Lucia', 'Saudi Arabia', 'Slovenia']\n",
      "\n",
      "Vaccines : Oxford/AstraZeneca:\n",
      "Countries : ['Angola', 'Anguilla', 'Democratic Republic of Congo', 'Ethiopia', 'Falkland Islands', 'Fiji', 'Kiribati', 'Lesotho', 'Liberia', 'Madagascar', 'Mali', 'Montserrat', 'Nauru', 'Nigeria', 'Niue', 'Papua New Guinea', 'Pitcairn', 'Saint Helena', 'Saint Vincent and the Grenadines', 'Samoa', 'Sao Tome and Principe', 'Solomon Islands', 'Togo', 'Tonga', 'Tuvalu', 'Uganda', 'Vanuatu']\n",
      "\n",
      "Vaccines : Oxford/AstraZeneca, Pfizer/BioNTech, Sputnik V:\n",
      "Countries : ['Antigua and Barbuda', 'Nicaragua']\n",
      "\n",
      "Vaccines : CanSino, Moderna, Oxford/AstraZeneca, Pfizer/BioNTech, Sinopharm/Beijing, Sputnik V:\n",
      "Countries : ['Argentina']\n",
      "\n",
      "Vaccines : Pfizer/BioNTech:\n",
      "Countries : ['Aruba', 'Cook Islands', 'Gibraltar', 'Kuwait', 'Monaco', 'New Caledonia', 'New Zealand', 'Tokelau', 'Turks and Caicos Islands']\n",
      "\n",
      "Vaccines : Moderna, Oxford/AstraZeneca, Pfizer/BioNTech:\n",
      "Countries : ['Australia', 'Canada', 'England', 'Finland', 'Guernsey', 'Isle of Man', 'Japan', 'Jersey', 'Northern Ireland', 'Rwanda', 'Scotland', 'Sint Maarten (Dutch part)', 'Sweden', 'United Kingdom', 'Wales']\n",
      "\n",
      "Vaccines : Johnson&Johnson, Moderna, Oxford/AstraZeneca, Pfizer/BioNTech:\n",
      "Countries : ['Austria', 'Belgium', 'Bulgaria', 'Croatia', 'Cyprus', 'Czechia', 'Estonia', 'France', 'Germany', 'Greece', 'Iceland', 'Ireland', 'Italy', 'Jamaica', 'Latvia', 'Lithuania', 'Luxembourg', 'Malta', 'Netherlands', 'Poland', 'Portugal', 'Romania', 'South Korea', 'Spain']\n",
      "\n",
      "Vaccines : Johnson&Johnson, Oxford/AstraZeneca, Pfizer/BioNTech:\n",
      "Countries : ['Bahamas', 'Eswatini']\n",
      "\n",
      "Vaccines : Oxford/AstraZeneca, Pfizer/BioNTech, Sinopharm/Beijing, Sputnik V:\n",
      "Countries : ['Bahrain', 'Iraq', 'Jordan', 'Lebanon', 'Mongolia', 'Montenegro', 'Serbia']\n",
      "\n",
      "Vaccines : Moderna, Oxford/AstraZeneca, Pfizer/BioNTech, Sinopharm/Beijing:\n",
      "Countries : ['Bangladesh', 'Bhutan', 'Cape Verde']\n",
      "\n",
      "Vaccines : Oxford/AstraZeneca, Pfizer/BioNTech, Sinopharm/Beijing:\n",
      "Countries : ['Barbados', 'Dominica', 'Maldives', 'Peru', 'Suriname', 'Trinidad and Tobago']\n",
      "\n",
      "Vaccines : Sinopharm/Beijing, Sputnik V:\n",
      "Countries : ['Belarus', 'Kyrgyzstan']\n",
      "\n",
      "Vaccines : Oxford/AstraZeneca, Sinopharm/Beijing:\n",
      "Countries : ['Belize', 'Brunei', 'Guinea-Bissau', 'Mauritania', 'Mozambique', 'Myanmar', 'Namibia', 'Niger', 'Senegal', 'Sierra Leone']\n",
      "\n",
      "Vaccines : Oxford/AstraZeneca, Sinovac:\n",
      "Countries : ['Benin', 'Timor']\n",
      "\n",
      "Vaccines : Johnson&Johnson, Oxford/AstraZeneca, Pfizer/BioNTech, Sinopharm/Beijing, Sputnik V:\n",
      "Countries : ['Bolivia', \"Cote d'Ivoire\", 'Moldova', 'Morocco']\n",
      "\n",
      "Vaccines : Moderna, Pfizer/BioNTech:\n",
      "Countries : ['Bonaire Sint Eustatius and Saba', 'Curacao', 'Faeroe Islands', 'Israel', 'Liechtenstein', 'Norway', 'Qatar', 'Switzerland']\n",
      "\n",
      "Vaccines : Moderna, Oxford/AstraZeneca, Pfizer/BioNTech, Sinovac:\n",
      "Countries : ['Botswana', 'Ukraine']\n",
      "\n",
      "Vaccines : Johnson&Johnson, Oxford/AstraZeneca, Pfizer/BioNTech, Sinovac:\n",
      "Countries : ['Brazil']\n",
      "\n",
      "Vaccines : Johnson&Johnson, Oxford/AstraZeneca:\n",
      "Countries : ['British Virgin Islands', 'Malawi', 'South Sudan']\n",
      "\n",
      "Vaccines : Johnson&Johnson, Oxford/AstraZeneca, Sinopharm/Beijing:\n",
      "Countries : ['Burkina Faso', 'Gambia', 'Zambia']\n",
      "\n",
      "Vaccines : Sinopharm/Beijing:\n",
      "Countries : ['Burundi', 'Chad', 'Equatorial Guinea', 'Gabon']\n",
      "\n",
      "Vaccines : Johnson&Johnson, Oxford/AstraZeneca, Sinopharm/Beijing, Sinovac:\n",
      "Countries : ['Cambodia', 'Somalia']\n",
      "\n",
      "Vaccines : Covaxin, Oxford/AstraZeneca:\n",
      "Countries : ['Central African Republic']\n",
      "\n",
      "Vaccines : CanSino, Oxford/AstraZeneca, Pfizer/BioNTech, Sinovac:\n",
      "Countries : ['Chile', 'Ecuador', 'Malaysia']\n",
      "\n",
      "Vaccines : CanSino, Sinopharm/Beijing, Sinopharm/Wuhan, Sinovac, ZF2001:\n",
      "Countries : ['China']\n",
      "\n",
      "Vaccines : Johnson&Johnson, Moderna, Oxford/AstraZeneca, Pfizer/BioNTech, Sinovac:\n",
      "Countries : ['Colombia']\n",
      "\n",
      "Vaccines : Covaxin, Oxford/AstraZeneca, Sinopharm/Beijing:\n",
      "Countries : ['Comoros', 'Mauritius']\n",
      "\n",
      "Vaccines : Moderna, Oxford/AstraZeneca, Sinopharm/Beijing, Sputnik V:\n",
      "Countries : ['Congo']\n",
      "\n",
      "Vaccines : Abdala, Soberana02:\n",
      "Countries : ['Cuba']\n",
      "\n",
      "Vaccines : Johnson&Johnson, Moderna, Pfizer/BioNTech:\n",
      "Countries : ['Denmark', 'United States']\n",
      "\n",
      "Vaccines : Johnson&Johnson, Oxford/AstraZeneca, Pfizer/BioNTech, Sinopharm/Beijing, Sinovac, Sputnik V:\n",
      "Countries : ['Djibouti', 'Egypt', 'Laos']\n",
      "\n",
      "Vaccines : Oxford/AstraZeneca, Pfizer/BioNTech, Sinopharm/Beijing, Sinovac:\n",
      "Countries : ['Dominican Republic', 'El Salvador', 'Georgia', 'Thailand']\n",
      "\n",
      "Vaccines : Johnson&Johnson, Pfizer/BioNTech:\n",
      "Countries : ['French Polynesia', 'South Africa']\n",
      "\n",
      "Vaccines : Oxford/AstraZeneca, Sputnik V:\n",
      "Countries : ['Ghana', 'Guyana', 'Kenya']\n",
      "\n",
      "Vaccines : Moderna:\n",
      "Countries : ['Greenland', 'Wallis and Futuna']\n",
      "\n",
      "Vaccines : Moderna, Oxford/AstraZeneca:\n",
      "Countries : ['Guatemala']\n",
      "\n",
      "Vaccines : Sputnik V:\n",
      "Countries : ['Guinea']\n",
      "\n",
      "Vaccines : Johnson&Johnson, Moderna:\n",
      "Countries : ['Haiti']\n",
      "\n",
      "Vaccines : Johnson&Johnson, Moderna, Oxford/AstraZeneca, Pfizer/BioNTech, Sputnik V:\n",
      "Countries : ['Honduras']\n",
      "\n",
      "Vaccines : Pfizer/BioNTech, Sinovac:\n",
      "Countries : ['Hong Kong', 'Turkey']\n",
      "\n",
      "Vaccines : Johnson&Johnson, Moderna, Oxford/AstraZeneca, Pfizer/BioNTech, Sinopharm/Beijing, Sputnik V:\n",
      "Countries : ['Hungary']\n",
      "\n",
      "Vaccines : Covaxin, Oxford/AstraZeneca, Sputnik V:\n",
      "Countries : ['India']\n",
      "\n",
      "Vaccines : Moderna, Oxford/AstraZeneca, Pfizer/BioNTech, Sinopharm/Beijing, Sinovac:\n",
      "Countries : ['Indonesia']\n",
      "\n",
      "Vaccines : COVIran Barekat, Covaxin, Oxford/AstraZeneca, Sinopharm/Beijing, Soberana02, Sputnik V:\n",
      "Countries : ['Iran']\n",
      "\n",
      "Vaccines : QazVac, Sinopharm/Beijing, Sputnik V:\n",
      "Countries : ['Kazakhstan']\n",
      "\n",
      "Vaccines : Johnson&Johnson, Moderna, Oxford/AstraZeneca, Pfizer/BioNTech, Sinopharm/Beijing, Sinovac, Sputnik V:\n",
      "Countries : ['Libya', 'Philippines', 'Tunisia']\n",
      "\n",
      "Vaccines : Pfizer/BioNTech, Sinopharm/Beijing:\n",
      "Countries : ['Macao']\n",
      "\n",
      "Vaccines : CanSino, Johnson&Johnson, Moderna, Oxford/AstraZeneca, Pfizer/BioNTech, Sinovac, Sputnik V:\n",
      "Countries : ['Mexico']\n",
      "\n",
      "Vaccines : Covaxin, Johnson&Johnson, Oxford/AstraZeneca, Sinopharm/Beijing, Sputnik V:\n",
      "Countries : ['Nepal']\n",
      "\n",
      "Vaccines : Oxford/AstraZeneca, Pfizer/BioNTech, Sinopharm/Beijing, Sinovac, Sputnik V:\n",
      "Countries : ['North Macedonia']\n",
      "\n",
      "Vaccines : Oxford/AstraZeneca, Pfizer/BioNTech, Sinovac:\n",
      "Countries : ['Northern Cyprus', 'Uruguay']\n",
      "\n",
      "Vaccines : CanSino, Covaxin, Moderna, Oxford/AstraZeneca, Pfizer/BioNTech, Sinopharm/Beijing, Sinovac, Sputnik V:\n",
      "Countries : ['Pakistan']\n",
      "\n",
      "Vaccines : Moderna, Oxford/AstraZeneca, Pfizer/BioNTech, Sinopharm/Beijing, Sputnik Light, Sputnik V:\n",
      "Countries : ['Palestine']\n",
      "\n",
      "Vaccines : Covaxin, Moderna, Oxford/AstraZeneca, Pfizer/BioNTech, Sinopharm/Beijing, Sinovac, Sputnik V:\n",
      "Countries : ['Paraguay']\n",
      "\n",
      "Vaccines : EpiVacCorona, Sputnik V:\n",
      "Countries : ['Russia']\n",
      "\n",
      "Vaccines : Pfizer/BioNTech, Sputnik V:\n",
      "Countries : ['San Marino']\n",
      "\n",
      "Vaccines : Oxford/AstraZeneca, Sinopharm/Beijing, Sputnik V:\n",
      "Countries : ['Seychelles']\n",
      "\n",
      "Vaccines : Moderna, Pfizer/BioNTech, Sinovac:\n",
      "Countries : ['Singapore']\n",
      "\n",
      "Vaccines : Moderna, Oxford/AstraZeneca, Pfizer/BioNTech, Sputnik V:\n",
      "Countries : ['Slovakia']\n",
      "\n",
      "Vaccines : Moderna, Oxford/AstraZeneca, Pfizer/BioNTech, Sinopharm/Beijing, Sputnik V:\n",
      "Countries : ['Sri Lanka', 'Vietnam']\n",
      "\n",
      "Vaccines : Johnson&Johnson, Oxford/AstraZeneca, Pfizer/BioNTech, Sinopharm/Beijing, Sinovac:\n",
      "Countries : ['Sudan']\n",
      "\n",
      "Vaccines : Johnson&Johnson, Oxford/AstraZeneca, Sinopharm/Beijing, Sinovac, Sputnik Light, Sputnik V:\n",
      "Countries : ['Syria']\n",
      "\n",
      "Vaccines : Medigen, Moderna, Oxford/AstraZeneca, Pfizer/BioNTech:\n",
      "Countries : ['Taiwan']\n",
      "\n",
      "Vaccines : Moderna, Oxford/AstraZeneca, Pfizer/BioNTech, Sinovac, Sputnik V:\n",
      "Countries : ['Tajikistan']\n",
      "\n",
      "Vaccines : Johnson&Johnson:\n",
      "Countries : ['Tanzania']\n",
      "\n",
      "Vaccines : EpiVacCorona, Oxford/AstraZeneca, Sinopharm/Beijing, Sputnik V:\n",
      "Countries : ['Turkmenistan']\n",
      "\n",
      "Vaccines : Oxford/AstraZeneca, Pfizer/BioNTech, Sinopharm/Beijing, Sinopharm/Wuhan, Sputnik V:\n",
      "Countries : ['United Arab Emirates']\n",
      "\n",
      "Vaccines : Moderna, Oxford/AstraZeneca, Sputnik V, ZF2001:\n",
      "Countries : ['Uzbekistan']\n",
      "\n",
      "Vaccines : Abdala, Sinopharm/Beijing, Sinopharm/Wuhan, Sputnik V:\n",
      "Countries : ['Venezuela']\n",
      "\n",
      "Vaccines : Johnson&Johnson, Oxford/AstraZeneca, Sinovac:\n",
      "Countries : ['Yemen']\n",
      "\n"
     ]
    }
   ],
   "source": [
    "vaccines = country_vaccine.Vaccines.unique()\n",
    "for v in vaccines:\n",
    "    countries = country_vaccine.loc[country_vaccine.Vaccines== v, 'Country'].values\n",
    "    print(f'Vaccines : {v}:\\nCountries : {list(countries)}\\n')"
   ]
  },
  {
   "cell_type": "code",
   "execution_count": 12,
   "metadata": {},
   "outputs": [
    {
     "data": {
      "application/vnd.plotly.v1+json": {
       "config": {
        "plotlyServerURL": "https://plot.ly"
       },
       "data": [
        {
         "colorscale": [
          [
           0,
           "#636efa"
          ],
          [
           1,
           "#636efa"
          ]
         ],
         "geo": "geo",
         "hovertemplate": "color=Johnson&Johnson, Oxford/AstraZeneca, Pfizer/BioNTech, Sinopharm/Beijing<br>locations=%{location}<extra></extra>",
         "locationmode": "country names",
         "locations": [
          "Afghanistan",
          "Cameroon"
         ],
         "name": "Johnson&Johnson, Oxford/AstraZeneca, Pfizer/BioNTech, Sinopharm/Beijing",
         "showlegend": true,
         "showscale": false,
         "type": "choropleth",
         "z": [
          1,
          1
         ]
        },
        {
         "colorscale": [
          [
           0,
           "#EF553B"
          ],
          [
           1,
           "#EF553B"
          ]
         ],
         "geo": "geo",
         "hovertemplate": "color=Oxford/AstraZeneca, Pfizer/BioNTech, Sinovac, Sputnik V<br>locations=%{location}<extra></extra>",
         "locationmode": "country names",
         "locations": [
          "Albania",
          "Azerbaijan",
          "Bosnia and Herzegovina",
          "Oman"
         ],
         "name": "Oxford/AstraZeneca, Pfizer/BioNTech, Sinovac, Sputnik V",
         "showlegend": true,
         "showscale": false,
         "type": "choropleth",
         "z": [
          1,
          1,
          1,
          1
         ]
        },
        {
         "colorscale": [
          [
           0,
           "#00cc96"
          ],
          [
           1,
           "#00cc96"
          ]
         ],
         "geo": "geo",
         "hovertemplate": "color=Oxford/AstraZeneca, Sinopharm/Beijing, Sinovac, Sputnik V<br>locations=%{location}<extra></extra>",
         "locationmode": "country names",
         "locations": [
          "Algeria",
          "Armenia",
          "Zimbabwe"
         ],
         "name": "Oxford/AstraZeneca, Sinopharm/Beijing, Sinovac, Sputnik V",
         "showlegend": true,
         "showscale": false,
         "type": "choropleth",
         "z": [
          1,
          1,
          1
         ]
        },
        {
         "colorscale": [
          [
           0,
           "#ab63fa"
          ],
          [
           1,
           "#ab63fa"
          ]
         ],
         "geo": "geo",
         "hovertemplate": "color=Oxford/AstraZeneca, Pfizer/BioNTech<br>locations=%{location}<extra></extra>",
         "locationmode": "country names",
         "locations": [
          "Andorra",
          "Bermuda",
          "Cayman Islands",
          "Costa Rica",
          "Grenada",
          "Kosovo",
          "Panama",
          "Saint Kitts and Nevis",
          "Saint Lucia",
          "Saudi Arabia",
          "Slovenia"
         ],
         "name": "Oxford/AstraZeneca, Pfizer/BioNTech",
         "showlegend": true,
         "showscale": false,
         "type": "choropleth",
         "z": [
          1,
          1,
          1,
          1,
          1,
          1,
          1,
          1,
          1,
          1,
          1
         ]
        },
        {
         "colorscale": [
          [
           0,
           "#FFA15A"
          ],
          [
           1,
           "#FFA15A"
          ]
         ],
         "geo": "geo",
         "hovertemplate": "color=Oxford/AstraZeneca<br>locations=%{location}<extra></extra>",
         "locationmode": "country names",
         "locations": [
          "Angola",
          "Anguilla",
          "Democratic Republic of Congo",
          "Ethiopia",
          "Falkland Islands",
          "Fiji",
          "Kiribati",
          "Lesotho",
          "Liberia",
          "Madagascar",
          "Mali",
          "Montserrat",
          "Nauru",
          "Nigeria",
          "Niue",
          "Papua New Guinea",
          "Pitcairn",
          "Saint Helena",
          "Saint Vincent and the Grenadines",
          "Samoa",
          "Sao Tome and Principe",
          "Solomon Islands",
          "Togo",
          "Tonga",
          "Tuvalu",
          "Uganda",
          "Vanuatu"
         ],
         "name": "Oxford/AstraZeneca",
         "showlegend": true,
         "showscale": false,
         "type": "choropleth",
         "z": [
          1,
          1,
          1,
          1,
          1,
          1,
          1,
          1,
          1,
          1,
          1,
          1,
          1,
          1,
          1,
          1,
          1,
          1,
          1,
          1,
          1,
          1,
          1,
          1,
          1,
          1,
          1
         ]
        },
        {
         "colorscale": [
          [
           0,
           "#19d3f3"
          ],
          [
           1,
           "#19d3f3"
          ]
         ],
         "geo": "geo",
         "hovertemplate": "color=Oxford/AstraZeneca, Pfizer/BioNTech, Sputnik V<br>locations=%{location}<extra></extra>",
         "locationmode": "country names",
         "locations": [
          "Antigua and Barbuda",
          "Nicaragua"
         ],
         "name": "Oxford/AstraZeneca, Pfizer/BioNTech, Sputnik V",
         "showlegend": true,
         "showscale": false,
         "type": "choropleth",
         "z": [
          1,
          1
         ]
        },
        {
         "colorscale": [
          [
           0,
           "#FF6692"
          ],
          [
           1,
           "#FF6692"
          ]
         ],
         "geo": "geo",
         "hovertemplate": "color=CanSino, Moderna, Oxford/AstraZeneca, Pfizer/BioNTech, Sinopharm/Beijing, Sputnik V<br>locations=%{location}<extra></extra>",
         "locationmode": "country names",
         "locations": [
          "Argentina"
         ],
         "name": "CanSino, Moderna, Oxford/AstraZeneca, Pfizer/BioNTech, Sinopharm/Beijing, Sputnik V",
         "showlegend": true,
         "showscale": false,
         "type": "choropleth",
         "z": [
          1
         ]
        },
        {
         "colorscale": [
          [
           0,
           "#B6E880"
          ],
          [
           1,
           "#B6E880"
          ]
         ],
         "geo": "geo",
         "hovertemplate": "color=Pfizer/BioNTech<br>locations=%{location}<extra></extra>",
         "locationmode": "country names",
         "locations": [
          "Aruba",
          "Cook Islands",
          "Gibraltar",
          "Kuwait",
          "Monaco",
          "New Caledonia",
          "New Zealand",
          "Tokelau",
          "Turks and Caicos Islands"
         ],
         "name": "Pfizer/BioNTech",
         "showlegend": true,
         "showscale": false,
         "type": "choropleth",
         "z": [
          1,
          1,
          1,
          1,
          1,
          1,
          1,
          1,
          1
         ]
        },
        {
         "colorscale": [
          [
           0,
           "#FF97FF"
          ],
          [
           1,
           "#FF97FF"
          ]
         ],
         "geo": "geo",
         "hovertemplate": "color=Moderna, Oxford/AstraZeneca, Pfizer/BioNTech<br>locations=%{location}<extra></extra>",
         "locationmode": "country names",
         "locations": [
          "Australia",
          "Canada",
          "England",
          "Finland",
          "Guernsey",
          "Isle of Man",
          "Japan",
          "Jersey",
          "Northern Ireland",
          "Rwanda",
          "Scotland",
          "Sint Maarten (Dutch part)",
          "Sweden",
          "United Kingdom",
          "Wales"
         ],
         "name": "Moderna, Oxford/AstraZeneca, Pfizer/BioNTech",
         "showlegend": true,
         "showscale": false,
         "type": "choropleth",
         "z": [
          1,
          1,
          1,
          1,
          1,
          1,
          1,
          1,
          1,
          1,
          1,
          1,
          1,
          1,
          1
         ]
        },
        {
         "colorscale": [
          [
           0,
           "#FECB52"
          ],
          [
           1,
           "#FECB52"
          ]
         ],
         "geo": "geo",
         "hovertemplate": "color=Johnson&Johnson, Moderna, Oxford/AstraZeneca, Pfizer/BioNTech<br>locations=%{location}<extra></extra>",
         "locationmode": "country names",
         "locations": [
          "Austria",
          "Belgium",
          "Bulgaria",
          "Croatia",
          "Cyprus",
          "Czechia",
          "Estonia",
          "France",
          "Germany",
          "Greece",
          "Iceland",
          "Ireland",
          "Italy",
          "Jamaica",
          "Latvia",
          "Lithuania",
          "Luxembourg",
          "Malta",
          "Netherlands",
          "Poland",
          "Portugal",
          "Romania",
          "South Korea",
          "Spain"
         ],
         "name": "Johnson&Johnson, Moderna, Oxford/AstraZeneca, Pfizer/BioNTech",
         "showlegend": true,
         "showscale": false,
         "type": "choropleth",
         "z": [
          1,
          1,
          1,
          1,
          1,
          1,
          1,
          1,
          1,
          1,
          1,
          1,
          1,
          1,
          1,
          1,
          1,
          1,
          1,
          1,
          1,
          1,
          1,
          1
         ]
        },
        {
         "colorscale": [
          [
           0,
           "#636efa"
          ],
          [
           1,
           "#636efa"
          ]
         ],
         "geo": "geo",
         "hovertemplate": "color=Johnson&Johnson, Oxford/AstraZeneca, Pfizer/BioNTech<br>locations=%{location}<extra></extra>",
         "locationmode": "country names",
         "locations": [
          "Bahamas",
          "Eswatini"
         ],
         "name": "Johnson&Johnson, Oxford/AstraZeneca, Pfizer/BioNTech",
         "showlegend": true,
         "showscale": false,
         "type": "choropleth",
         "z": [
          1,
          1
         ]
        },
        {
         "colorscale": [
          [
           0,
           "#EF553B"
          ],
          [
           1,
           "#EF553B"
          ]
         ],
         "geo": "geo",
         "hovertemplate": "color=Oxford/AstraZeneca, Pfizer/BioNTech, Sinopharm/Beijing, Sputnik V<br>locations=%{location}<extra></extra>",
         "locationmode": "country names",
         "locations": [
          "Bahrain",
          "Iraq",
          "Jordan",
          "Lebanon",
          "Mongolia",
          "Montenegro",
          "Serbia"
         ],
         "name": "Oxford/AstraZeneca, Pfizer/BioNTech, Sinopharm/Beijing, Sputnik V",
         "showlegend": true,
         "showscale": false,
         "type": "choropleth",
         "z": [
          1,
          1,
          1,
          1,
          1,
          1,
          1
         ]
        },
        {
         "colorscale": [
          [
           0,
           "#00cc96"
          ],
          [
           1,
           "#00cc96"
          ]
         ],
         "geo": "geo",
         "hovertemplate": "color=Moderna, Oxford/AstraZeneca, Pfizer/BioNTech, Sinopharm/Beijing<br>locations=%{location}<extra></extra>",
         "locationmode": "country names",
         "locations": [
          "Bangladesh",
          "Bhutan",
          "Cape Verde"
         ],
         "name": "Moderna, Oxford/AstraZeneca, Pfizer/BioNTech, Sinopharm/Beijing",
         "showlegend": true,
         "showscale": false,
         "type": "choropleth",
         "z": [
          1,
          1,
          1
         ]
        },
        {
         "colorscale": [
          [
           0,
           "#ab63fa"
          ],
          [
           1,
           "#ab63fa"
          ]
         ],
         "geo": "geo",
         "hovertemplate": "color=Oxford/AstraZeneca, Pfizer/BioNTech, Sinopharm/Beijing<br>locations=%{location}<extra></extra>",
         "locationmode": "country names",
         "locations": [
          "Barbados",
          "Dominica",
          "Maldives",
          "Peru",
          "Suriname",
          "Trinidad and Tobago"
         ],
         "name": "Oxford/AstraZeneca, Pfizer/BioNTech, Sinopharm/Beijing",
         "showlegend": true,
         "showscale": false,
         "type": "choropleth",
         "z": [
          1,
          1,
          1,
          1,
          1,
          1
         ]
        },
        {
         "colorscale": [
          [
           0,
           "#FFA15A"
          ],
          [
           1,
           "#FFA15A"
          ]
         ],
         "geo": "geo",
         "hovertemplate": "color=Sinopharm/Beijing, Sputnik V<br>locations=%{location}<extra></extra>",
         "locationmode": "country names",
         "locations": [
          "Belarus",
          "Kyrgyzstan"
         ],
         "name": "Sinopharm/Beijing, Sputnik V",
         "showlegend": true,
         "showscale": false,
         "type": "choropleth",
         "z": [
          1,
          1
         ]
        },
        {
         "colorscale": [
          [
           0,
           "#19d3f3"
          ],
          [
           1,
           "#19d3f3"
          ]
         ],
         "geo": "geo",
         "hovertemplate": "color=Oxford/AstraZeneca, Sinopharm/Beijing<br>locations=%{location}<extra></extra>",
         "locationmode": "country names",
         "locations": [
          "Belize",
          "Brunei",
          "Guinea-Bissau",
          "Mauritania",
          "Mozambique",
          "Myanmar",
          "Namibia",
          "Niger",
          "Senegal",
          "Sierra Leone"
         ],
         "name": "Oxford/AstraZeneca, Sinopharm/Beijing",
         "showlegend": true,
         "showscale": false,
         "type": "choropleth",
         "z": [
          1,
          1,
          1,
          1,
          1,
          1,
          1,
          1,
          1,
          1
         ]
        },
        {
         "colorscale": [
          [
           0,
           "#FF6692"
          ],
          [
           1,
           "#FF6692"
          ]
         ],
         "geo": "geo",
         "hovertemplate": "color=Oxford/AstraZeneca, Sinovac<br>locations=%{location}<extra></extra>",
         "locationmode": "country names",
         "locations": [
          "Benin",
          "Timor"
         ],
         "name": "Oxford/AstraZeneca, Sinovac",
         "showlegend": true,
         "showscale": false,
         "type": "choropleth",
         "z": [
          1,
          1
         ]
        },
        {
         "colorscale": [
          [
           0,
           "#B6E880"
          ],
          [
           1,
           "#B6E880"
          ]
         ],
         "geo": "geo",
         "hovertemplate": "color=Johnson&Johnson, Oxford/AstraZeneca, Pfizer/BioNTech, Sinopharm/Beijing, Sputnik V<br>locations=%{location}<extra></extra>",
         "locationmode": "country names",
         "locations": [
          "Bolivia",
          "Cote d'Ivoire",
          "Moldova",
          "Morocco"
         ],
         "name": "Johnson&Johnson, Oxford/AstraZeneca, Pfizer/BioNTech, Sinopharm/Beijing, Sputnik V",
         "showlegend": true,
         "showscale": false,
         "type": "choropleth",
         "z": [
          1,
          1,
          1,
          1
         ]
        },
        {
         "colorscale": [
          [
           0,
           "#FF97FF"
          ],
          [
           1,
           "#FF97FF"
          ]
         ],
         "geo": "geo",
         "hovertemplate": "color=Moderna, Pfizer/BioNTech<br>locations=%{location}<extra></extra>",
         "locationmode": "country names",
         "locations": [
          "Bonaire Sint Eustatius and Saba",
          "Curacao",
          "Faeroe Islands",
          "Israel",
          "Liechtenstein",
          "Norway",
          "Qatar",
          "Switzerland"
         ],
         "name": "Moderna, Pfizer/BioNTech",
         "showlegend": true,
         "showscale": false,
         "type": "choropleth",
         "z": [
          1,
          1,
          1,
          1,
          1,
          1,
          1,
          1
         ]
        },
        {
         "colorscale": [
          [
           0,
           "#FECB52"
          ],
          [
           1,
           "#FECB52"
          ]
         ],
         "geo": "geo",
         "hovertemplate": "color=Moderna, Oxford/AstraZeneca, Pfizer/BioNTech, Sinovac<br>locations=%{location}<extra></extra>",
         "locationmode": "country names",
         "locations": [
          "Botswana",
          "Ukraine"
         ],
         "name": "Moderna, Oxford/AstraZeneca, Pfizer/BioNTech, Sinovac",
         "showlegend": true,
         "showscale": false,
         "type": "choropleth",
         "z": [
          1,
          1
         ]
        },
        {
         "colorscale": [
          [
           0,
           "#636efa"
          ],
          [
           1,
           "#636efa"
          ]
         ],
         "geo": "geo",
         "hovertemplate": "color=Johnson&Johnson, Oxford/AstraZeneca, Pfizer/BioNTech, Sinovac<br>locations=%{location}<extra></extra>",
         "locationmode": "country names",
         "locations": [
          "Brazil"
         ],
         "name": "Johnson&Johnson, Oxford/AstraZeneca, Pfizer/BioNTech, Sinovac",
         "showlegend": true,
         "showscale": false,
         "type": "choropleth",
         "z": [
          1
         ]
        },
        {
         "colorscale": [
          [
           0,
           "#EF553B"
          ],
          [
           1,
           "#EF553B"
          ]
         ],
         "geo": "geo",
         "hovertemplate": "color=Johnson&Johnson, Oxford/AstraZeneca<br>locations=%{location}<extra></extra>",
         "locationmode": "country names",
         "locations": [
          "British Virgin Islands",
          "Malawi",
          "South Sudan"
         ],
         "name": "Johnson&Johnson, Oxford/AstraZeneca",
         "showlegend": true,
         "showscale": false,
         "type": "choropleth",
         "z": [
          1,
          1,
          1
         ]
        },
        {
         "colorscale": [
          [
           0,
           "#00cc96"
          ],
          [
           1,
           "#00cc96"
          ]
         ],
         "geo": "geo",
         "hovertemplate": "color=Johnson&Johnson, Oxford/AstraZeneca, Sinopharm/Beijing<br>locations=%{location}<extra></extra>",
         "locationmode": "country names",
         "locations": [
          "Burkina Faso",
          "Gambia",
          "Zambia"
         ],
         "name": "Johnson&Johnson, Oxford/AstraZeneca, Sinopharm/Beijing",
         "showlegend": true,
         "showscale": false,
         "type": "choropleth",
         "z": [
          1,
          1,
          1
         ]
        },
        {
         "colorscale": [
          [
           0,
           "#ab63fa"
          ],
          [
           1,
           "#ab63fa"
          ]
         ],
         "geo": "geo",
         "hovertemplate": "color=Sinopharm/Beijing<br>locations=%{location}<extra></extra>",
         "locationmode": "country names",
         "locations": [
          "Burundi",
          "Chad",
          "Equatorial Guinea",
          "Gabon"
         ],
         "name": "Sinopharm/Beijing",
         "showlegend": true,
         "showscale": false,
         "type": "choropleth",
         "z": [
          1,
          1,
          1,
          1
         ]
        },
        {
         "colorscale": [
          [
           0,
           "#FFA15A"
          ],
          [
           1,
           "#FFA15A"
          ]
         ],
         "geo": "geo",
         "hovertemplate": "color=Johnson&Johnson, Oxford/AstraZeneca, Sinopharm/Beijing, Sinovac<br>locations=%{location}<extra></extra>",
         "locationmode": "country names",
         "locations": [
          "Cambodia",
          "Somalia"
         ],
         "name": "Johnson&Johnson, Oxford/AstraZeneca, Sinopharm/Beijing, Sinovac",
         "showlegend": true,
         "showscale": false,
         "type": "choropleth",
         "z": [
          1,
          1
         ]
        },
        {
         "colorscale": [
          [
           0,
           "#19d3f3"
          ],
          [
           1,
           "#19d3f3"
          ]
         ],
         "geo": "geo",
         "hovertemplate": "color=Covaxin, Oxford/AstraZeneca<br>locations=%{location}<extra></extra>",
         "locationmode": "country names",
         "locations": [
          "Central African Republic"
         ],
         "name": "Covaxin, Oxford/AstraZeneca",
         "showlegend": true,
         "showscale": false,
         "type": "choropleth",
         "z": [
          1
         ]
        },
        {
         "colorscale": [
          [
           0,
           "#FF6692"
          ],
          [
           1,
           "#FF6692"
          ]
         ],
         "geo": "geo",
         "hovertemplate": "color=CanSino, Oxford/AstraZeneca, Pfizer/BioNTech, Sinovac<br>locations=%{location}<extra></extra>",
         "locationmode": "country names",
         "locations": [
          "Chile",
          "Ecuador",
          "Malaysia"
         ],
         "name": "CanSino, Oxford/AstraZeneca, Pfizer/BioNTech, Sinovac",
         "showlegend": true,
         "showscale": false,
         "type": "choropleth",
         "z": [
          1,
          1,
          1
         ]
        },
        {
         "colorscale": [
          [
           0,
           "#B6E880"
          ],
          [
           1,
           "#B6E880"
          ]
         ],
         "geo": "geo",
         "hovertemplate": "color=CanSino, Sinopharm/Beijing, Sinopharm/Wuhan, Sinovac, ZF2001<br>locations=%{location}<extra></extra>",
         "locationmode": "country names",
         "locations": [
          "China"
         ],
         "name": "CanSino, Sinopharm/Beijing, Sinopharm/Wuhan, Sinovac, ZF2001",
         "showlegend": true,
         "showscale": false,
         "type": "choropleth",
         "z": [
          1
         ]
        },
        {
         "colorscale": [
          [
           0,
           "#FF97FF"
          ],
          [
           1,
           "#FF97FF"
          ]
         ],
         "geo": "geo",
         "hovertemplate": "color=Johnson&Johnson, Moderna, Oxford/AstraZeneca, Pfizer/BioNTech, Sinovac<br>locations=%{location}<extra></extra>",
         "locationmode": "country names",
         "locations": [
          "Colombia"
         ],
         "name": "Johnson&Johnson, Moderna, Oxford/AstraZeneca, Pfizer/BioNTech, Sinovac",
         "showlegend": true,
         "showscale": false,
         "type": "choropleth",
         "z": [
          1
         ]
        },
        {
         "colorscale": [
          [
           0,
           "#FECB52"
          ],
          [
           1,
           "#FECB52"
          ]
         ],
         "geo": "geo",
         "hovertemplate": "color=Covaxin, Oxford/AstraZeneca, Sinopharm/Beijing<br>locations=%{location}<extra></extra>",
         "locationmode": "country names",
         "locations": [
          "Comoros",
          "Mauritius"
         ],
         "name": "Covaxin, Oxford/AstraZeneca, Sinopharm/Beijing",
         "showlegend": true,
         "showscale": false,
         "type": "choropleth",
         "z": [
          1,
          1
         ]
        },
        {
         "colorscale": [
          [
           0,
           "#636efa"
          ],
          [
           1,
           "#636efa"
          ]
         ],
         "geo": "geo",
         "hovertemplate": "color=Moderna, Oxford/AstraZeneca, Sinopharm/Beijing, Sputnik V<br>locations=%{location}<extra></extra>",
         "locationmode": "country names",
         "locations": [
          "Congo"
         ],
         "name": "Moderna, Oxford/AstraZeneca, Sinopharm/Beijing, Sputnik V",
         "showlegend": true,
         "showscale": false,
         "type": "choropleth",
         "z": [
          1
         ]
        },
        {
         "colorscale": [
          [
           0,
           "#EF553B"
          ],
          [
           1,
           "#EF553B"
          ]
         ],
         "geo": "geo",
         "hovertemplate": "color=Abdala, Soberana02<br>locations=%{location}<extra></extra>",
         "locationmode": "country names",
         "locations": [
          "Cuba"
         ],
         "name": "Abdala, Soberana02",
         "showlegend": true,
         "showscale": false,
         "type": "choropleth",
         "z": [
          1
         ]
        },
        {
         "colorscale": [
          [
           0,
           "#00cc96"
          ],
          [
           1,
           "#00cc96"
          ]
         ],
         "geo": "geo",
         "hovertemplate": "color=Johnson&Johnson, Moderna, Pfizer/BioNTech<br>locations=%{location}<extra></extra>",
         "locationmode": "country names",
         "locations": [
          "Denmark",
          "United States"
         ],
         "name": "Johnson&Johnson, Moderna, Pfizer/BioNTech",
         "showlegend": true,
         "showscale": false,
         "type": "choropleth",
         "z": [
          1,
          1
         ]
        },
        {
         "colorscale": [
          [
           0,
           "#ab63fa"
          ],
          [
           1,
           "#ab63fa"
          ]
         ],
         "geo": "geo",
         "hovertemplate": "color=Johnson&Johnson, Oxford/AstraZeneca, Pfizer/BioNTech, Sinopharm/Beijing, Sinovac, Sputnik V<br>locations=%{location}<extra></extra>",
         "locationmode": "country names",
         "locations": [
          "Djibouti",
          "Egypt",
          "Laos"
         ],
         "name": "Johnson&Johnson, Oxford/AstraZeneca, Pfizer/BioNTech, Sinopharm/Beijing, Sinovac, Sputnik V",
         "showlegend": true,
         "showscale": false,
         "type": "choropleth",
         "z": [
          1,
          1,
          1
         ]
        },
        {
         "colorscale": [
          [
           0,
           "#FFA15A"
          ],
          [
           1,
           "#FFA15A"
          ]
         ],
         "geo": "geo",
         "hovertemplate": "color=Oxford/AstraZeneca, Pfizer/BioNTech, Sinopharm/Beijing, Sinovac<br>locations=%{location}<extra></extra>",
         "locationmode": "country names",
         "locations": [
          "Dominican Republic",
          "El Salvador",
          "Georgia",
          "Thailand"
         ],
         "name": "Oxford/AstraZeneca, Pfizer/BioNTech, Sinopharm/Beijing, Sinovac",
         "showlegend": true,
         "showscale": false,
         "type": "choropleth",
         "z": [
          1,
          1,
          1,
          1
         ]
        },
        {
         "colorscale": [
          [
           0,
           "#19d3f3"
          ],
          [
           1,
           "#19d3f3"
          ]
         ],
         "geo": "geo",
         "hovertemplate": "color=Johnson&Johnson, Pfizer/BioNTech<br>locations=%{location}<extra></extra>",
         "locationmode": "country names",
         "locations": [
          "French Polynesia",
          "South Africa"
         ],
         "name": "Johnson&Johnson, Pfizer/BioNTech",
         "showlegend": true,
         "showscale": false,
         "type": "choropleth",
         "z": [
          1,
          1
         ]
        },
        {
         "colorscale": [
          [
           0,
           "#FF6692"
          ],
          [
           1,
           "#FF6692"
          ]
         ],
         "geo": "geo",
         "hovertemplate": "color=Oxford/AstraZeneca, Sputnik V<br>locations=%{location}<extra></extra>",
         "locationmode": "country names",
         "locations": [
          "Ghana",
          "Guyana",
          "Kenya"
         ],
         "name": "Oxford/AstraZeneca, Sputnik V",
         "showlegend": true,
         "showscale": false,
         "type": "choropleth",
         "z": [
          1,
          1,
          1
         ]
        },
        {
         "colorscale": [
          [
           0,
           "#B6E880"
          ],
          [
           1,
           "#B6E880"
          ]
         ],
         "geo": "geo",
         "hovertemplate": "color=Moderna<br>locations=%{location}<extra></extra>",
         "locationmode": "country names",
         "locations": [
          "Greenland",
          "Wallis and Futuna"
         ],
         "name": "Moderna",
         "showlegend": true,
         "showscale": false,
         "type": "choropleth",
         "z": [
          1,
          1
         ]
        },
        {
         "colorscale": [
          [
           0,
           "#FF97FF"
          ],
          [
           1,
           "#FF97FF"
          ]
         ],
         "geo": "geo",
         "hovertemplate": "color=Moderna, Oxford/AstraZeneca<br>locations=%{location}<extra></extra>",
         "locationmode": "country names",
         "locations": [
          "Guatemala"
         ],
         "name": "Moderna, Oxford/AstraZeneca",
         "showlegend": true,
         "showscale": false,
         "type": "choropleth",
         "z": [
          1
         ]
        },
        {
         "colorscale": [
          [
           0,
           "#FECB52"
          ],
          [
           1,
           "#FECB52"
          ]
         ],
         "geo": "geo",
         "hovertemplate": "color=Sputnik V<br>locations=%{location}<extra></extra>",
         "locationmode": "country names",
         "locations": [
          "Guinea"
         ],
         "name": "Sputnik V",
         "showlegend": true,
         "showscale": false,
         "type": "choropleth",
         "z": [
          1
         ]
        },
        {
         "colorscale": [
          [
           0,
           "#636efa"
          ],
          [
           1,
           "#636efa"
          ]
         ],
         "geo": "geo",
         "hovertemplate": "color=Johnson&Johnson, Moderna<br>locations=%{location}<extra></extra>",
         "locationmode": "country names",
         "locations": [
          "Haiti"
         ],
         "name": "Johnson&Johnson, Moderna",
         "showlegend": true,
         "showscale": false,
         "type": "choropleth",
         "z": [
          1
         ]
        },
        {
         "colorscale": [
          [
           0,
           "#EF553B"
          ],
          [
           1,
           "#EF553B"
          ]
         ],
         "geo": "geo",
         "hovertemplate": "color=Johnson&Johnson, Moderna, Oxford/AstraZeneca, Pfizer/BioNTech, Sputnik V<br>locations=%{location}<extra></extra>",
         "locationmode": "country names",
         "locations": [
          "Honduras"
         ],
         "name": "Johnson&Johnson, Moderna, Oxford/AstraZeneca, Pfizer/BioNTech, Sputnik V",
         "showlegend": true,
         "showscale": false,
         "type": "choropleth",
         "z": [
          1
         ]
        },
        {
         "colorscale": [
          [
           0,
           "#00cc96"
          ],
          [
           1,
           "#00cc96"
          ]
         ],
         "geo": "geo",
         "hovertemplate": "color=Pfizer/BioNTech, Sinovac<br>locations=%{location}<extra></extra>",
         "locationmode": "country names",
         "locations": [
          "Hong Kong",
          "Turkey"
         ],
         "name": "Pfizer/BioNTech, Sinovac",
         "showlegend": true,
         "showscale": false,
         "type": "choropleth",
         "z": [
          1,
          1
         ]
        },
        {
         "colorscale": [
          [
           0,
           "#ab63fa"
          ],
          [
           1,
           "#ab63fa"
          ]
         ],
         "geo": "geo",
         "hovertemplate": "color=Johnson&Johnson, Moderna, Oxford/AstraZeneca, Pfizer/BioNTech, Sinopharm/Beijing, Sputnik V<br>locations=%{location}<extra></extra>",
         "locationmode": "country names",
         "locations": [
          "Hungary"
         ],
         "name": "Johnson&Johnson, Moderna, Oxford/AstraZeneca, Pfizer/BioNTech, Sinopharm/Beijing, Sputnik V",
         "showlegend": true,
         "showscale": false,
         "type": "choropleth",
         "z": [
          1
         ]
        },
        {
         "colorscale": [
          [
           0,
           "#FFA15A"
          ],
          [
           1,
           "#FFA15A"
          ]
         ],
         "geo": "geo",
         "hovertemplate": "color=Covaxin, Oxford/AstraZeneca, Sputnik V<br>locations=%{location}<extra></extra>",
         "locationmode": "country names",
         "locations": [
          "India"
         ],
         "name": "Covaxin, Oxford/AstraZeneca, Sputnik V",
         "showlegend": true,
         "showscale": false,
         "type": "choropleth",
         "z": [
          1
         ]
        },
        {
         "colorscale": [
          [
           0,
           "#19d3f3"
          ],
          [
           1,
           "#19d3f3"
          ]
         ],
         "geo": "geo",
         "hovertemplate": "color=Moderna, Oxford/AstraZeneca, Pfizer/BioNTech, Sinopharm/Beijing, Sinovac<br>locations=%{location}<extra></extra>",
         "locationmode": "country names",
         "locations": [
          "Indonesia"
         ],
         "name": "Moderna, Oxford/AstraZeneca, Pfizer/BioNTech, Sinopharm/Beijing, Sinovac",
         "showlegend": true,
         "showscale": false,
         "type": "choropleth",
         "z": [
          1
         ]
        },
        {
         "colorscale": [
          [
           0,
           "#FF6692"
          ],
          [
           1,
           "#FF6692"
          ]
         ],
         "geo": "geo",
         "hovertemplate": "color=COVIran Barekat, Covaxin, Oxford/AstraZeneca, Sinopharm/Beijing, Soberana02, Sputnik V<br>locations=%{location}<extra></extra>",
         "locationmode": "country names",
         "locations": [
          "Iran"
         ],
         "name": "COVIran Barekat, Covaxin, Oxford/AstraZeneca, Sinopharm/Beijing, Soberana02, Sputnik V",
         "showlegend": true,
         "showscale": false,
         "type": "choropleth",
         "z": [
          1
         ]
        },
        {
         "colorscale": [
          [
           0,
           "#B6E880"
          ],
          [
           1,
           "#B6E880"
          ]
         ],
         "geo": "geo",
         "hovertemplate": "color=QazVac, Sinopharm/Beijing, Sputnik V<br>locations=%{location}<extra></extra>",
         "locationmode": "country names",
         "locations": [
          "Kazakhstan"
         ],
         "name": "QazVac, Sinopharm/Beijing, Sputnik V",
         "showlegend": true,
         "showscale": false,
         "type": "choropleth",
         "z": [
          1
         ]
        },
        {
         "colorscale": [
          [
           0,
           "#FF97FF"
          ],
          [
           1,
           "#FF97FF"
          ]
         ],
         "geo": "geo",
         "hovertemplate": "color=Johnson&Johnson, Moderna, Oxford/AstraZeneca, Pfizer/BioNTech, Sinopharm/Beijing, Sinovac, Sputnik V<br>locations=%{location}<extra></extra>",
         "locationmode": "country names",
         "locations": [
          "Libya",
          "Philippines",
          "Tunisia"
         ],
         "name": "Johnson&Johnson, Moderna, Oxford/AstraZeneca, Pfizer/BioNTech, Sinopharm/Beijing, Sinovac, Sputnik V",
         "showlegend": true,
         "showscale": false,
         "type": "choropleth",
         "z": [
          1,
          1,
          1
         ]
        },
        {
         "colorscale": [
          [
           0,
           "#FECB52"
          ],
          [
           1,
           "#FECB52"
          ]
         ],
         "geo": "geo",
         "hovertemplate": "color=Pfizer/BioNTech, Sinopharm/Beijing<br>locations=%{location}<extra></extra>",
         "locationmode": "country names",
         "locations": [
          "Macao"
         ],
         "name": "Pfizer/BioNTech, Sinopharm/Beijing",
         "showlegend": true,
         "showscale": false,
         "type": "choropleth",
         "z": [
          1
         ]
        },
        {
         "colorscale": [
          [
           0,
           "#636efa"
          ],
          [
           1,
           "#636efa"
          ]
         ],
         "geo": "geo",
         "hovertemplate": "color=CanSino, Johnson&Johnson, Moderna, Oxford/AstraZeneca, Pfizer/BioNTech, Sinovac, Sputnik V<br>locations=%{location}<extra></extra>",
         "locationmode": "country names",
         "locations": [
          "Mexico"
         ],
         "name": "CanSino, Johnson&Johnson, Moderna, Oxford/AstraZeneca, Pfizer/BioNTech, Sinovac, Sputnik V",
         "showlegend": true,
         "showscale": false,
         "type": "choropleth",
         "z": [
          1
         ]
        },
        {
         "colorscale": [
          [
           0,
           "#EF553B"
          ],
          [
           1,
           "#EF553B"
          ]
         ],
         "geo": "geo",
         "hovertemplate": "color=Covaxin, Johnson&Johnson, Oxford/AstraZeneca, Sinopharm/Beijing, Sputnik V<br>locations=%{location}<extra></extra>",
         "locationmode": "country names",
         "locations": [
          "Nepal"
         ],
         "name": "Covaxin, Johnson&Johnson, Oxford/AstraZeneca, Sinopharm/Beijing, Sputnik V",
         "showlegend": true,
         "showscale": false,
         "type": "choropleth",
         "z": [
          1
         ]
        },
        {
         "colorscale": [
          [
           0,
           "#00cc96"
          ],
          [
           1,
           "#00cc96"
          ]
         ],
         "geo": "geo",
         "hovertemplate": "color=Oxford/AstraZeneca, Pfizer/BioNTech, Sinopharm/Beijing, Sinovac, Sputnik V<br>locations=%{location}<extra></extra>",
         "locationmode": "country names",
         "locations": [
          "North Macedonia"
         ],
         "name": "Oxford/AstraZeneca, Pfizer/BioNTech, Sinopharm/Beijing, Sinovac, Sputnik V",
         "showlegend": true,
         "showscale": false,
         "type": "choropleth",
         "z": [
          1
         ]
        },
        {
         "colorscale": [
          [
           0,
           "#ab63fa"
          ],
          [
           1,
           "#ab63fa"
          ]
         ],
         "geo": "geo",
         "hovertemplate": "color=Oxford/AstraZeneca, Pfizer/BioNTech, Sinovac<br>locations=%{location}<extra></extra>",
         "locationmode": "country names",
         "locations": [
          "Northern Cyprus",
          "Uruguay"
         ],
         "name": "Oxford/AstraZeneca, Pfizer/BioNTech, Sinovac",
         "showlegend": true,
         "showscale": false,
         "type": "choropleth",
         "z": [
          1,
          1
         ]
        },
        {
         "colorscale": [
          [
           0,
           "#FFA15A"
          ],
          [
           1,
           "#FFA15A"
          ]
         ],
         "geo": "geo",
         "hovertemplate": "color=CanSino, Covaxin, Moderna, Oxford/AstraZeneca, Pfizer/BioNTech, Sinopharm/Beijing, Sinovac, Sputnik V<br>locations=%{location}<extra></extra>",
         "locationmode": "country names",
         "locations": [
          "Pakistan"
         ],
         "name": "CanSino, Covaxin, Moderna, Oxford/AstraZeneca, Pfizer/BioNTech, Sinopharm/Beijing, Sinovac, Sputnik V",
         "showlegend": true,
         "showscale": false,
         "type": "choropleth",
         "z": [
          1
         ]
        },
        {
         "colorscale": [
          [
           0,
           "#19d3f3"
          ],
          [
           1,
           "#19d3f3"
          ]
         ],
         "geo": "geo",
         "hovertemplate": "color=Moderna, Oxford/AstraZeneca, Pfizer/BioNTech, Sinopharm/Beijing, Sputnik Light, Sputnik V<br>locations=%{location}<extra></extra>",
         "locationmode": "country names",
         "locations": [
          "Palestine"
         ],
         "name": "Moderna, Oxford/AstraZeneca, Pfizer/BioNTech, Sinopharm/Beijing, Sputnik Light, Sputnik V",
         "showlegend": true,
         "showscale": false,
         "type": "choropleth",
         "z": [
          1
         ]
        },
        {
         "colorscale": [
          [
           0,
           "#FF6692"
          ],
          [
           1,
           "#FF6692"
          ]
         ],
         "geo": "geo",
         "hovertemplate": "color=Covaxin, Moderna, Oxford/AstraZeneca, Pfizer/BioNTech, Sinopharm/Beijing, Sinovac, Sputnik V<br>locations=%{location}<extra></extra>",
         "locationmode": "country names",
         "locations": [
          "Paraguay"
         ],
         "name": "Covaxin, Moderna, Oxford/AstraZeneca, Pfizer/BioNTech, Sinopharm/Beijing, Sinovac, Sputnik V",
         "showlegend": true,
         "showscale": false,
         "type": "choropleth",
         "z": [
          1
         ]
        },
        {
         "colorscale": [
          [
           0,
           "#B6E880"
          ],
          [
           1,
           "#B6E880"
          ]
         ],
         "geo": "geo",
         "hovertemplate": "color=EpiVacCorona, Sputnik V<br>locations=%{location}<extra></extra>",
         "locationmode": "country names",
         "locations": [
          "Russia"
         ],
         "name": "EpiVacCorona, Sputnik V",
         "showlegend": true,
         "showscale": false,
         "type": "choropleth",
         "z": [
          1
         ]
        },
        {
         "colorscale": [
          [
           0,
           "#FF97FF"
          ],
          [
           1,
           "#FF97FF"
          ]
         ],
         "geo": "geo",
         "hovertemplate": "color=Pfizer/BioNTech, Sputnik V<br>locations=%{location}<extra></extra>",
         "locationmode": "country names",
         "locations": [
          "San Marino"
         ],
         "name": "Pfizer/BioNTech, Sputnik V",
         "showlegend": true,
         "showscale": false,
         "type": "choropleth",
         "z": [
          1
         ]
        },
        {
         "colorscale": [
          [
           0,
           "#FECB52"
          ],
          [
           1,
           "#FECB52"
          ]
         ],
         "geo": "geo",
         "hovertemplate": "color=Oxford/AstraZeneca, Sinopharm/Beijing, Sputnik V<br>locations=%{location}<extra></extra>",
         "locationmode": "country names",
         "locations": [
          "Seychelles"
         ],
         "name": "Oxford/AstraZeneca, Sinopharm/Beijing, Sputnik V",
         "showlegend": true,
         "showscale": false,
         "type": "choropleth",
         "z": [
          1
         ]
        },
        {
         "colorscale": [
          [
           0,
           "#636efa"
          ],
          [
           1,
           "#636efa"
          ]
         ],
         "geo": "geo",
         "hovertemplate": "color=Moderna, Pfizer/BioNTech, Sinovac<br>locations=%{location}<extra></extra>",
         "locationmode": "country names",
         "locations": [
          "Singapore"
         ],
         "name": "Moderna, Pfizer/BioNTech, Sinovac",
         "showlegend": true,
         "showscale": false,
         "type": "choropleth",
         "z": [
          1
         ]
        },
        {
         "colorscale": [
          [
           0,
           "#EF553B"
          ],
          [
           1,
           "#EF553B"
          ]
         ],
         "geo": "geo",
         "hovertemplate": "color=Moderna, Oxford/AstraZeneca, Pfizer/BioNTech, Sputnik V<br>locations=%{location}<extra></extra>",
         "locationmode": "country names",
         "locations": [
          "Slovakia"
         ],
         "name": "Moderna, Oxford/AstraZeneca, Pfizer/BioNTech, Sputnik V",
         "showlegend": true,
         "showscale": false,
         "type": "choropleth",
         "z": [
          1
         ]
        },
        {
         "colorscale": [
          [
           0,
           "#00cc96"
          ],
          [
           1,
           "#00cc96"
          ]
         ],
         "geo": "geo",
         "hovertemplate": "color=Moderna, Oxford/AstraZeneca, Pfizer/BioNTech, Sinopharm/Beijing, Sputnik V<br>locations=%{location}<extra></extra>",
         "locationmode": "country names",
         "locations": [
          "Sri Lanka",
          "Vietnam"
         ],
         "name": "Moderna, Oxford/AstraZeneca, Pfizer/BioNTech, Sinopharm/Beijing, Sputnik V",
         "showlegend": true,
         "showscale": false,
         "type": "choropleth",
         "z": [
          1,
          1
         ]
        },
        {
         "colorscale": [
          [
           0,
           "#ab63fa"
          ],
          [
           1,
           "#ab63fa"
          ]
         ],
         "geo": "geo",
         "hovertemplate": "color=Johnson&Johnson, Oxford/AstraZeneca, Pfizer/BioNTech, Sinopharm/Beijing, Sinovac<br>locations=%{location}<extra></extra>",
         "locationmode": "country names",
         "locations": [
          "Sudan"
         ],
         "name": "Johnson&Johnson, Oxford/AstraZeneca, Pfizer/BioNTech, Sinopharm/Beijing, Sinovac",
         "showlegend": true,
         "showscale": false,
         "type": "choropleth",
         "z": [
          1
         ]
        },
        {
         "colorscale": [
          [
           0,
           "#FFA15A"
          ],
          [
           1,
           "#FFA15A"
          ]
         ],
         "geo": "geo",
         "hovertemplate": "color=Johnson&Johnson, Oxford/AstraZeneca, Sinopharm/Beijing, Sinovac, Sputnik Light, Sputnik V<br>locations=%{location}<extra></extra>",
         "locationmode": "country names",
         "locations": [
          "Syria"
         ],
         "name": "Johnson&Johnson, Oxford/AstraZeneca, Sinopharm/Beijing, Sinovac, Sputnik Light, Sputnik V",
         "showlegend": true,
         "showscale": false,
         "type": "choropleth",
         "z": [
          1
         ]
        },
        {
         "colorscale": [
          [
           0,
           "#19d3f3"
          ],
          [
           1,
           "#19d3f3"
          ]
         ],
         "geo": "geo",
         "hovertemplate": "color=Medigen, Moderna, Oxford/AstraZeneca, Pfizer/BioNTech<br>locations=%{location}<extra></extra>",
         "locationmode": "country names",
         "locations": [
          "Taiwan"
         ],
         "name": "Medigen, Moderna, Oxford/AstraZeneca, Pfizer/BioNTech",
         "showlegend": true,
         "showscale": false,
         "type": "choropleth",
         "z": [
          1
         ]
        },
        {
         "colorscale": [
          [
           0,
           "#FF6692"
          ],
          [
           1,
           "#FF6692"
          ]
         ],
         "geo": "geo",
         "hovertemplate": "color=Moderna, Oxford/AstraZeneca, Pfizer/BioNTech, Sinovac, Sputnik V<br>locations=%{location}<extra></extra>",
         "locationmode": "country names",
         "locations": [
          "Tajikistan"
         ],
         "name": "Moderna, Oxford/AstraZeneca, Pfizer/BioNTech, Sinovac, Sputnik V",
         "showlegend": true,
         "showscale": false,
         "type": "choropleth",
         "z": [
          1
         ]
        },
        {
         "colorscale": [
          [
           0,
           "#B6E880"
          ],
          [
           1,
           "#B6E880"
          ]
         ],
         "geo": "geo",
         "hovertemplate": "color=Johnson&Johnson<br>locations=%{location}<extra></extra>",
         "locationmode": "country names",
         "locations": [
          "Tanzania"
         ],
         "name": "Johnson&Johnson",
         "showlegend": true,
         "showscale": false,
         "type": "choropleth",
         "z": [
          1
         ]
        },
        {
         "colorscale": [
          [
           0,
           "#FF97FF"
          ],
          [
           1,
           "#FF97FF"
          ]
         ],
         "geo": "geo",
         "hovertemplate": "color=EpiVacCorona, Oxford/AstraZeneca, Sinopharm/Beijing, Sputnik V<br>locations=%{location}<extra></extra>",
         "locationmode": "country names",
         "locations": [
          "Turkmenistan"
         ],
         "name": "EpiVacCorona, Oxford/AstraZeneca, Sinopharm/Beijing, Sputnik V",
         "showlegend": true,
         "showscale": false,
         "type": "choropleth",
         "z": [
          1
         ]
        },
        {
         "colorscale": [
          [
           0,
           "#FECB52"
          ],
          [
           1,
           "#FECB52"
          ]
         ],
         "geo": "geo",
         "hovertemplate": "color=Oxford/AstraZeneca, Pfizer/BioNTech, Sinopharm/Beijing, Sinopharm/Wuhan, Sputnik V<br>locations=%{location}<extra></extra>",
         "locationmode": "country names",
         "locations": [
          "United Arab Emirates"
         ],
         "name": "Oxford/AstraZeneca, Pfizer/BioNTech, Sinopharm/Beijing, Sinopharm/Wuhan, Sputnik V",
         "showlegend": true,
         "showscale": false,
         "type": "choropleth",
         "z": [
          1
         ]
        },
        {
         "colorscale": [
          [
           0,
           "#636efa"
          ],
          [
           1,
           "#636efa"
          ]
         ],
         "geo": "geo",
         "hovertemplate": "color=Moderna, Oxford/AstraZeneca, Sputnik V, ZF2001<br>locations=%{location}<extra></extra>",
         "locationmode": "country names",
         "locations": [
          "Uzbekistan"
         ],
         "name": "Moderna, Oxford/AstraZeneca, Sputnik V, ZF2001",
         "showlegend": true,
         "showscale": false,
         "type": "choropleth",
         "z": [
          1
         ]
        },
        {
         "colorscale": [
          [
           0,
           "#EF553B"
          ],
          [
           1,
           "#EF553B"
          ]
         ],
         "geo": "geo",
         "hovertemplate": "color=Abdala, Sinopharm/Beijing, Sinopharm/Wuhan, Sputnik V<br>locations=%{location}<extra></extra>",
         "locationmode": "country names",
         "locations": [
          "Venezuela"
         ],
         "name": "Abdala, Sinopharm/Beijing, Sinopharm/Wuhan, Sputnik V",
         "showlegend": true,
         "showscale": false,
         "type": "choropleth",
         "z": [
          1
         ]
        },
        {
         "colorscale": [
          [
           0,
           "#00cc96"
          ],
          [
           1,
           "#00cc96"
          ]
         ],
         "geo": "geo",
         "hovertemplate": "color=Johnson&Johnson, Oxford/AstraZeneca, Sinovac<br>locations=%{location}<extra></extra>",
         "locationmode": "country names",
         "locations": [
          "Yemen"
         ],
         "name": "Johnson&Johnson, Oxford/AstraZeneca, Sinovac",
         "showlegend": true,
         "showscale": false,
         "type": "choropleth",
         "z": [
          1
         ]
        }
       ],
       "layout": {
        "geo": {
         "center": {},
         "domain": {
          "x": [
           0,
           1
          ],
          "y": [
           0,
           1
          ]
         }
        },
        "legend": {
         "orientation": "v",
         "title": {
          "text": "Vaccine scheme"
         },
         "tracegroupgap": 0
        },
        "template": {
         "data": {
          "bar": [
           {
            "error_x": {
             "color": "#2a3f5f"
            },
            "error_y": {
             "color": "#2a3f5f"
            },
            "marker": {
             "line": {
              "color": "#E5ECF6",
              "width": 0.5
             }
            },
            "type": "bar"
           }
          ],
          "barpolar": [
           {
            "marker": {
             "line": {
              "color": "#E5ECF6",
              "width": 0.5
             }
            },
            "type": "barpolar"
           }
          ],
          "carpet": [
           {
            "aaxis": {
             "endlinecolor": "#2a3f5f",
             "gridcolor": "white",
             "linecolor": "white",
             "minorgridcolor": "white",
             "startlinecolor": "#2a3f5f"
            },
            "baxis": {
             "endlinecolor": "#2a3f5f",
             "gridcolor": "white",
             "linecolor": "white",
             "minorgridcolor": "white",
             "startlinecolor": "#2a3f5f"
            },
            "type": "carpet"
           }
          ],
          "choropleth": [
           {
            "colorbar": {
             "outlinewidth": 0,
             "ticks": ""
            },
            "type": "choropleth"
           }
          ],
          "contour": [
           {
            "colorbar": {
             "outlinewidth": 0,
             "ticks": ""
            },
            "colorscale": [
             [
              0,
              "#0d0887"
             ],
             [
              0.1111111111111111,
              "#46039f"
             ],
             [
              0.2222222222222222,
              "#7201a8"
             ],
             [
              0.3333333333333333,
              "#9c179e"
             ],
             [
              0.4444444444444444,
              "#bd3786"
             ],
             [
              0.5555555555555556,
              "#d8576b"
             ],
             [
              0.6666666666666666,
              "#ed7953"
             ],
             [
              0.7777777777777778,
              "#fb9f3a"
             ],
             [
              0.8888888888888888,
              "#fdca26"
             ],
             [
              1,
              "#f0f921"
             ]
            ],
            "type": "contour"
           }
          ],
          "contourcarpet": [
           {
            "colorbar": {
             "outlinewidth": 0,
             "ticks": ""
            },
            "type": "contourcarpet"
           }
          ],
          "heatmap": [
           {
            "colorbar": {
             "outlinewidth": 0,
             "ticks": ""
            },
            "colorscale": [
             [
              0,
              "#0d0887"
             ],
             [
              0.1111111111111111,
              "#46039f"
             ],
             [
              0.2222222222222222,
              "#7201a8"
             ],
             [
              0.3333333333333333,
              "#9c179e"
             ],
             [
              0.4444444444444444,
              "#bd3786"
             ],
             [
              0.5555555555555556,
              "#d8576b"
             ],
             [
              0.6666666666666666,
              "#ed7953"
             ],
             [
              0.7777777777777778,
              "#fb9f3a"
             ],
             [
              0.8888888888888888,
              "#fdca26"
             ],
             [
              1,
              "#f0f921"
             ]
            ],
            "type": "heatmap"
           }
          ],
          "heatmapgl": [
           {
            "colorbar": {
             "outlinewidth": 0,
             "ticks": ""
            },
            "colorscale": [
             [
              0,
              "#0d0887"
             ],
             [
              0.1111111111111111,
              "#46039f"
             ],
             [
              0.2222222222222222,
              "#7201a8"
             ],
             [
              0.3333333333333333,
              "#9c179e"
             ],
             [
              0.4444444444444444,
              "#bd3786"
             ],
             [
              0.5555555555555556,
              "#d8576b"
             ],
             [
              0.6666666666666666,
              "#ed7953"
             ],
             [
              0.7777777777777778,
              "#fb9f3a"
             ],
             [
              0.8888888888888888,
              "#fdca26"
             ],
             [
              1,
              "#f0f921"
             ]
            ],
            "type": "heatmapgl"
           }
          ],
          "histogram": [
           {
            "marker": {
             "colorbar": {
              "outlinewidth": 0,
              "ticks": ""
             }
            },
            "type": "histogram"
           }
          ],
          "histogram2d": [
           {
            "colorbar": {
             "outlinewidth": 0,
             "ticks": ""
            },
            "colorscale": [
             [
              0,
              "#0d0887"
             ],
             [
              0.1111111111111111,
              "#46039f"
             ],
             [
              0.2222222222222222,
              "#7201a8"
             ],
             [
              0.3333333333333333,
              "#9c179e"
             ],
             [
              0.4444444444444444,
              "#bd3786"
             ],
             [
              0.5555555555555556,
              "#d8576b"
             ],
             [
              0.6666666666666666,
              "#ed7953"
             ],
             [
              0.7777777777777778,
              "#fb9f3a"
             ],
             [
              0.8888888888888888,
              "#fdca26"
             ],
             [
              1,
              "#f0f921"
             ]
            ],
            "type": "histogram2d"
           }
          ],
          "histogram2dcontour": [
           {
            "colorbar": {
             "outlinewidth": 0,
             "ticks": ""
            },
            "colorscale": [
             [
              0,
              "#0d0887"
             ],
             [
              0.1111111111111111,
              "#46039f"
             ],
             [
              0.2222222222222222,
              "#7201a8"
             ],
             [
              0.3333333333333333,
              "#9c179e"
             ],
             [
              0.4444444444444444,
              "#bd3786"
             ],
             [
              0.5555555555555556,
              "#d8576b"
             ],
             [
              0.6666666666666666,
              "#ed7953"
             ],
             [
              0.7777777777777778,
              "#fb9f3a"
             ],
             [
              0.8888888888888888,
              "#fdca26"
             ],
             [
              1,
              "#f0f921"
             ]
            ],
            "type": "histogram2dcontour"
           }
          ],
          "mesh3d": [
           {
            "colorbar": {
             "outlinewidth": 0,
             "ticks": ""
            },
            "type": "mesh3d"
           }
          ],
          "parcoords": [
           {
            "line": {
             "colorbar": {
              "outlinewidth": 0,
              "ticks": ""
             }
            },
            "type": "parcoords"
           }
          ],
          "pie": [
           {
            "automargin": true,
            "type": "pie"
           }
          ],
          "scatter": [
           {
            "marker": {
             "colorbar": {
              "outlinewidth": 0,
              "ticks": ""
             }
            },
            "type": "scatter"
           }
          ],
          "scatter3d": [
           {
            "line": {
             "colorbar": {
              "outlinewidth": 0,
              "ticks": ""
             }
            },
            "marker": {
             "colorbar": {
              "outlinewidth": 0,
              "ticks": ""
             }
            },
            "type": "scatter3d"
           }
          ],
          "scattercarpet": [
           {
            "marker": {
             "colorbar": {
              "outlinewidth": 0,
              "ticks": ""
             }
            },
            "type": "scattercarpet"
           }
          ],
          "scattergeo": [
           {
            "marker": {
             "colorbar": {
              "outlinewidth": 0,
              "ticks": ""
             }
            },
            "type": "scattergeo"
           }
          ],
          "scattergl": [
           {
            "marker": {
             "colorbar": {
              "outlinewidth": 0,
              "ticks": ""
             }
            },
            "type": "scattergl"
           }
          ],
          "scattermapbox": [
           {
            "marker": {
             "colorbar": {
              "outlinewidth": 0,
              "ticks": ""
             }
            },
            "type": "scattermapbox"
           }
          ],
          "scatterpolar": [
           {
            "marker": {
             "colorbar": {
              "outlinewidth": 0,
              "ticks": ""
             }
            },
            "type": "scatterpolar"
           }
          ],
          "scatterpolargl": [
           {
            "marker": {
             "colorbar": {
              "outlinewidth": 0,
              "ticks": ""
             }
            },
            "type": "scatterpolargl"
           }
          ],
          "scatterternary": [
           {
            "marker": {
             "colorbar": {
              "outlinewidth": 0,
              "ticks": ""
             }
            },
            "type": "scatterternary"
           }
          ],
          "surface": [
           {
            "colorbar": {
             "outlinewidth": 0,
             "ticks": ""
            },
            "colorscale": [
             [
              0,
              "#0d0887"
             ],
             [
              0.1111111111111111,
              "#46039f"
             ],
             [
              0.2222222222222222,
              "#7201a8"
             ],
             [
              0.3333333333333333,
              "#9c179e"
             ],
             [
              0.4444444444444444,
              "#bd3786"
             ],
             [
              0.5555555555555556,
              "#d8576b"
             ],
             [
              0.6666666666666666,
              "#ed7953"
             ],
             [
              0.7777777777777778,
              "#fb9f3a"
             ],
             [
              0.8888888888888888,
              "#fdca26"
             ],
             [
              1,
              "#f0f921"
             ]
            ],
            "type": "surface"
           }
          ],
          "table": [
           {
            "cells": {
             "fill": {
              "color": "#EBF0F8"
             },
             "line": {
              "color": "white"
             }
            },
            "header": {
             "fill": {
              "color": "#C8D4E3"
             },
             "line": {
              "color": "white"
             }
            },
            "type": "table"
           }
          ]
         },
         "layout": {
          "annotationdefaults": {
           "arrowcolor": "#2a3f5f",
           "arrowhead": 0,
           "arrowwidth": 1
          },
          "coloraxis": {
           "colorbar": {
            "outlinewidth": 0,
            "ticks": ""
           }
          },
          "colorscale": {
           "diverging": [
            [
             0,
             "#8e0152"
            ],
            [
             0.1,
             "#c51b7d"
            ],
            [
             0.2,
             "#de77ae"
            ],
            [
             0.3,
             "#f1b6da"
            ],
            [
             0.4,
             "#fde0ef"
            ],
            [
             0.5,
             "#f7f7f7"
            ],
            [
             0.6,
             "#e6f5d0"
            ],
            [
             0.7,
             "#b8e186"
            ],
            [
             0.8,
             "#7fbc41"
            ],
            [
             0.9,
             "#4d9221"
            ],
            [
             1,
             "#276419"
            ]
           ],
           "sequential": [
            [
             0,
             "#0d0887"
            ],
            [
             0.1111111111111111,
             "#46039f"
            ],
            [
             0.2222222222222222,
             "#7201a8"
            ],
            [
             0.3333333333333333,
             "#9c179e"
            ],
            [
             0.4444444444444444,
             "#bd3786"
            ],
            [
             0.5555555555555556,
             "#d8576b"
            ],
            [
             0.6666666666666666,
             "#ed7953"
            ],
            [
             0.7777777777777778,
             "#fb9f3a"
            ],
            [
             0.8888888888888888,
             "#fdca26"
            ],
            [
             1,
             "#f0f921"
            ]
           ],
           "sequentialminus": [
            [
             0,
             "#0d0887"
            ],
            [
             0.1111111111111111,
             "#46039f"
            ],
            [
             0.2222222222222222,
             "#7201a8"
            ],
            [
             0.3333333333333333,
             "#9c179e"
            ],
            [
             0.4444444444444444,
             "#bd3786"
            ],
            [
             0.5555555555555556,
             "#d8576b"
            ],
            [
             0.6666666666666666,
             "#ed7953"
            ],
            [
             0.7777777777777778,
             "#fb9f3a"
            ],
            [
             0.8888888888888888,
             "#fdca26"
            ],
            [
             1,
             "#f0f921"
            ]
           ]
          },
          "colorway": [
           "#636efa",
           "#EF553B",
           "#00cc96",
           "#ab63fa",
           "#FFA15A",
           "#19d3f3",
           "#FF6692",
           "#B6E880",
           "#FF97FF",
           "#FECB52"
          ],
          "font": {
           "color": "#2a3f5f"
          },
          "geo": {
           "bgcolor": "white",
           "lakecolor": "white",
           "landcolor": "#E5ECF6",
           "showlakes": true,
           "showland": true,
           "subunitcolor": "white"
          },
          "hoverlabel": {
           "align": "left"
          },
          "hovermode": "closest",
          "mapbox": {
           "style": "light"
          },
          "paper_bgcolor": "white",
          "plot_bgcolor": "#E5ECF6",
          "polar": {
           "angularaxis": {
            "gridcolor": "white",
            "linecolor": "white",
            "ticks": ""
           },
           "bgcolor": "#E5ECF6",
           "radialaxis": {
            "gridcolor": "white",
            "linecolor": "white",
            "ticks": ""
           }
          },
          "scene": {
           "xaxis": {
            "backgroundcolor": "#E5ECF6",
            "gridcolor": "white",
            "gridwidth": 2,
            "linecolor": "white",
            "showbackground": true,
            "ticks": "",
            "zerolinecolor": "white"
           },
           "yaxis": {
            "backgroundcolor": "#E5ECF6",
            "gridcolor": "white",
            "gridwidth": 2,
            "linecolor": "white",
            "showbackground": true,
            "ticks": "",
            "zerolinecolor": "white"
           },
           "zaxis": {
            "backgroundcolor": "#E5ECF6",
            "gridcolor": "white",
            "gridwidth": 2,
            "linecolor": "white",
            "showbackground": true,
            "ticks": "",
            "zerolinecolor": "white"
           }
          },
          "shapedefaults": {
           "line": {
            "color": "#2a3f5f"
           }
          },
          "ternary": {
           "aaxis": {
            "gridcolor": "white",
            "linecolor": "white",
            "ticks": ""
           },
           "baxis": {
            "gridcolor": "white",
            "linecolor": "white",
            "ticks": ""
           },
           "bgcolor": "#E5ECF6",
           "caxis": {
            "gridcolor": "white",
            "linecolor": "white",
            "ticks": ""
           }
          },
          "title": {
           "x": 0.05
          },
          "xaxis": {
           "automargin": true,
           "gridcolor": "white",
           "linecolor": "white",
           "ticks": "",
           "title": {
            "standoff": 15
           },
           "zerolinecolor": "white",
           "zerolinewidth": 2
          },
          "yaxis": {
           "automargin": true,
           "gridcolor": "white",
           "linecolor": "white",
           "ticks": "",
           "title": {
            "standoff": 15
           },
           "zerolinecolor": "white",
           "zerolinewidth": 2
          }
         }
        },
        "title": {
         "text": "Countries using each vaccine"
        }
       }
      },
      "text/html": [
       "<div>                            <div id=\"cfd4ab35-86bd-493c-8c17-a24ba24d2c94\" class=\"plotly-graph-div\" style=\"height:525px; width:100%;\"></div>            <script type=\"text/javascript\">                require([\"plotly\"], function(Plotly) {                    window.PLOTLYENV=window.PLOTLYENV || {};                                    if (document.getElementById(\"cfd4ab35-86bd-493c-8c17-a24ba24d2c94\")) {                    Plotly.newPlot(                        \"cfd4ab35-86bd-493c-8c17-a24ba24d2c94\",                        [{\"colorscale\": [[0.0, \"#636efa\"], [1.0, \"#636efa\"]], \"geo\": \"geo\", \"hovertemplate\": \"color=Johnson&Johnson, Oxford/AstraZeneca, Pfizer/BioNTech, Sinopharm/Beijing<br>locations=%{location}<extra></extra>\", \"locationmode\": \"country names\", \"locations\": [\"Afghanistan\", \"Cameroon\"], \"name\": \"Johnson&Johnson, Oxford/AstraZeneca, Pfizer/BioNTech, Sinopharm/Beijing\", \"showlegend\": true, \"showscale\": false, \"type\": \"choropleth\", \"z\": [1, 1]}, {\"colorscale\": [[0.0, \"#EF553B\"], [1.0, \"#EF553B\"]], \"geo\": \"geo\", \"hovertemplate\": \"color=Oxford/AstraZeneca, Pfizer/BioNTech, Sinovac, Sputnik V<br>locations=%{location}<extra></extra>\", \"locationmode\": \"country names\", \"locations\": [\"Albania\", \"Azerbaijan\", \"Bosnia and Herzegovina\", \"Oman\"], \"name\": \"Oxford/AstraZeneca, Pfizer/BioNTech, Sinovac, Sputnik V\", \"showlegend\": true, \"showscale\": false, \"type\": \"choropleth\", \"z\": [1, 1, 1, 1]}, {\"colorscale\": [[0.0, \"#00cc96\"], [1.0, \"#00cc96\"]], \"geo\": \"geo\", \"hovertemplate\": \"color=Oxford/AstraZeneca, Sinopharm/Beijing, Sinovac, Sputnik V<br>locations=%{location}<extra></extra>\", \"locationmode\": \"country names\", \"locations\": [\"Algeria\", \"Armenia\", \"Zimbabwe\"], \"name\": \"Oxford/AstraZeneca, Sinopharm/Beijing, Sinovac, Sputnik V\", \"showlegend\": true, \"showscale\": false, \"type\": \"choropleth\", \"z\": [1, 1, 1]}, {\"colorscale\": [[0.0, \"#ab63fa\"], [1.0, \"#ab63fa\"]], \"geo\": \"geo\", \"hovertemplate\": \"color=Oxford/AstraZeneca, Pfizer/BioNTech<br>locations=%{location}<extra></extra>\", \"locationmode\": \"country names\", \"locations\": [\"Andorra\", \"Bermuda\", \"Cayman Islands\", \"Costa Rica\", \"Grenada\", \"Kosovo\", \"Panama\", \"Saint Kitts and Nevis\", \"Saint Lucia\", \"Saudi Arabia\", \"Slovenia\"], \"name\": \"Oxford/AstraZeneca, Pfizer/BioNTech\", \"showlegend\": true, \"showscale\": false, \"type\": \"choropleth\", \"z\": [1, 1, 1, 1, 1, 1, 1, 1, 1, 1, 1]}, {\"colorscale\": [[0.0, \"#FFA15A\"], [1.0, \"#FFA15A\"]], \"geo\": \"geo\", \"hovertemplate\": \"color=Oxford/AstraZeneca<br>locations=%{location}<extra></extra>\", \"locationmode\": \"country names\", \"locations\": [\"Angola\", \"Anguilla\", \"Democratic Republic of Congo\", \"Ethiopia\", \"Falkland Islands\", \"Fiji\", \"Kiribati\", \"Lesotho\", \"Liberia\", \"Madagascar\", \"Mali\", \"Montserrat\", \"Nauru\", \"Nigeria\", \"Niue\", \"Papua New Guinea\", \"Pitcairn\", \"Saint Helena\", \"Saint Vincent and the Grenadines\", \"Samoa\", \"Sao Tome and Principe\", \"Solomon Islands\", \"Togo\", \"Tonga\", \"Tuvalu\", \"Uganda\", \"Vanuatu\"], \"name\": \"Oxford/AstraZeneca\", \"showlegend\": true, \"showscale\": false, \"type\": \"choropleth\", \"z\": [1, 1, 1, 1, 1, 1, 1, 1, 1, 1, 1, 1, 1, 1, 1, 1, 1, 1, 1, 1, 1, 1, 1, 1, 1, 1, 1]}, {\"colorscale\": [[0.0, \"#19d3f3\"], [1.0, \"#19d3f3\"]], \"geo\": \"geo\", \"hovertemplate\": \"color=Oxford/AstraZeneca, Pfizer/BioNTech, Sputnik V<br>locations=%{location}<extra></extra>\", \"locationmode\": \"country names\", \"locations\": [\"Antigua and Barbuda\", \"Nicaragua\"], \"name\": \"Oxford/AstraZeneca, Pfizer/BioNTech, Sputnik V\", \"showlegend\": true, \"showscale\": false, \"type\": \"choropleth\", \"z\": [1, 1]}, {\"colorscale\": [[0.0, \"#FF6692\"], [1.0, \"#FF6692\"]], \"geo\": \"geo\", \"hovertemplate\": \"color=CanSino, Moderna, Oxford/AstraZeneca, Pfizer/BioNTech, Sinopharm/Beijing, Sputnik V<br>locations=%{location}<extra></extra>\", \"locationmode\": \"country names\", \"locations\": [\"Argentina\"], \"name\": \"CanSino, Moderna, Oxford/AstraZeneca, Pfizer/BioNTech, Sinopharm/Beijing, Sputnik V\", \"showlegend\": true, \"showscale\": false, \"type\": \"choropleth\", \"z\": [1]}, {\"colorscale\": [[0.0, \"#B6E880\"], [1.0, \"#B6E880\"]], \"geo\": \"geo\", \"hovertemplate\": \"color=Pfizer/BioNTech<br>locations=%{location}<extra></extra>\", \"locationmode\": \"country names\", \"locations\": [\"Aruba\", \"Cook Islands\", \"Gibraltar\", \"Kuwait\", \"Monaco\", \"New Caledonia\", \"New Zealand\", \"Tokelau\", \"Turks and Caicos Islands\"], \"name\": \"Pfizer/BioNTech\", \"showlegend\": true, \"showscale\": false, \"type\": \"choropleth\", \"z\": [1, 1, 1, 1, 1, 1, 1, 1, 1]}, {\"colorscale\": [[0.0, \"#FF97FF\"], [1.0, \"#FF97FF\"]], \"geo\": \"geo\", \"hovertemplate\": \"color=Moderna, Oxford/AstraZeneca, Pfizer/BioNTech<br>locations=%{location}<extra></extra>\", \"locationmode\": \"country names\", \"locations\": [\"Australia\", \"Canada\", \"England\", \"Finland\", \"Guernsey\", \"Isle of Man\", \"Japan\", \"Jersey\", \"Northern Ireland\", \"Rwanda\", \"Scotland\", \"Sint Maarten (Dutch part)\", \"Sweden\", \"United Kingdom\", \"Wales\"], \"name\": \"Moderna, Oxford/AstraZeneca, Pfizer/BioNTech\", \"showlegend\": true, \"showscale\": false, \"type\": \"choropleth\", \"z\": [1, 1, 1, 1, 1, 1, 1, 1, 1, 1, 1, 1, 1, 1, 1]}, {\"colorscale\": [[0.0, \"#FECB52\"], [1.0, \"#FECB52\"]], \"geo\": \"geo\", \"hovertemplate\": \"color=Johnson&Johnson, Moderna, Oxford/AstraZeneca, Pfizer/BioNTech<br>locations=%{location}<extra></extra>\", \"locationmode\": \"country names\", \"locations\": [\"Austria\", \"Belgium\", \"Bulgaria\", \"Croatia\", \"Cyprus\", \"Czechia\", \"Estonia\", \"France\", \"Germany\", \"Greece\", \"Iceland\", \"Ireland\", \"Italy\", \"Jamaica\", \"Latvia\", \"Lithuania\", \"Luxembourg\", \"Malta\", \"Netherlands\", \"Poland\", \"Portugal\", \"Romania\", \"South Korea\", \"Spain\"], \"name\": \"Johnson&Johnson, Moderna, Oxford/AstraZeneca, Pfizer/BioNTech\", \"showlegend\": true, \"showscale\": false, \"type\": \"choropleth\", \"z\": [1, 1, 1, 1, 1, 1, 1, 1, 1, 1, 1, 1, 1, 1, 1, 1, 1, 1, 1, 1, 1, 1, 1, 1]}, {\"colorscale\": [[0.0, \"#636efa\"], [1.0, \"#636efa\"]], \"geo\": \"geo\", \"hovertemplate\": \"color=Johnson&Johnson, Oxford/AstraZeneca, Pfizer/BioNTech<br>locations=%{location}<extra></extra>\", \"locationmode\": \"country names\", \"locations\": [\"Bahamas\", \"Eswatini\"], \"name\": \"Johnson&Johnson, Oxford/AstraZeneca, Pfizer/BioNTech\", \"showlegend\": true, \"showscale\": false, \"type\": \"choropleth\", \"z\": [1, 1]}, {\"colorscale\": [[0.0, \"#EF553B\"], [1.0, \"#EF553B\"]], \"geo\": \"geo\", \"hovertemplate\": \"color=Oxford/AstraZeneca, Pfizer/BioNTech, Sinopharm/Beijing, Sputnik V<br>locations=%{location}<extra></extra>\", \"locationmode\": \"country names\", \"locations\": [\"Bahrain\", \"Iraq\", \"Jordan\", \"Lebanon\", \"Mongolia\", \"Montenegro\", \"Serbia\"], \"name\": \"Oxford/AstraZeneca, Pfizer/BioNTech, Sinopharm/Beijing, Sputnik V\", \"showlegend\": true, \"showscale\": false, \"type\": \"choropleth\", \"z\": [1, 1, 1, 1, 1, 1, 1]}, {\"colorscale\": [[0.0, \"#00cc96\"], [1.0, \"#00cc96\"]], \"geo\": \"geo\", \"hovertemplate\": \"color=Moderna, Oxford/AstraZeneca, Pfizer/BioNTech, Sinopharm/Beijing<br>locations=%{location}<extra></extra>\", \"locationmode\": \"country names\", \"locations\": [\"Bangladesh\", \"Bhutan\", \"Cape Verde\"], \"name\": \"Moderna, Oxford/AstraZeneca, Pfizer/BioNTech, Sinopharm/Beijing\", \"showlegend\": true, \"showscale\": false, \"type\": \"choropleth\", \"z\": [1, 1, 1]}, {\"colorscale\": [[0.0, \"#ab63fa\"], [1.0, \"#ab63fa\"]], \"geo\": \"geo\", \"hovertemplate\": \"color=Oxford/AstraZeneca, Pfizer/BioNTech, Sinopharm/Beijing<br>locations=%{location}<extra></extra>\", \"locationmode\": \"country names\", \"locations\": [\"Barbados\", \"Dominica\", \"Maldives\", \"Peru\", \"Suriname\", \"Trinidad and Tobago\"], \"name\": \"Oxford/AstraZeneca, Pfizer/BioNTech, Sinopharm/Beijing\", \"showlegend\": true, \"showscale\": false, \"type\": \"choropleth\", \"z\": [1, 1, 1, 1, 1, 1]}, {\"colorscale\": [[0.0, \"#FFA15A\"], [1.0, \"#FFA15A\"]], \"geo\": \"geo\", \"hovertemplate\": \"color=Sinopharm/Beijing, Sputnik V<br>locations=%{location}<extra></extra>\", \"locationmode\": \"country names\", \"locations\": [\"Belarus\", \"Kyrgyzstan\"], \"name\": \"Sinopharm/Beijing, Sputnik V\", \"showlegend\": true, \"showscale\": false, \"type\": \"choropleth\", \"z\": [1, 1]}, {\"colorscale\": [[0.0, \"#19d3f3\"], [1.0, \"#19d3f3\"]], \"geo\": \"geo\", \"hovertemplate\": \"color=Oxford/AstraZeneca, Sinopharm/Beijing<br>locations=%{location}<extra></extra>\", \"locationmode\": \"country names\", \"locations\": [\"Belize\", \"Brunei\", \"Guinea-Bissau\", \"Mauritania\", \"Mozambique\", \"Myanmar\", \"Namibia\", \"Niger\", \"Senegal\", \"Sierra Leone\"], \"name\": \"Oxford/AstraZeneca, Sinopharm/Beijing\", \"showlegend\": true, \"showscale\": false, \"type\": \"choropleth\", \"z\": [1, 1, 1, 1, 1, 1, 1, 1, 1, 1]}, {\"colorscale\": [[0.0, \"#FF6692\"], [1.0, \"#FF6692\"]], \"geo\": \"geo\", \"hovertemplate\": \"color=Oxford/AstraZeneca, Sinovac<br>locations=%{location}<extra></extra>\", \"locationmode\": \"country names\", \"locations\": [\"Benin\", \"Timor\"], \"name\": \"Oxford/AstraZeneca, Sinovac\", \"showlegend\": true, \"showscale\": false, \"type\": \"choropleth\", \"z\": [1, 1]}, {\"colorscale\": [[0.0, \"#B6E880\"], [1.0, \"#B6E880\"]], \"geo\": \"geo\", \"hovertemplate\": \"color=Johnson&Johnson, Oxford/AstraZeneca, Pfizer/BioNTech, Sinopharm/Beijing, Sputnik V<br>locations=%{location}<extra></extra>\", \"locationmode\": \"country names\", \"locations\": [\"Bolivia\", \"Cote d'Ivoire\", \"Moldova\", \"Morocco\"], \"name\": \"Johnson&Johnson, Oxford/AstraZeneca, Pfizer/BioNTech, Sinopharm/Beijing, Sputnik V\", \"showlegend\": true, \"showscale\": false, \"type\": \"choropleth\", \"z\": [1, 1, 1, 1]}, {\"colorscale\": [[0.0, \"#FF97FF\"], [1.0, \"#FF97FF\"]], \"geo\": \"geo\", \"hovertemplate\": \"color=Moderna, Pfizer/BioNTech<br>locations=%{location}<extra></extra>\", \"locationmode\": \"country names\", \"locations\": [\"Bonaire Sint Eustatius and Saba\", \"Curacao\", \"Faeroe Islands\", \"Israel\", \"Liechtenstein\", \"Norway\", \"Qatar\", \"Switzerland\"], \"name\": \"Moderna, Pfizer/BioNTech\", \"showlegend\": true, \"showscale\": false, \"type\": \"choropleth\", \"z\": [1, 1, 1, 1, 1, 1, 1, 1]}, {\"colorscale\": [[0.0, \"#FECB52\"], [1.0, \"#FECB52\"]], \"geo\": \"geo\", \"hovertemplate\": \"color=Moderna, Oxford/AstraZeneca, Pfizer/BioNTech, Sinovac<br>locations=%{location}<extra></extra>\", \"locationmode\": \"country names\", \"locations\": [\"Botswana\", \"Ukraine\"], \"name\": \"Moderna, Oxford/AstraZeneca, Pfizer/BioNTech, Sinovac\", \"showlegend\": true, \"showscale\": false, \"type\": \"choropleth\", \"z\": [1, 1]}, {\"colorscale\": [[0.0, \"#636efa\"], [1.0, \"#636efa\"]], \"geo\": \"geo\", \"hovertemplate\": \"color=Johnson&Johnson, Oxford/AstraZeneca, Pfizer/BioNTech, Sinovac<br>locations=%{location}<extra></extra>\", \"locationmode\": \"country names\", \"locations\": [\"Brazil\"], \"name\": \"Johnson&Johnson, Oxford/AstraZeneca, Pfizer/BioNTech, Sinovac\", \"showlegend\": true, \"showscale\": false, \"type\": \"choropleth\", \"z\": [1]}, {\"colorscale\": [[0.0, \"#EF553B\"], [1.0, \"#EF553B\"]], \"geo\": \"geo\", \"hovertemplate\": \"color=Johnson&Johnson, Oxford/AstraZeneca<br>locations=%{location}<extra></extra>\", \"locationmode\": \"country names\", \"locations\": [\"British Virgin Islands\", \"Malawi\", \"South Sudan\"], \"name\": \"Johnson&Johnson, Oxford/AstraZeneca\", \"showlegend\": true, \"showscale\": false, \"type\": \"choropleth\", \"z\": [1, 1, 1]}, {\"colorscale\": [[0.0, \"#00cc96\"], [1.0, \"#00cc96\"]], \"geo\": \"geo\", \"hovertemplate\": \"color=Johnson&Johnson, Oxford/AstraZeneca, Sinopharm/Beijing<br>locations=%{location}<extra></extra>\", \"locationmode\": \"country names\", \"locations\": [\"Burkina Faso\", \"Gambia\", \"Zambia\"], \"name\": \"Johnson&Johnson, Oxford/AstraZeneca, Sinopharm/Beijing\", \"showlegend\": true, \"showscale\": false, \"type\": \"choropleth\", \"z\": [1, 1, 1]}, {\"colorscale\": [[0.0, \"#ab63fa\"], [1.0, \"#ab63fa\"]], \"geo\": \"geo\", \"hovertemplate\": \"color=Sinopharm/Beijing<br>locations=%{location}<extra></extra>\", \"locationmode\": \"country names\", \"locations\": [\"Burundi\", \"Chad\", \"Equatorial Guinea\", \"Gabon\"], \"name\": \"Sinopharm/Beijing\", \"showlegend\": true, \"showscale\": false, \"type\": \"choropleth\", \"z\": [1, 1, 1, 1]}, {\"colorscale\": [[0.0, \"#FFA15A\"], [1.0, \"#FFA15A\"]], \"geo\": \"geo\", \"hovertemplate\": \"color=Johnson&Johnson, Oxford/AstraZeneca, Sinopharm/Beijing, Sinovac<br>locations=%{location}<extra></extra>\", \"locationmode\": \"country names\", \"locations\": [\"Cambodia\", \"Somalia\"], \"name\": \"Johnson&Johnson, Oxford/AstraZeneca, Sinopharm/Beijing, Sinovac\", \"showlegend\": true, \"showscale\": false, \"type\": \"choropleth\", \"z\": [1, 1]}, {\"colorscale\": [[0.0, \"#19d3f3\"], [1.0, \"#19d3f3\"]], \"geo\": \"geo\", \"hovertemplate\": \"color=Covaxin, Oxford/AstraZeneca<br>locations=%{location}<extra></extra>\", \"locationmode\": \"country names\", \"locations\": [\"Central African Republic\"], \"name\": \"Covaxin, Oxford/AstraZeneca\", \"showlegend\": true, \"showscale\": false, \"type\": \"choropleth\", \"z\": [1]}, {\"colorscale\": [[0.0, \"#FF6692\"], [1.0, \"#FF6692\"]], \"geo\": \"geo\", \"hovertemplate\": \"color=CanSino, Oxford/AstraZeneca, Pfizer/BioNTech, Sinovac<br>locations=%{location}<extra></extra>\", \"locationmode\": \"country names\", \"locations\": [\"Chile\", \"Ecuador\", \"Malaysia\"], \"name\": \"CanSino, Oxford/AstraZeneca, Pfizer/BioNTech, Sinovac\", \"showlegend\": true, \"showscale\": false, \"type\": \"choropleth\", \"z\": [1, 1, 1]}, {\"colorscale\": [[0.0, \"#B6E880\"], [1.0, \"#B6E880\"]], \"geo\": \"geo\", \"hovertemplate\": \"color=CanSino, Sinopharm/Beijing, Sinopharm/Wuhan, Sinovac, ZF2001<br>locations=%{location}<extra></extra>\", \"locationmode\": \"country names\", \"locations\": [\"China\"], \"name\": \"CanSino, Sinopharm/Beijing, Sinopharm/Wuhan, Sinovac, ZF2001\", \"showlegend\": true, \"showscale\": false, \"type\": \"choropleth\", \"z\": [1]}, {\"colorscale\": [[0.0, \"#FF97FF\"], [1.0, \"#FF97FF\"]], \"geo\": \"geo\", \"hovertemplate\": \"color=Johnson&Johnson, Moderna, Oxford/AstraZeneca, Pfizer/BioNTech, Sinovac<br>locations=%{location}<extra></extra>\", \"locationmode\": \"country names\", \"locations\": [\"Colombia\"], \"name\": \"Johnson&Johnson, Moderna, Oxford/AstraZeneca, Pfizer/BioNTech, Sinovac\", \"showlegend\": true, \"showscale\": false, \"type\": \"choropleth\", \"z\": [1]}, {\"colorscale\": [[0.0, \"#FECB52\"], [1.0, \"#FECB52\"]], \"geo\": \"geo\", \"hovertemplate\": \"color=Covaxin, Oxford/AstraZeneca, Sinopharm/Beijing<br>locations=%{location}<extra></extra>\", \"locationmode\": \"country names\", \"locations\": [\"Comoros\", \"Mauritius\"], \"name\": \"Covaxin, Oxford/AstraZeneca, Sinopharm/Beijing\", \"showlegend\": true, \"showscale\": false, \"type\": \"choropleth\", \"z\": [1, 1]}, {\"colorscale\": [[0.0, \"#636efa\"], [1.0, \"#636efa\"]], \"geo\": \"geo\", \"hovertemplate\": \"color=Moderna, Oxford/AstraZeneca, Sinopharm/Beijing, Sputnik V<br>locations=%{location}<extra></extra>\", \"locationmode\": \"country names\", \"locations\": [\"Congo\"], \"name\": \"Moderna, Oxford/AstraZeneca, Sinopharm/Beijing, Sputnik V\", \"showlegend\": true, \"showscale\": false, \"type\": \"choropleth\", \"z\": [1]}, {\"colorscale\": [[0.0, \"#EF553B\"], [1.0, \"#EF553B\"]], \"geo\": \"geo\", \"hovertemplate\": \"color=Abdala, Soberana02<br>locations=%{location}<extra></extra>\", \"locationmode\": \"country names\", \"locations\": [\"Cuba\"], \"name\": \"Abdala, Soberana02\", \"showlegend\": true, \"showscale\": false, \"type\": \"choropleth\", \"z\": [1]}, {\"colorscale\": [[0.0, \"#00cc96\"], [1.0, \"#00cc96\"]], \"geo\": \"geo\", \"hovertemplate\": \"color=Johnson&Johnson, Moderna, Pfizer/BioNTech<br>locations=%{location}<extra></extra>\", \"locationmode\": \"country names\", \"locations\": [\"Denmark\", \"United States\"], \"name\": \"Johnson&Johnson, Moderna, Pfizer/BioNTech\", \"showlegend\": true, \"showscale\": false, \"type\": \"choropleth\", \"z\": [1, 1]}, {\"colorscale\": [[0.0, \"#ab63fa\"], [1.0, \"#ab63fa\"]], \"geo\": \"geo\", \"hovertemplate\": \"color=Johnson&Johnson, Oxford/AstraZeneca, Pfizer/BioNTech, Sinopharm/Beijing, Sinovac, Sputnik V<br>locations=%{location}<extra></extra>\", \"locationmode\": \"country names\", \"locations\": [\"Djibouti\", \"Egypt\", \"Laos\"], \"name\": \"Johnson&Johnson, Oxford/AstraZeneca, Pfizer/BioNTech, Sinopharm/Beijing, Sinovac, Sputnik V\", \"showlegend\": true, \"showscale\": false, \"type\": \"choropleth\", \"z\": [1, 1, 1]}, {\"colorscale\": [[0.0, \"#FFA15A\"], [1.0, \"#FFA15A\"]], \"geo\": \"geo\", \"hovertemplate\": \"color=Oxford/AstraZeneca, Pfizer/BioNTech, Sinopharm/Beijing, Sinovac<br>locations=%{location}<extra></extra>\", \"locationmode\": \"country names\", \"locations\": [\"Dominican Republic\", \"El Salvador\", \"Georgia\", \"Thailand\"], \"name\": \"Oxford/AstraZeneca, Pfizer/BioNTech, Sinopharm/Beijing, Sinovac\", \"showlegend\": true, \"showscale\": false, \"type\": \"choropleth\", \"z\": [1, 1, 1, 1]}, {\"colorscale\": [[0.0, \"#19d3f3\"], [1.0, \"#19d3f3\"]], \"geo\": \"geo\", \"hovertemplate\": \"color=Johnson&Johnson, Pfizer/BioNTech<br>locations=%{location}<extra></extra>\", \"locationmode\": \"country names\", \"locations\": [\"French Polynesia\", \"South Africa\"], \"name\": \"Johnson&Johnson, Pfizer/BioNTech\", \"showlegend\": true, \"showscale\": false, \"type\": \"choropleth\", \"z\": [1, 1]}, {\"colorscale\": [[0.0, \"#FF6692\"], [1.0, \"#FF6692\"]], \"geo\": \"geo\", \"hovertemplate\": \"color=Oxford/AstraZeneca, Sputnik V<br>locations=%{location}<extra></extra>\", \"locationmode\": \"country names\", \"locations\": [\"Ghana\", \"Guyana\", \"Kenya\"], \"name\": \"Oxford/AstraZeneca, Sputnik V\", \"showlegend\": true, \"showscale\": false, \"type\": \"choropleth\", \"z\": [1, 1, 1]}, {\"colorscale\": [[0.0, \"#B6E880\"], [1.0, \"#B6E880\"]], \"geo\": \"geo\", \"hovertemplate\": \"color=Moderna<br>locations=%{location}<extra></extra>\", \"locationmode\": \"country names\", \"locations\": [\"Greenland\", \"Wallis and Futuna\"], \"name\": \"Moderna\", \"showlegend\": true, \"showscale\": false, \"type\": \"choropleth\", \"z\": [1, 1]}, {\"colorscale\": [[0.0, \"#FF97FF\"], [1.0, \"#FF97FF\"]], \"geo\": \"geo\", \"hovertemplate\": \"color=Moderna, Oxford/AstraZeneca<br>locations=%{location}<extra></extra>\", \"locationmode\": \"country names\", \"locations\": [\"Guatemala\"], \"name\": \"Moderna, Oxford/AstraZeneca\", \"showlegend\": true, \"showscale\": false, \"type\": \"choropleth\", \"z\": [1]}, {\"colorscale\": [[0.0, \"#FECB52\"], [1.0, \"#FECB52\"]], \"geo\": \"geo\", \"hovertemplate\": \"color=Sputnik V<br>locations=%{location}<extra></extra>\", \"locationmode\": \"country names\", \"locations\": [\"Guinea\"], \"name\": \"Sputnik V\", \"showlegend\": true, \"showscale\": false, \"type\": \"choropleth\", \"z\": [1]}, {\"colorscale\": [[0.0, \"#636efa\"], [1.0, \"#636efa\"]], \"geo\": \"geo\", \"hovertemplate\": \"color=Johnson&Johnson, Moderna<br>locations=%{location}<extra></extra>\", \"locationmode\": \"country names\", \"locations\": [\"Haiti\"], \"name\": \"Johnson&Johnson, Moderna\", \"showlegend\": true, \"showscale\": false, \"type\": \"choropleth\", \"z\": [1]}, {\"colorscale\": [[0.0, \"#EF553B\"], [1.0, \"#EF553B\"]], \"geo\": \"geo\", \"hovertemplate\": \"color=Johnson&Johnson, Moderna, Oxford/AstraZeneca, Pfizer/BioNTech, Sputnik V<br>locations=%{location}<extra></extra>\", \"locationmode\": \"country names\", \"locations\": [\"Honduras\"], \"name\": \"Johnson&Johnson, Moderna, Oxford/AstraZeneca, Pfizer/BioNTech, Sputnik V\", \"showlegend\": true, \"showscale\": false, \"type\": \"choropleth\", \"z\": [1]}, {\"colorscale\": [[0.0, \"#00cc96\"], [1.0, \"#00cc96\"]], \"geo\": \"geo\", \"hovertemplate\": \"color=Pfizer/BioNTech, Sinovac<br>locations=%{location}<extra></extra>\", \"locationmode\": \"country names\", \"locations\": [\"Hong Kong\", \"Turkey\"], \"name\": \"Pfizer/BioNTech, Sinovac\", \"showlegend\": true, \"showscale\": false, \"type\": \"choropleth\", \"z\": [1, 1]}, {\"colorscale\": [[0.0, \"#ab63fa\"], [1.0, \"#ab63fa\"]], \"geo\": \"geo\", \"hovertemplate\": \"color=Johnson&Johnson, Moderna, Oxford/AstraZeneca, Pfizer/BioNTech, Sinopharm/Beijing, Sputnik V<br>locations=%{location}<extra></extra>\", \"locationmode\": \"country names\", \"locations\": [\"Hungary\"], \"name\": \"Johnson&Johnson, Moderna, Oxford/AstraZeneca, Pfizer/BioNTech, Sinopharm/Beijing, Sputnik V\", \"showlegend\": true, \"showscale\": false, \"type\": \"choropleth\", \"z\": [1]}, {\"colorscale\": [[0.0, \"#FFA15A\"], [1.0, \"#FFA15A\"]], \"geo\": \"geo\", \"hovertemplate\": \"color=Covaxin, Oxford/AstraZeneca, Sputnik V<br>locations=%{location}<extra></extra>\", \"locationmode\": \"country names\", \"locations\": [\"India\"], \"name\": \"Covaxin, Oxford/AstraZeneca, Sputnik V\", \"showlegend\": true, \"showscale\": false, \"type\": \"choropleth\", \"z\": [1]}, {\"colorscale\": [[0.0, \"#19d3f3\"], [1.0, \"#19d3f3\"]], \"geo\": \"geo\", \"hovertemplate\": \"color=Moderna, Oxford/AstraZeneca, Pfizer/BioNTech, Sinopharm/Beijing, Sinovac<br>locations=%{location}<extra></extra>\", \"locationmode\": \"country names\", \"locations\": [\"Indonesia\"], \"name\": \"Moderna, Oxford/AstraZeneca, Pfizer/BioNTech, Sinopharm/Beijing, Sinovac\", \"showlegend\": true, \"showscale\": false, \"type\": \"choropleth\", \"z\": [1]}, {\"colorscale\": [[0.0, \"#FF6692\"], [1.0, \"#FF6692\"]], \"geo\": \"geo\", \"hovertemplate\": \"color=COVIran Barekat, Covaxin, Oxford/AstraZeneca, Sinopharm/Beijing, Soberana02, Sputnik V<br>locations=%{location}<extra></extra>\", \"locationmode\": \"country names\", \"locations\": [\"Iran\"], \"name\": \"COVIran Barekat, Covaxin, Oxford/AstraZeneca, Sinopharm/Beijing, Soberana02, Sputnik V\", \"showlegend\": true, \"showscale\": false, \"type\": \"choropleth\", \"z\": [1]}, {\"colorscale\": [[0.0, \"#B6E880\"], [1.0, \"#B6E880\"]], \"geo\": \"geo\", \"hovertemplate\": \"color=QazVac, Sinopharm/Beijing, Sputnik V<br>locations=%{location}<extra></extra>\", \"locationmode\": \"country names\", \"locations\": [\"Kazakhstan\"], \"name\": \"QazVac, Sinopharm/Beijing, Sputnik V\", \"showlegend\": true, \"showscale\": false, \"type\": \"choropleth\", \"z\": [1]}, {\"colorscale\": [[0.0, \"#FF97FF\"], [1.0, \"#FF97FF\"]], \"geo\": \"geo\", \"hovertemplate\": \"color=Johnson&Johnson, Moderna, Oxford/AstraZeneca, Pfizer/BioNTech, Sinopharm/Beijing, Sinovac, Sputnik V<br>locations=%{location}<extra></extra>\", \"locationmode\": \"country names\", \"locations\": [\"Libya\", \"Philippines\", \"Tunisia\"], \"name\": \"Johnson&Johnson, Moderna, Oxford/AstraZeneca, Pfizer/BioNTech, Sinopharm/Beijing, Sinovac, Sputnik V\", \"showlegend\": true, \"showscale\": false, \"type\": \"choropleth\", \"z\": [1, 1, 1]}, {\"colorscale\": [[0.0, \"#FECB52\"], [1.0, \"#FECB52\"]], \"geo\": \"geo\", \"hovertemplate\": \"color=Pfizer/BioNTech, Sinopharm/Beijing<br>locations=%{location}<extra></extra>\", \"locationmode\": \"country names\", \"locations\": [\"Macao\"], \"name\": \"Pfizer/BioNTech, Sinopharm/Beijing\", \"showlegend\": true, \"showscale\": false, \"type\": \"choropleth\", \"z\": [1]}, {\"colorscale\": [[0.0, \"#636efa\"], [1.0, \"#636efa\"]], \"geo\": \"geo\", \"hovertemplate\": \"color=CanSino, Johnson&Johnson, Moderna, Oxford/AstraZeneca, Pfizer/BioNTech, Sinovac, Sputnik V<br>locations=%{location}<extra></extra>\", \"locationmode\": \"country names\", \"locations\": [\"Mexico\"], \"name\": \"CanSino, Johnson&Johnson, Moderna, Oxford/AstraZeneca, Pfizer/BioNTech, Sinovac, Sputnik V\", \"showlegend\": true, \"showscale\": false, \"type\": \"choropleth\", \"z\": [1]}, {\"colorscale\": [[0.0, \"#EF553B\"], [1.0, \"#EF553B\"]], \"geo\": \"geo\", \"hovertemplate\": \"color=Covaxin, Johnson&Johnson, Oxford/AstraZeneca, Sinopharm/Beijing, Sputnik V<br>locations=%{location}<extra></extra>\", \"locationmode\": \"country names\", \"locations\": [\"Nepal\"], \"name\": \"Covaxin, Johnson&Johnson, Oxford/AstraZeneca, Sinopharm/Beijing, Sputnik V\", \"showlegend\": true, \"showscale\": false, \"type\": \"choropleth\", \"z\": [1]}, {\"colorscale\": [[0.0, \"#00cc96\"], [1.0, \"#00cc96\"]], \"geo\": \"geo\", \"hovertemplate\": \"color=Oxford/AstraZeneca, Pfizer/BioNTech, Sinopharm/Beijing, Sinovac, Sputnik V<br>locations=%{location}<extra></extra>\", \"locationmode\": \"country names\", \"locations\": [\"North Macedonia\"], \"name\": \"Oxford/AstraZeneca, Pfizer/BioNTech, Sinopharm/Beijing, Sinovac, Sputnik V\", \"showlegend\": true, \"showscale\": false, \"type\": \"choropleth\", \"z\": [1]}, {\"colorscale\": [[0.0, \"#ab63fa\"], [1.0, \"#ab63fa\"]], \"geo\": \"geo\", \"hovertemplate\": \"color=Oxford/AstraZeneca, Pfizer/BioNTech, Sinovac<br>locations=%{location}<extra></extra>\", \"locationmode\": \"country names\", \"locations\": [\"Northern Cyprus\", \"Uruguay\"], \"name\": \"Oxford/AstraZeneca, Pfizer/BioNTech, Sinovac\", \"showlegend\": true, \"showscale\": false, \"type\": \"choropleth\", \"z\": [1, 1]}, {\"colorscale\": [[0.0, \"#FFA15A\"], [1.0, \"#FFA15A\"]], \"geo\": \"geo\", \"hovertemplate\": \"color=CanSino, Covaxin, Moderna, Oxford/AstraZeneca, Pfizer/BioNTech, Sinopharm/Beijing, Sinovac, Sputnik V<br>locations=%{location}<extra></extra>\", \"locationmode\": \"country names\", \"locations\": [\"Pakistan\"], \"name\": \"CanSino, Covaxin, Moderna, Oxford/AstraZeneca, Pfizer/BioNTech, Sinopharm/Beijing, Sinovac, Sputnik V\", \"showlegend\": true, \"showscale\": false, \"type\": \"choropleth\", \"z\": [1]}, {\"colorscale\": [[0.0, \"#19d3f3\"], [1.0, \"#19d3f3\"]], \"geo\": \"geo\", \"hovertemplate\": \"color=Moderna, Oxford/AstraZeneca, Pfizer/BioNTech, Sinopharm/Beijing, Sputnik Light, Sputnik V<br>locations=%{location}<extra></extra>\", \"locationmode\": \"country names\", \"locations\": [\"Palestine\"], \"name\": \"Moderna, Oxford/AstraZeneca, Pfizer/BioNTech, Sinopharm/Beijing, Sputnik Light, Sputnik V\", \"showlegend\": true, \"showscale\": false, \"type\": \"choropleth\", \"z\": [1]}, {\"colorscale\": [[0.0, \"#FF6692\"], [1.0, \"#FF6692\"]], \"geo\": \"geo\", \"hovertemplate\": \"color=Covaxin, Moderna, Oxford/AstraZeneca, Pfizer/BioNTech, Sinopharm/Beijing, Sinovac, Sputnik V<br>locations=%{location}<extra></extra>\", \"locationmode\": \"country names\", \"locations\": [\"Paraguay\"], \"name\": \"Covaxin, Moderna, Oxford/AstraZeneca, Pfizer/BioNTech, Sinopharm/Beijing, Sinovac, Sputnik V\", \"showlegend\": true, \"showscale\": false, \"type\": \"choropleth\", \"z\": [1]}, {\"colorscale\": [[0.0, \"#B6E880\"], [1.0, \"#B6E880\"]], \"geo\": \"geo\", \"hovertemplate\": \"color=EpiVacCorona, Sputnik V<br>locations=%{location}<extra></extra>\", \"locationmode\": \"country names\", \"locations\": [\"Russia\"], \"name\": \"EpiVacCorona, Sputnik V\", \"showlegend\": true, \"showscale\": false, \"type\": \"choropleth\", \"z\": [1]}, {\"colorscale\": [[0.0, \"#FF97FF\"], [1.0, \"#FF97FF\"]], \"geo\": \"geo\", \"hovertemplate\": \"color=Pfizer/BioNTech, Sputnik V<br>locations=%{location}<extra></extra>\", \"locationmode\": \"country names\", \"locations\": [\"San Marino\"], \"name\": \"Pfizer/BioNTech, Sputnik V\", \"showlegend\": true, \"showscale\": false, \"type\": \"choropleth\", \"z\": [1]}, {\"colorscale\": [[0.0, \"#FECB52\"], [1.0, \"#FECB52\"]], \"geo\": \"geo\", \"hovertemplate\": \"color=Oxford/AstraZeneca, Sinopharm/Beijing, Sputnik V<br>locations=%{location}<extra></extra>\", \"locationmode\": \"country names\", \"locations\": [\"Seychelles\"], \"name\": \"Oxford/AstraZeneca, Sinopharm/Beijing, Sputnik V\", \"showlegend\": true, \"showscale\": false, \"type\": \"choropleth\", \"z\": [1]}, {\"colorscale\": [[0.0, \"#636efa\"], [1.0, \"#636efa\"]], \"geo\": \"geo\", \"hovertemplate\": \"color=Moderna, Pfizer/BioNTech, Sinovac<br>locations=%{location}<extra></extra>\", \"locationmode\": \"country names\", \"locations\": [\"Singapore\"], \"name\": \"Moderna, Pfizer/BioNTech, Sinovac\", \"showlegend\": true, \"showscale\": false, \"type\": \"choropleth\", \"z\": [1]}, {\"colorscale\": [[0.0, \"#EF553B\"], [1.0, \"#EF553B\"]], \"geo\": \"geo\", \"hovertemplate\": \"color=Moderna, Oxford/AstraZeneca, Pfizer/BioNTech, Sputnik V<br>locations=%{location}<extra></extra>\", \"locationmode\": \"country names\", \"locations\": [\"Slovakia\"], \"name\": \"Moderna, Oxford/AstraZeneca, Pfizer/BioNTech, Sputnik V\", \"showlegend\": true, \"showscale\": false, \"type\": \"choropleth\", \"z\": [1]}, {\"colorscale\": [[0.0, \"#00cc96\"], [1.0, \"#00cc96\"]], \"geo\": \"geo\", \"hovertemplate\": \"color=Moderna, Oxford/AstraZeneca, Pfizer/BioNTech, Sinopharm/Beijing, Sputnik V<br>locations=%{location}<extra></extra>\", \"locationmode\": \"country names\", \"locations\": [\"Sri Lanka\", \"Vietnam\"], \"name\": \"Moderna, Oxford/AstraZeneca, Pfizer/BioNTech, Sinopharm/Beijing, Sputnik V\", \"showlegend\": true, \"showscale\": false, \"type\": \"choropleth\", \"z\": [1, 1]}, {\"colorscale\": [[0.0, \"#ab63fa\"], [1.0, \"#ab63fa\"]], \"geo\": \"geo\", \"hovertemplate\": \"color=Johnson&Johnson, Oxford/AstraZeneca, Pfizer/BioNTech, Sinopharm/Beijing, Sinovac<br>locations=%{location}<extra></extra>\", \"locationmode\": \"country names\", \"locations\": [\"Sudan\"], \"name\": \"Johnson&Johnson, Oxford/AstraZeneca, Pfizer/BioNTech, Sinopharm/Beijing, Sinovac\", \"showlegend\": true, \"showscale\": false, \"type\": \"choropleth\", \"z\": [1]}, {\"colorscale\": [[0.0, \"#FFA15A\"], [1.0, \"#FFA15A\"]], \"geo\": \"geo\", \"hovertemplate\": \"color=Johnson&Johnson, Oxford/AstraZeneca, Sinopharm/Beijing, Sinovac, Sputnik Light, Sputnik V<br>locations=%{location}<extra></extra>\", \"locationmode\": \"country names\", \"locations\": [\"Syria\"], \"name\": \"Johnson&Johnson, Oxford/AstraZeneca, Sinopharm/Beijing, Sinovac, Sputnik Light, Sputnik V\", \"showlegend\": true, \"showscale\": false, \"type\": \"choropleth\", \"z\": [1]}, {\"colorscale\": [[0.0, \"#19d3f3\"], [1.0, \"#19d3f3\"]], \"geo\": \"geo\", \"hovertemplate\": \"color=Medigen, Moderna, Oxford/AstraZeneca, Pfizer/BioNTech<br>locations=%{location}<extra></extra>\", \"locationmode\": \"country names\", \"locations\": [\"Taiwan\"], \"name\": \"Medigen, Moderna, Oxford/AstraZeneca, Pfizer/BioNTech\", \"showlegend\": true, \"showscale\": false, \"type\": \"choropleth\", \"z\": [1]}, {\"colorscale\": [[0.0, \"#FF6692\"], [1.0, \"#FF6692\"]], \"geo\": \"geo\", \"hovertemplate\": \"color=Moderna, Oxford/AstraZeneca, Pfizer/BioNTech, Sinovac, Sputnik V<br>locations=%{location}<extra></extra>\", \"locationmode\": \"country names\", \"locations\": [\"Tajikistan\"], \"name\": \"Moderna, Oxford/AstraZeneca, Pfizer/BioNTech, Sinovac, Sputnik V\", \"showlegend\": true, \"showscale\": false, \"type\": \"choropleth\", \"z\": [1]}, {\"colorscale\": [[0.0, \"#B6E880\"], [1.0, \"#B6E880\"]], \"geo\": \"geo\", \"hovertemplate\": \"color=Johnson&Johnson<br>locations=%{location}<extra></extra>\", \"locationmode\": \"country names\", \"locations\": [\"Tanzania\"], \"name\": \"Johnson&Johnson\", \"showlegend\": true, \"showscale\": false, \"type\": \"choropleth\", \"z\": [1]}, {\"colorscale\": [[0.0, \"#FF97FF\"], [1.0, \"#FF97FF\"]], \"geo\": \"geo\", \"hovertemplate\": \"color=EpiVacCorona, Oxford/AstraZeneca, Sinopharm/Beijing, Sputnik V<br>locations=%{location}<extra></extra>\", \"locationmode\": \"country names\", \"locations\": [\"Turkmenistan\"], \"name\": \"EpiVacCorona, Oxford/AstraZeneca, Sinopharm/Beijing, Sputnik V\", \"showlegend\": true, \"showscale\": false, \"type\": \"choropleth\", \"z\": [1]}, {\"colorscale\": [[0.0, \"#FECB52\"], [1.0, \"#FECB52\"]], \"geo\": \"geo\", \"hovertemplate\": \"color=Oxford/AstraZeneca, Pfizer/BioNTech, Sinopharm/Beijing, Sinopharm/Wuhan, Sputnik V<br>locations=%{location}<extra></extra>\", \"locationmode\": \"country names\", \"locations\": [\"United Arab Emirates\"], \"name\": \"Oxford/AstraZeneca, Pfizer/BioNTech, Sinopharm/Beijing, Sinopharm/Wuhan, Sputnik V\", \"showlegend\": true, \"showscale\": false, \"type\": \"choropleth\", \"z\": [1]}, {\"colorscale\": [[0.0, \"#636efa\"], [1.0, \"#636efa\"]], \"geo\": \"geo\", \"hovertemplate\": \"color=Moderna, Oxford/AstraZeneca, Sputnik V, ZF2001<br>locations=%{location}<extra></extra>\", \"locationmode\": \"country names\", \"locations\": [\"Uzbekistan\"], \"name\": \"Moderna, Oxford/AstraZeneca, Sputnik V, ZF2001\", \"showlegend\": true, \"showscale\": false, \"type\": \"choropleth\", \"z\": [1]}, {\"colorscale\": [[0.0, \"#EF553B\"], [1.0, \"#EF553B\"]], \"geo\": \"geo\", \"hovertemplate\": \"color=Abdala, Sinopharm/Beijing, Sinopharm/Wuhan, Sputnik V<br>locations=%{location}<extra></extra>\", \"locationmode\": \"country names\", \"locations\": [\"Venezuela\"], \"name\": \"Abdala, Sinopharm/Beijing, Sinopharm/Wuhan, Sputnik V\", \"showlegend\": true, \"showscale\": false, \"type\": \"choropleth\", \"z\": [1]}, {\"colorscale\": [[0.0, \"#00cc96\"], [1.0, \"#00cc96\"]], \"geo\": \"geo\", \"hovertemplate\": \"color=Johnson&Johnson, Oxford/AstraZeneca, Sinovac<br>locations=%{location}<extra></extra>\", \"locationmode\": \"country names\", \"locations\": [\"Yemen\"], \"name\": \"Johnson&Johnson, Oxford/AstraZeneca, Sinovac\", \"showlegend\": true, \"showscale\": false, \"type\": \"choropleth\", \"z\": [1]}],                        {\"geo\": {\"center\": {}, \"domain\": {\"x\": [0.0, 1.0], \"y\": [0.0, 1.0]}}, \"legend\": {\"orientation\": \"v\", \"title\": {\"text\": \"Vaccine scheme\"}, \"tracegroupgap\": 0}, \"template\": {\"data\": {\"bar\": [{\"error_x\": {\"color\": \"#2a3f5f\"}, \"error_y\": {\"color\": \"#2a3f5f\"}, \"marker\": {\"line\": {\"color\": \"#E5ECF6\", \"width\": 0.5}}, \"type\": \"bar\"}], \"barpolar\": [{\"marker\": {\"line\": {\"color\": \"#E5ECF6\", \"width\": 0.5}}, \"type\": \"barpolar\"}], \"carpet\": [{\"aaxis\": {\"endlinecolor\": \"#2a3f5f\", \"gridcolor\": \"white\", \"linecolor\": \"white\", \"minorgridcolor\": \"white\", \"startlinecolor\": \"#2a3f5f\"}, \"baxis\": {\"endlinecolor\": \"#2a3f5f\", \"gridcolor\": \"white\", \"linecolor\": \"white\", \"minorgridcolor\": \"white\", \"startlinecolor\": \"#2a3f5f\"}, \"type\": \"carpet\"}], \"choropleth\": [{\"colorbar\": {\"outlinewidth\": 0, \"ticks\": \"\"}, \"type\": \"choropleth\"}], \"contour\": [{\"colorbar\": {\"outlinewidth\": 0, \"ticks\": \"\"}, \"colorscale\": [[0.0, \"#0d0887\"], [0.1111111111111111, \"#46039f\"], [0.2222222222222222, \"#7201a8\"], [0.3333333333333333, \"#9c179e\"], [0.4444444444444444, \"#bd3786\"], [0.5555555555555556, \"#d8576b\"], [0.6666666666666666, \"#ed7953\"], [0.7777777777777778, \"#fb9f3a\"], [0.8888888888888888, \"#fdca26\"], [1.0, \"#f0f921\"]], \"type\": \"contour\"}], \"contourcarpet\": [{\"colorbar\": {\"outlinewidth\": 0, \"ticks\": \"\"}, \"type\": \"contourcarpet\"}], \"heatmap\": [{\"colorbar\": {\"outlinewidth\": 0, \"ticks\": \"\"}, \"colorscale\": [[0.0, \"#0d0887\"], [0.1111111111111111, \"#46039f\"], [0.2222222222222222, \"#7201a8\"], [0.3333333333333333, \"#9c179e\"], [0.4444444444444444, \"#bd3786\"], [0.5555555555555556, \"#d8576b\"], [0.6666666666666666, \"#ed7953\"], [0.7777777777777778, \"#fb9f3a\"], [0.8888888888888888, \"#fdca26\"], [1.0, \"#f0f921\"]], \"type\": \"heatmap\"}], \"heatmapgl\": [{\"colorbar\": {\"outlinewidth\": 0, \"ticks\": \"\"}, \"colorscale\": [[0.0, \"#0d0887\"], [0.1111111111111111, \"#46039f\"], [0.2222222222222222, \"#7201a8\"], [0.3333333333333333, \"#9c179e\"], [0.4444444444444444, \"#bd3786\"], [0.5555555555555556, \"#d8576b\"], [0.6666666666666666, \"#ed7953\"], [0.7777777777777778, \"#fb9f3a\"], [0.8888888888888888, \"#fdca26\"], [1.0, \"#f0f921\"]], \"type\": \"heatmapgl\"}], \"histogram\": [{\"marker\": {\"colorbar\": {\"outlinewidth\": 0, \"ticks\": \"\"}}, \"type\": \"histogram\"}], \"histogram2d\": [{\"colorbar\": {\"outlinewidth\": 0, \"ticks\": \"\"}, \"colorscale\": [[0.0, \"#0d0887\"], [0.1111111111111111, \"#46039f\"], [0.2222222222222222, \"#7201a8\"], [0.3333333333333333, \"#9c179e\"], [0.4444444444444444, \"#bd3786\"], [0.5555555555555556, \"#d8576b\"], [0.6666666666666666, \"#ed7953\"], [0.7777777777777778, \"#fb9f3a\"], [0.8888888888888888, \"#fdca26\"], [1.0, \"#f0f921\"]], \"type\": \"histogram2d\"}], \"histogram2dcontour\": [{\"colorbar\": {\"outlinewidth\": 0, \"ticks\": \"\"}, \"colorscale\": [[0.0, \"#0d0887\"], [0.1111111111111111, \"#46039f\"], [0.2222222222222222, \"#7201a8\"], [0.3333333333333333, \"#9c179e\"], [0.4444444444444444, \"#bd3786\"], [0.5555555555555556, \"#d8576b\"], [0.6666666666666666, \"#ed7953\"], [0.7777777777777778, \"#fb9f3a\"], [0.8888888888888888, \"#fdca26\"], [1.0, \"#f0f921\"]], \"type\": \"histogram2dcontour\"}], \"mesh3d\": [{\"colorbar\": {\"outlinewidth\": 0, \"ticks\": \"\"}, \"type\": \"mesh3d\"}], \"parcoords\": [{\"line\": {\"colorbar\": {\"outlinewidth\": 0, \"ticks\": \"\"}}, \"type\": \"parcoords\"}], \"pie\": [{\"automargin\": true, \"type\": \"pie\"}], \"scatter\": [{\"marker\": {\"colorbar\": {\"outlinewidth\": 0, \"ticks\": \"\"}}, \"type\": \"scatter\"}], \"scatter3d\": [{\"line\": {\"colorbar\": {\"outlinewidth\": 0, \"ticks\": \"\"}}, \"marker\": {\"colorbar\": {\"outlinewidth\": 0, \"ticks\": \"\"}}, \"type\": \"scatter3d\"}], \"scattercarpet\": [{\"marker\": {\"colorbar\": {\"outlinewidth\": 0, \"ticks\": \"\"}}, \"type\": \"scattercarpet\"}], \"scattergeo\": [{\"marker\": {\"colorbar\": {\"outlinewidth\": 0, \"ticks\": \"\"}}, \"type\": \"scattergeo\"}], \"scattergl\": [{\"marker\": {\"colorbar\": {\"outlinewidth\": 0, \"ticks\": \"\"}}, \"type\": \"scattergl\"}], \"scattermapbox\": [{\"marker\": {\"colorbar\": {\"outlinewidth\": 0, \"ticks\": \"\"}}, \"type\": \"scattermapbox\"}], \"scatterpolar\": [{\"marker\": {\"colorbar\": {\"outlinewidth\": 0, \"ticks\": \"\"}}, \"type\": \"scatterpolar\"}], \"scatterpolargl\": [{\"marker\": {\"colorbar\": {\"outlinewidth\": 0, \"ticks\": \"\"}}, \"type\": \"scatterpolargl\"}], \"scatterternary\": [{\"marker\": {\"colorbar\": {\"outlinewidth\": 0, \"ticks\": \"\"}}, \"type\": \"scatterternary\"}], \"surface\": [{\"colorbar\": {\"outlinewidth\": 0, \"ticks\": \"\"}, \"colorscale\": [[0.0, \"#0d0887\"], [0.1111111111111111, \"#46039f\"], [0.2222222222222222, \"#7201a8\"], [0.3333333333333333, \"#9c179e\"], [0.4444444444444444, \"#bd3786\"], [0.5555555555555556, \"#d8576b\"], [0.6666666666666666, \"#ed7953\"], [0.7777777777777778, \"#fb9f3a\"], [0.8888888888888888, \"#fdca26\"], [1.0, \"#f0f921\"]], \"type\": \"surface\"}], \"table\": [{\"cells\": {\"fill\": {\"color\": \"#EBF0F8\"}, \"line\": {\"color\": \"white\"}}, \"header\": {\"fill\": {\"color\": \"#C8D4E3\"}, \"line\": {\"color\": \"white\"}}, \"type\": \"table\"}]}, \"layout\": {\"annotationdefaults\": {\"arrowcolor\": \"#2a3f5f\", \"arrowhead\": 0, \"arrowwidth\": 1}, \"coloraxis\": {\"colorbar\": {\"outlinewidth\": 0, \"ticks\": \"\"}}, \"colorscale\": {\"diverging\": [[0, \"#8e0152\"], [0.1, \"#c51b7d\"], [0.2, \"#de77ae\"], [0.3, \"#f1b6da\"], [0.4, \"#fde0ef\"], [0.5, \"#f7f7f7\"], [0.6, \"#e6f5d0\"], [0.7, \"#b8e186\"], [0.8, \"#7fbc41\"], [0.9, \"#4d9221\"], [1, \"#276419\"]], \"sequential\": [[0.0, \"#0d0887\"], [0.1111111111111111, \"#46039f\"], [0.2222222222222222, \"#7201a8\"], [0.3333333333333333, \"#9c179e\"], [0.4444444444444444, \"#bd3786\"], [0.5555555555555556, \"#d8576b\"], [0.6666666666666666, \"#ed7953\"], [0.7777777777777778, \"#fb9f3a\"], [0.8888888888888888, \"#fdca26\"], [1.0, \"#f0f921\"]], \"sequentialminus\": [[0.0, \"#0d0887\"], [0.1111111111111111, \"#46039f\"], [0.2222222222222222, \"#7201a8\"], [0.3333333333333333, \"#9c179e\"], [0.4444444444444444, \"#bd3786\"], [0.5555555555555556, \"#d8576b\"], [0.6666666666666666, \"#ed7953\"], [0.7777777777777778, \"#fb9f3a\"], [0.8888888888888888, \"#fdca26\"], [1.0, \"#f0f921\"]]}, \"colorway\": [\"#636efa\", \"#EF553B\", \"#00cc96\", \"#ab63fa\", \"#FFA15A\", \"#19d3f3\", \"#FF6692\", \"#B6E880\", \"#FF97FF\", \"#FECB52\"], \"font\": {\"color\": \"#2a3f5f\"}, \"geo\": {\"bgcolor\": \"white\", \"lakecolor\": \"white\", \"landcolor\": \"#E5ECF6\", \"showlakes\": true, \"showland\": true, \"subunitcolor\": \"white\"}, \"hoverlabel\": {\"align\": \"left\"}, \"hovermode\": \"closest\", \"mapbox\": {\"style\": \"light\"}, \"paper_bgcolor\": \"white\", \"plot_bgcolor\": \"#E5ECF6\", \"polar\": {\"angularaxis\": {\"gridcolor\": \"white\", \"linecolor\": \"white\", \"ticks\": \"\"}, \"bgcolor\": \"#E5ECF6\", \"radialaxis\": {\"gridcolor\": \"white\", \"linecolor\": \"white\", \"ticks\": \"\"}}, \"scene\": {\"xaxis\": {\"backgroundcolor\": \"#E5ECF6\", \"gridcolor\": \"white\", \"gridwidth\": 2, \"linecolor\": \"white\", \"showbackground\": true, \"ticks\": \"\", \"zerolinecolor\": \"white\"}, \"yaxis\": {\"backgroundcolor\": \"#E5ECF6\", \"gridcolor\": \"white\", \"gridwidth\": 2, \"linecolor\": \"white\", \"showbackground\": true, \"ticks\": \"\", \"zerolinecolor\": \"white\"}, \"zaxis\": {\"backgroundcolor\": \"#E5ECF6\", \"gridcolor\": \"white\", \"gridwidth\": 2, \"linecolor\": \"white\", \"showbackground\": true, \"ticks\": \"\", \"zerolinecolor\": \"white\"}}, \"shapedefaults\": {\"line\": {\"color\": \"#2a3f5f\"}}, \"ternary\": {\"aaxis\": {\"gridcolor\": \"white\", \"linecolor\": \"white\", \"ticks\": \"\"}, \"baxis\": {\"gridcolor\": \"white\", \"linecolor\": \"white\", \"ticks\": \"\"}, \"bgcolor\": \"#E5ECF6\", \"caxis\": {\"gridcolor\": \"white\", \"linecolor\": \"white\", \"ticks\": \"\"}}, \"title\": {\"x\": 0.05}, \"xaxis\": {\"automargin\": true, \"gridcolor\": \"white\", \"linecolor\": \"white\", \"ticks\": \"\", \"title\": {\"standoff\": 15}, \"zerolinecolor\": \"white\", \"zerolinewidth\": 2}, \"yaxis\": {\"automargin\": true, \"gridcolor\": \"white\", \"linecolor\": \"white\", \"ticks\": \"\", \"title\": {\"standoff\": 15}, \"zerolinecolor\": \"white\", \"zerolinewidth\": 2}}}, \"title\": {\"text\": \"Countries using each vaccine\"}},                        {\"responsive\": true}                    ).then(function(){\n",
       "                            \n",
       "var gd = document.getElementById('cfd4ab35-86bd-493c-8c17-a24ba24d2c94');\n",
       "var x = new MutationObserver(function (mutations, observer) {{\n",
       "        var display = window.getComputedStyle(gd).display;\n",
       "        if (!display || display === 'none') {{\n",
       "            console.log([gd, 'removed!']);\n",
       "            Plotly.purge(gd);\n",
       "            observer.disconnect();\n",
       "        }}\n",
       "}});\n",
       "\n",
       "// Listen for the removal of the full notebook cells\n",
       "var notebookContainer = gd.closest('#notebook-container');\n",
       "if (notebookContainer) {{\n",
       "    x.observe(notebookContainer, {childList: true});\n",
       "}}\n",
       "\n",
       "// Listen for the clearing of the current output cell\n",
       "var outputEl = gd.closest('.output');\n",
       "if (outputEl) {{\n",
       "    x.observe(outputEl, {childList: true});\n",
       "}}\n",
       "\n",
       "                        })                };                });            </script>        </div>"
      ]
     },
     "metadata": {},
     "output_type": "display_data"
    }
   ],
   "source": [
    "fig = px.choropleth(locations = country_vaccine['Country'],\n",
    "                    locationmode = 'country names',\n",
    "                    color = country_vaccine['Vaccines'],\n",
    "                    title = 'Countries using each vaccine')\n",
    "fig.update_layout({'legend_orientation' : 'v'})\n",
    "fig.update_layout({'legend_title' : 'Vaccine scheme'})\n",
    "fig.show()"
   ]
  },
  {
   "cell_type": "code",
   "execution_count": 20,
   "metadata": {},
   "outputs": [
    {
     "data": {
      "application/vnd.plotly.v1+json": {
       "config": {
        "plotlyServerURL": "https://plot.ly"
       },
       "data": [
        {
         "branchvalues": "total",
         "domain": {
          "x": [
           0,
           1
          ],
          "y": [
           0,
           1
          ]
         },
         "hovertemplate": "labels=%{label}<br>Total Vaccinations=%{value}<br>parent=%{parent}<br>id=%{id}<extra></extra>",
         "ids": [
          "Johnson&Johnson, Oxford/AstraZeneca, Pfizer/BioNTech, Sinopharm/Beijing/Afghanistan",
          "Oxford/AstraZeneca, Pfizer/BioNTech, Sinovac, Sputnik V/Albania",
          "Oxford/AstraZeneca, Sinopharm/Beijing, Sinovac, Sputnik V/Algeria",
          "Oxford/AstraZeneca, Pfizer/BioNTech/Andorra",
          "Oxford/AstraZeneca/Angola",
          "Oxford/AstraZeneca/Anguilla",
          "Oxford/AstraZeneca, Pfizer/BioNTech, Sputnik V/Antigua and Barbuda",
          "CanSino, Moderna, Oxford/AstraZeneca, Pfizer/BioNTech, Sinopharm/Beijing, Sputnik V/Argentina",
          "Oxford/AstraZeneca, Sinopharm/Beijing, Sinovac, Sputnik V/Armenia",
          "Pfizer/BioNTech/Aruba",
          "Moderna, Oxford/AstraZeneca, Pfizer/BioNTech/Australia",
          "Johnson&Johnson, Moderna, Oxford/AstraZeneca, Pfizer/BioNTech/Austria",
          "Oxford/AstraZeneca, Pfizer/BioNTech, Sinovac, Sputnik V/Azerbaijan",
          "Johnson&Johnson, Oxford/AstraZeneca, Pfizer/BioNTech/Bahamas",
          "Oxford/AstraZeneca, Pfizer/BioNTech, Sinopharm/Beijing, Sputnik V/Bahrain",
          "Moderna, Oxford/AstraZeneca, Pfizer/BioNTech, Sinopharm/Beijing/Bangladesh",
          "Oxford/AstraZeneca, Pfizer/BioNTech, Sinopharm/Beijing/Barbados",
          "Sinopharm/Beijing, Sputnik V/Belarus",
          "Johnson&Johnson, Moderna, Oxford/AstraZeneca, Pfizer/BioNTech/Belgium",
          "Oxford/AstraZeneca, Sinopharm/Beijing/Belize",
          "Oxford/AstraZeneca, Sinovac/Benin",
          "Oxford/AstraZeneca, Pfizer/BioNTech/Bermuda",
          "Moderna, Oxford/AstraZeneca, Pfizer/BioNTech, Sinopharm/Beijing/Bhutan",
          "Johnson&Johnson, Oxford/AstraZeneca, Pfizer/BioNTech, Sinopharm/Beijing, Sputnik V/Bolivia",
          "Moderna, Pfizer/BioNTech/Bonaire Sint Eustatius and Saba",
          "Oxford/AstraZeneca, Pfizer/BioNTech, Sinovac, Sputnik V/Bosnia and Herzegovina",
          "Moderna, Oxford/AstraZeneca, Pfizer/BioNTech, Sinovac/Botswana",
          "Johnson&Johnson, Oxford/AstraZeneca, Pfizer/BioNTech, Sinovac/Brazil",
          "Johnson&Johnson, Oxford/AstraZeneca/British Virgin Islands",
          "Oxford/AstraZeneca, Sinopharm/Beijing/Brunei",
          "Johnson&Johnson, Moderna, Oxford/AstraZeneca, Pfizer/BioNTech/Bulgaria",
          "Johnson&Johnson, Oxford/AstraZeneca, Sinopharm/Beijing/Burkina Faso",
          "Sinopharm/Beijing/Burundi",
          "Johnson&Johnson, Oxford/AstraZeneca, Sinopharm/Beijing, Sinovac/Cambodia",
          "Johnson&Johnson, Oxford/AstraZeneca, Pfizer/BioNTech, Sinopharm/Beijing/Cameroon",
          "Moderna, Oxford/AstraZeneca, Pfizer/BioNTech/Canada",
          "Moderna, Oxford/AstraZeneca, Pfizer/BioNTech, Sinopharm/Beijing/Cape Verde",
          "Oxford/AstraZeneca, Pfizer/BioNTech/Cayman Islands",
          "Covaxin, Oxford/AstraZeneca/Central African Republic",
          "Sinopharm/Beijing/Chad",
          "CanSino, Oxford/AstraZeneca, Pfizer/BioNTech, Sinovac/Chile",
          "CanSino, Sinopharm/Beijing, Sinopharm/Wuhan, Sinovac, ZF2001/China",
          "Johnson&Johnson, Moderna, Oxford/AstraZeneca, Pfizer/BioNTech, Sinovac/Colombia",
          "Covaxin, Oxford/AstraZeneca, Sinopharm/Beijing/Comoros",
          "Moderna, Oxford/AstraZeneca, Sinopharm/Beijing, Sputnik V/Congo",
          "Pfizer/BioNTech/Cook Islands",
          "Oxford/AstraZeneca, Pfizer/BioNTech/Costa Rica",
          "Johnson&Johnson, Oxford/AstraZeneca, Pfizer/BioNTech, Sinopharm/Beijing, Sputnik V/Cote d'Ivoire",
          "Johnson&Johnson, Moderna, Oxford/AstraZeneca, Pfizer/BioNTech/Croatia",
          "Abdala, Soberana02/Cuba",
          "Moderna, Pfizer/BioNTech/Curacao",
          "Johnson&Johnson, Moderna, Oxford/AstraZeneca, Pfizer/BioNTech/Cyprus",
          "Johnson&Johnson, Moderna, Oxford/AstraZeneca, Pfizer/BioNTech/Czechia",
          "Oxford/AstraZeneca/Democratic Republic of Congo",
          "Johnson&Johnson, Moderna, Pfizer/BioNTech/Denmark",
          "Johnson&Johnson, Oxford/AstraZeneca, Pfizer/BioNTech, Sinopharm/Beijing, Sinovac, Sputnik V/Djibouti",
          "Oxford/AstraZeneca, Pfizer/BioNTech, Sinopharm/Beijing/Dominica",
          "Oxford/AstraZeneca, Pfizer/BioNTech, Sinopharm/Beijing, Sinovac/Dominican Republic",
          "CanSino, Oxford/AstraZeneca, Pfizer/BioNTech, Sinovac/Ecuador",
          "Johnson&Johnson, Oxford/AstraZeneca, Pfizer/BioNTech, Sinopharm/Beijing, Sinovac, Sputnik V/Egypt",
          "Oxford/AstraZeneca, Pfizer/BioNTech, Sinopharm/Beijing, Sinovac/El Salvador",
          "Moderna, Oxford/AstraZeneca, Pfizer/BioNTech/England",
          "Sinopharm/Beijing/Equatorial Guinea",
          "Johnson&Johnson, Moderna, Oxford/AstraZeneca, Pfizer/BioNTech/Estonia",
          "Johnson&Johnson, Oxford/AstraZeneca, Pfizer/BioNTech/Eswatini",
          "Oxford/AstraZeneca/Ethiopia",
          "Moderna, Pfizer/BioNTech/Faeroe Islands",
          "Oxford/AstraZeneca/Falkland Islands",
          "Oxford/AstraZeneca/Fiji",
          "Moderna, Oxford/AstraZeneca, Pfizer/BioNTech/Finland",
          "Johnson&Johnson, Moderna, Oxford/AstraZeneca, Pfizer/BioNTech/France",
          "Johnson&Johnson, Pfizer/BioNTech/French Polynesia",
          "Sinopharm/Beijing/Gabon",
          "Johnson&Johnson, Oxford/AstraZeneca, Sinopharm/Beijing/Gambia",
          "Oxford/AstraZeneca, Pfizer/BioNTech, Sinopharm/Beijing, Sinovac/Georgia",
          "Johnson&Johnson, Moderna, Oxford/AstraZeneca, Pfizer/BioNTech/Germany",
          "Oxford/AstraZeneca, Sputnik V/Ghana",
          "Pfizer/BioNTech/Gibraltar",
          "Johnson&Johnson, Moderna, Oxford/AstraZeneca, Pfizer/BioNTech/Greece",
          "Moderna/Greenland",
          "Oxford/AstraZeneca, Pfizer/BioNTech/Grenada",
          "Moderna, Oxford/AstraZeneca/Guatemala",
          "Moderna, Oxford/AstraZeneca, Pfizer/BioNTech/Guernsey",
          "Sputnik V/Guinea",
          "Oxford/AstraZeneca, Sinopharm/Beijing/Guinea-Bissau",
          "Oxford/AstraZeneca, Sputnik V/Guyana",
          "Johnson&Johnson, Moderna/Haiti",
          "Johnson&Johnson, Moderna, Oxford/AstraZeneca, Pfizer/BioNTech, Sputnik V/Honduras",
          "Pfizer/BioNTech, Sinovac/Hong Kong",
          "Johnson&Johnson, Moderna, Oxford/AstraZeneca, Pfizer/BioNTech, Sinopharm/Beijing, Sputnik V/Hungary",
          "Johnson&Johnson, Moderna, Oxford/AstraZeneca, Pfizer/BioNTech/Iceland",
          "Covaxin, Oxford/AstraZeneca, Sputnik V/India",
          "Moderna, Oxford/AstraZeneca, Pfizer/BioNTech, Sinopharm/Beijing, Sinovac/Indonesia",
          "COVIran Barekat, Covaxin, Oxford/AstraZeneca, Sinopharm/Beijing, Soberana02, Sputnik V/Iran",
          "Oxford/AstraZeneca, Pfizer/BioNTech, Sinopharm/Beijing, Sputnik V/Iraq",
          "Johnson&Johnson, Moderna, Oxford/AstraZeneca, Pfizer/BioNTech/Ireland",
          "Moderna, Oxford/AstraZeneca, Pfizer/BioNTech/Isle of Man",
          "Moderna, Pfizer/BioNTech/Israel",
          "Johnson&Johnson, Moderna, Oxford/AstraZeneca, Pfizer/BioNTech/Italy",
          "Johnson&Johnson, Moderna, Oxford/AstraZeneca, Pfizer/BioNTech/Jamaica",
          "Moderna, Oxford/AstraZeneca, Pfizer/BioNTech/Japan",
          "Moderna, Oxford/AstraZeneca, Pfizer/BioNTech/Jersey",
          "Oxford/AstraZeneca, Pfizer/BioNTech, Sinopharm/Beijing, Sputnik V/Jordan",
          "QazVac, Sinopharm/Beijing, Sputnik V/Kazakhstan",
          "Oxford/AstraZeneca, Sputnik V/Kenya",
          "Oxford/AstraZeneca/Kiribati",
          "Oxford/AstraZeneca, Pfizer/BioNTech/Kosovo",
          "Pfizer/BioNTech/Kuwait",
          "Sinopharm/Beijing, Sputnik V/Kyrgyzstan",
          "Johnson&Johnson, Oxford/AstraZeneca, Pfizer/BioNTech, Sinopharm/Beijing, Sinovac, Sputnik V/Laos",
          "Johnson&Johnson, Moderna, Oxford/AstraZeneca, Pfizer/BioNTech/Latvia",
          "Oxford/AstraZeneca, Pfizer/BioNTech, Sinopharm/Beijing, Sputnik V/Lebanon",
          "Oxford/AstraZeneca/Lesotho",
          "Oxford/AstraZeneca/Liberia",
          "Johnson&Johnson, Moderna, Oxford/AstraZeneca, Pfizer/BioNTech, Sinopharm/Beijing, Sinovac, Sputnik V/Libya",
          "Moderna, Pfizer/BioNTech/Liechtenstein",
          "Johnson&Johnson, Moderna, Oxford/AstraZeneca, Pfizer/BioNTech/Lithuania",
          "Johnson&Johnson, Moderna, Oxford/AstraZeneca, Pfizer/BioNTech/Luxembourg",
          "Pfizer/BioNTech, Sinopharm/Beijing/Macao",
          "Oxford/AstraZeneca/Madagascar",
          "Johnson&Johnson, Oxford/AstraZeneca/Malawi",
          "CanSino, Oxford/AstraZeneca, Pfizer/BioNTech, Sinovac/Malaysia",
          "Oxford/AstraZeneca, Pfizer/BioNTech, Sinopharm/Beijing/Maldives",
          "Oxford/AstraZeneca/Mali",
          "Johnson&Johnson, Moderna, Oxford/AstraZeneca, Pfizer/BioNTech/Malta",
          "Oxford/AstraZeneca, Sinopharm/Beijing/Mauritania",
          "Covaxin, Oxford/AstraZeneca, Sinopharm/Beijing/Mauritius",
          "CanSino, Johnson&Johnson, Moderna, Oxford/AstraZeneca, Pfizer/BioNTech, Sinovac, Sputnik V/Mexico",
          "Johnson&Johnson, Oxford/AstraZeneca, Pfizer/BioNTech, Sinopharm/Beijing, Sputnik V/Moldova",
          "Pfizer/BioNTech/Monaco",
          "Oxford/AstraZeneca, Pfizer/BioNTech, Sinopharm/Beijing, Sputnik V/Mongolia",
          "Oxford/AstraZeneca, Pfizer/BioNTech, Sinopharm/Beijing, Sputnik V/Montenegro",
          "Oxford/AstraZeneca/Montserrat",
          "Johnson&Johnson, Oxford/AstraZeneca, Pfizer/BioNTech, Sinopharm/Beijing, Sputnik V/Morocco",
          "Oxford/AstraZeneca, Sinopharm/Beijing/Mozambique",
          "Oxford/AstraZeneca, Sinopharm/Beijing/Myanmar",
          "Oxford/AstraZeneca, Sinopharm/Beijing/Namibia",
          "Oxford/AstraZeneca/Nauru",
          "Covaxin, Johnson&Johnson, Oxford/AstraZeneca, Sinopharm/Beijing, Sputnik V/Nepal",
          "Johnson&Johnson, Moderna, Oxford/AstraZeneca, Pfizer/BioNTech/Netherlands",
          "Pfizer/BioNTech/New Caledonia",
          "Pfizer/BioNTech/New Zealand",
          "Oxford/AstraZeneca, Pfizer/BioNTech, Sputnik V/Nicaragua",
          "Oxford/AstraZeneca, Sinopharm/Beijing/Niger",
          "Oxford/AstraZeneca/Nigeria",
          "Oxford/AstraZeneca/Niue",
          "Oxford/AstraZeneca, Pfizer/BioNTech, Sinopharm/Beijing, Sinovac, Sputnik V/North Macedonia",
          "Oxford/AstraZeneca, Pfizer/BioNTech, Sinovac/Northern Cyprus",
          "Moderna, Oxford/AstraZeneca, Pfizer/BioNTech/Northern Ireland",
          "Moderna, Pfizer/BioNTech/Norway",
          "Oxford/AstraZeneca, Pfizer/BioNTech, Sinovac, Sputnik V/Oman",
          "CanSino, Covaxin, Moderna, Oxford/AstraZeneca, Pfizer/BioNTech, Sinopharm/Beijing, Sinovac, Sputnik V/Pakistan",
          "Moderna, Oxford/AstraZeneca, Pfizer/BioNTech, Sinopharm/Beijing, Sputnik Light, Sputnik V/Palestine",
          "Oxford/AstraZeneca, Pfizer/BioNTech/Panama",
          "Oxford/AstraZeneca/Papua New Guinea",
          "Covaxin, Moderna, Oxford/AstraZeneca, Pfizer/BioNTech, Sinopharm/Beijing, Sinovac, Sputnik V/Paraguay",
          "Oxford/AstraZeneca, Pfizer/BioNTech, Sinopharm/Beijing/Peru",
          "Johnson&Johnson, Moderna, Oxford/AstraZeneca, Pfizer/BioNTech, Sinopharm/Beijing, Sinovac, Sputnik V/Philippines",
          "Oxford/AstraZeneca/Pitcairn",
          "Johnson&Johnson, Moderna, Oxford/AstraZeneca, Pfizer/BioNTech/Poland",
          "Johnson&Johnson, Moderna, Oxford/AstraZeneca, Pfizer/BioNTech/Portugal",
          "Moderna, Pfizer/BioNTech/Qatar",
          "Johnson&Johnson, Moderna, Oxford/AstraZeneca, Pfizer/BioNTech/Romania",
          "EpiVacCorona, Sputnik V/Russia",
          "Moderna, Oxford/AstraZeneca, Pfizer/BioNTech/Rwanda",
          "Oxford/AstraZeneca/Saint Helena",
          "Oxford/AstraZeneca, Pfizer/BioNTech/Saint Kitts and Nevis",
          "Oxford/AstraZeneca, Pfizer/BioNTech/Saint Lucia",
          "Oxford/AstraZeneca/Saint Vincent and the Grenadines",
          "Oxford/AstraZeneca/Samoa",
          "Pfizer/BioNTech, Sputnik V/San Marino",
          "Oxford/AstraZeneca/Sao Tome and Principe",
          "Oxford/AstraZeneca, Pfizer/BioNTech/Saudi Arabia",
          "Moderna, Oxford/AstraZeneca, Pfizer/BioNTech/Scotland",
          "Oxford/AstraZeneca, Sinopharm/Beijing/Senegal",
          "Oxford/AstraZeneca, Pfizer/BioNTech, Sinopharm/Beijing, Sputnik V/Serbia",
          "Oxford/AstraZeneca, Sinopharm/Beijing, Sputnik V/Seychelles",
          "Oxford/AstraZeneca, Sinopharm/Beijing/Sierra Leone",
          "Moderna, Pfizer/BioNTech, Sinovac/Singapore",
          "Moderna, Oxford/AstraZeneca, Pfizer/BioNTech/Sint Maarten (Dutch part)",
          "Moderna, Oxford/AstraZeneca, Pfizer/BioNTech, Sputnik V/Slovakia",
          "Oxford/AstraZeneca, Pfizer/BioNTech/Slovenia",
          "Oxford/AstraZeneca/Solomon Islands",
          "Johnson&Johnson, Oxford/AstraZeneca, Sinopharm/Beijing, Sinovac/Somalia",
          "Johnson&Johnson, Pfizer/BioNTech/South Africa",
          "Johnson&Johnson, Moderna, Oxford/AstraZeneca, Pfizer/BioNTech/South Korea",
          "Johnson&Johnson, Oxford/AstraZeneca/South Sudan",
          "Johnson&Johnson, Moderna, Oxford/AstraZeneca, Pfizer/BioNTech/Spain",
          "Moderna, Oxford/AstraZeneca, Pfizer/BioNTech, Sinopharm/Beijing, Sputnik V/Sri Lanka",
          "Johnson&Johnson, Oxford/AstraZeneca, Pfizer/BioNTech, Sinopharm/Beijing, Sinovac/Sudan",
          "Oxford/AstraZeneca, Pfizer/BioNTech, Sinopharm/Beijing/Suriname",
          "Moderna, Oxford/AstraZeneca, Pfizer/BioNTech/Sweden",
          "Moderna, Pfizer/BioNTech/Switzerland",
          "Johnson&Johnson, Oxford/AstraZeneca, Sinopharm/Beijing, Sinovac, Sputnik Light, Sputnik V/Syria",
          "Medigen, Moderna, Oxford/AstraZeneca, Pfizer/BioNTech/Taiwan",
          "Moderna, Oxford/AstraZeneca, Pfizer/BioNTech, Sinovac, Sputnik V/Tajikistan",
          "Johnson&Johnson/Tanzania",
          "Oxford/AstraZeneca, Pfizer/BioNTech, Sinopharm/Beijing, Sinovac/Thailand",
          "Oxford/AstraZeneca, Sinovac/Timor",
          "Oxford/AstraZeneca/Togo",
          "Pfizer/BioNTech/Tokelau",
          "Oxford/AstraZeneca/Tonga",
          "Oxford/AstraZeneca, Pfizer/BioNTech, Sinopharm/Beijing/Trinidad and Tobago",
          "Johnson&Johnson, Moderna, Oxford/AstraZeneca, Pfizer/BioNTech, Sinopharm/Beijing, Sinovac, Sputnik V/Tunisia",
          "Pfizer/BioNTech, Sinovac/Turkey",
          "EpiVacCorona, Oxford/AstraZeneca, Sinopharm/Beijing, Sputnik V/Turkmenistan",
          "Pfizer/BioNTech/Turks and Caicos Islands",
          "Oxford/AstraZeneca/Tuvalu",
          "Oxford/AstraZeneca/Uganda",
          "Moderna, Oxford/AstraZeneca, Pfizer/BioNTech, Sinovac/Ukraine",
          "Oxford/AstraZeneca, Pfizer/BioNTech, Sinopharm/Beijing, Sinopharm/Wuhan, Sputnik V/United Arab Emirates",
          "Moderna, Oxford/AstraZeneca, Pfizer/BioNTech/United Kingdom",
          "Johnson&Johnson, Moderna, Pfizer/BioNTech/United States",
          "Oxford/AstraZeneca, Pfizer/BioNTech, Sinovac/Uruguay",
          "Moderna, Oxford/AstraZeneca, Sputnik V, ZF2001/Uzbekistan",
          "Oxford/AstraZeneca/Vanuatu",
          "Abdala, Sinopharm/Beijing, Sinopharm/Wuhan, Sputnik V/Venezuela",
          "Moderna, Oxford/AstraZeneca, Pfizer/BioNTech, Sinopharm/Beijing, Sputnik V/Vietnam",
          "Moderna, Oxford/AstraZeneca, Pfizer/BioNTech/Wales",
          "Moderna/Wallis and Futuna",
          "Johnson&Johnson, Oxford/AstraZeneca, Sinovac/Yemen",
          "Johnson&Johnson, Oxford/AstraZeneca, Sinopharm/Beijing/Zambia",
          "Oxford/AstraZeneca, Sinopharm/Beijing, Sinovac, Sputnik V/Zimbabwe",
          "Abdala, Sinopharm/Beijing, Sinopharm/Wuhan, Sputnik V",
          "Abdala, Soberana02",
          "COVIran Barekat, Covaxin, Oxford/AstraZeneca, Sinopharm/Beijing, Soberana02, Sputnik V",
          "CanSino, Covaxin, Moderna, Oxford/AstraZeneca, Pfizer/BioNTech, Sinopharm/Beijing, Sinovac, Sputnik V",
          "CanSino, Johnson&Johnson, Moderna, Oxford/AstraZeneca, Pfizer/BioNTech, Sinovac, Sputnik V",
          "CanSino, Moderna, Oxford/AstraZeneca, Pfizer/BioNTech, Sinopharm/Beijing, Sputnik V",
          "CanSino, Oxford/AstraZeneca, Pfizer/BioNTech, Sinovac",
          "CanSino, Sinopharm/Beijing, Sinopharm/Wuhan, Sinovac, ZF2001",
          "Covaxin, Johnson&Johnson, Oxford/AstraZeneca, Sinopharm/Beijing, Sputnik V",
          "Covaxin, Moderna, Oxford/AstraZeneca, Pfizer/BioNTech, Sinopharm/Beijing, Sinovac, Sputnik V",
          "Covaxin, Oxford/AstraZeneca",
          "Covaxin, Oxford/AstraZeneca, Sinopharm/Beijing",
          "Covaxin, Oxford/AstraZeneca, Sputnik V",
          "EpiVacCorona, Oxford/AstraZeneca, Sinopharm/Beijing, Sputnik V",
          "EpiVacCorona, Sputnik V",
          "Johnson&Johnson",
          "Johnson&Johnson, Moderna",
          "Johnson&Johnson, Moderna, Oxford/AstraZeneca, Pfizer/BioNTech",
          "Johnson&Johnson, Moderna, Oxford/AstraZeneca, Pfizer/BioNTech, Sinopharm/Beijing, Sinovac, Sputnik V",
          "Johnson&Johnson, Moderna, Oxford/AstraZeneca, Pfizer/BioNTech, Sinopharm/Beijing, Sputnik V",
          "Johnson&Johnson, Moderna, Oxford/AstraZeneca, Pfizer/BioNTech, Sinovac",
          "Johnson&Johnson, Moderna, Oxford/AstraZeneca, Pfizer/BioNTech, Sputnik V",
          "Johnson&Johnson, Moderna, Pfizer/BioNTech",
          "Johnson&Johnson, Oxford/AstraZeneca",
          "Johnson&Johnson, Oxford/AstraZeneca, Pfizer/BioNTech",
          "Johnson&Johnson, Oxford/AstraZeneca, Pfizer/BioNTech, Sinopharm/Beijing",
          "Johnson&Johnson, Oxford/AstraZeneca, Pfizer/BioNTech, Sinopharm/Beijing, Sinovac",
          "Johnson&Johnson, Oxford/AstraZeneca, Pfizer/BioNTech, Sinopharm/Beijing, Sinovac, Sputnik V",
          "Johnson&Johnson, Oxford/AstraZeneca, Pfizer/BioNTech, Sinopharm/Beijing, Sputnik V",
          "Johnson&Johnson, Oxford/AstraZeneca, Pfizer/BioNTech, Sinovac",
          "Johnson&Johnson, Oxford/AstraZeneca, Sinopharm/Beijing",
          "Johnson&Johnson, Oxford/AstraZeneca, Sinopharm/Beijing, Sinovac",
          "Johnson&Johnson, Oxford/AstraZeneca, Sinopharm/Beijing, Sinovac, Sputnik Light, Sputnik V",
          "Johnson&Johnson, Oxford/AstraZeneca, Sinovac",
          "Johnson&Johnson, Pfizer/BioNTech",
          "Medigen, Moderna, Oxford/AstraZeneca, Pfizer/BioNTech",
          "Moderna",
          "Moderna, Oxford/AstraZeneca",
          "Moderna, Oxford/AstraZeneca, Pfizer/BioNTech",
          "Moderna, Oxford/AstraZeneca, Pfizer/BioNTech, Sinopharm/Beijing",
          "Moderna, Oxford/AstraZeneca, Pfizer/BioNTech, Sinopharm/Beijing, Sinovac",
          "Moderna, Oxford/AstraZeneca, Pfizer/BioNTech, Sinopharm/Beijing, Sputnik Light, Sputnik V",
          "Moderna, Oxford/AstraZeneca, Pfizer/BioNTech, Sinopharm/Beijing, Sputnik V",
          "Moderna, Oxford/AstraZeneca, Pfizer/BioNTech, Sinovac",
          "Moderna, Oxford/AstraZeneca, Pfizer/BioNTech, Sinovac, Sputnik V",
          "Moderna, Oxford/AstraZeneca, Pfizer/BioNTech, Sputnik V",
          "Moderna, Oxford/AstraZeneca, Sinopharm/Beijing, Sputnik V",
          "Moderna, Oxford/AstraZeneca, Sputnik V, ZF2001",
          "Moderna, Pfizer/BioNTech",
          "Moderna, Pfizer/BioNTech, Sinovac",
          "Oxford/AstraZeneca",
          "Oxford/AstraZeneca, Pfizer/BioNTech",
          "Oxford/AstraZeneca, Pfizer/BioNTech, Sinopharm/Beijing",
          "Oxford/AstraZeneca, Pfizer/BioNTech, Sinopharm/Beijing, Sinopharm/Wuhan, Sputnik V",
          "Oxford/AstraZeneca, Pfizer/BioNTech, Sinopharm/Beijing, Sinovac",
          "Oxford/AstraZeneca, Pfizer/BioNTech, Sinopharm/Beijing, Sinovac, Sputnik V",
          "Oxford/AstraZeneca, Pfizer/BioNTech, Sinopharm/Beijing, Sputnik V",
          "Oxford/AstraZeneca, Pfizer/BioNTech, Sinovac",
          "Oxford/AstraZeneca, Pfizer/BioNTech, Sinovac, Sputnik V",
          "Oxford/AstraZeneca, Pfizer/BioNTech, Sputnik V",
          "Oxford/AstraZeneca, Sinopharm/Beijing",
          "Oxford/AstraZeneca, Sinopharm/Beijing, Sinovac, Sputnik V",
          "Oxford/AstraZeneca, Sinopharm/Beijing, Sputnik V",
          "Oxford/AstraZeneca, Sinovac",
          "Oxford/AstraZeneca, Sputnik V",
          "Pfizer/BioNTech",
          "Pfizer/BioNTech, Sinopharm/Beijing",
          "Pfizer/BioNTech, Sinovac",
          "Pfizer/BioNTech, Sputnik V",
          "QazVac, Sinopharm/Beijing, Sputnik V",
          "Sinopharm/Beijing",
          "Sinopharm/Beijing, Sputnik V",
          "Sputnik V"
         ],
         "labels": [
          "Afghanistan",
          "Albania",
          "Algeria",
          "Andorra",
          "Angola",
          "Anguilla",
          "Antigua and Barbuda",
          "Argentina",
          "Armenia",
          "Aruba",
          "Australia",
          "Austria",
          "Azerbaijan",
          "Bahamas",
          "Bahrain",
          "Bangladesh",
          "Barbados",
          "Belarus",
          "Belgium",
          "Belize",
          "Benin",
          "Bermuda",
          "Bhutan",
          "Bolivia",
          "Bonaire Sint Eustatius and Saba",
          "Bosnia and Herzegovina",
          "Botswana",
          "Brazil",
          "British Virgin Islands",
          "Brunei",
          "Bulgaria",
          "Burkina Faso",
          "Burundi",
          "Cambodia",
          "Cameroon",
          "Canada",
          "Cape Verde",
          "Cayman Islands",
          "Central African Republic",
          "Chad",
          "Chile",
          "China",
          "Colombia",
          "Comoros",
          "Congo",
          "Cook Islands",
          "Costa Rica",
          "Cote d'Ivoire",
          "Croatia",
          "Cuba",
          "Curacao",
          "Cyprus",
          "Czechia",
          "Democratic Republic of Congo",
          "Denmark",
          "Djibouti",
          "Dominica",
          "Dominican Republic",
          "Ecuador",
          "Egypt",
          "El Salvador",
          "England",
          "Equatorial Guinea",
          "Estonia",
          "Eswatini",
          "Ethiopia",
          "Faeroe Islands",
          "Falkland Islands",
          "Fiji",
          "Finland",
          "France",
          "French Polynesia",
          "Gabon",
          "Gambia",
          "Georgia",
          "Germany",
          "Ghana",
          "Gibraltar",
          "Greece",
          "Greenland",
          "Grenada",
          "Guatemala",
          "Guernsey",
          "Guinea",
          "Guinea-Bissau",
          "Guyana",
          "Haiti",
          "Honduras",
          "Hong Kong",
          "Hungary",
          "Iceland",
          "India",
          "Indonesia",
          "Iran",
          "Iraq",
          "Ireland",
          "Isle of Man",
          "Israel",
          "Italy",
          "Jamaica",
          "Japan",
          "Jersey",
          "Jordan",
          "Kazakhstan",
          "Kenya",
          "Kiribati",
          "Kosovo",
          "Kuwait",
          "Kyrgyzstan",
          "Laos",
          "Latvia",
          "Lebanon",
          "Lesotho",
          "Liberia",
          "Libya",
          "Liechtenstein",
          "Lithuania",
          "Luxembourg",
          "Macao",
          "Madagascar",
          "Malawi",
          "Malaysia",
          "Maldives",
          "Mali",
          "Malta",
          "Mauritania",
          "Mauritius",
          "Mexico",
          "Moldova",
          "Monaco",
          "Mongolia",
          "Montenegro",
          "Montserrat",
          "Morocco",
          "Mozambique",
          "Myanmar",
          "Namibia",
          "Nauru",
          "Nepal",
          "Netherlands",
          "New Caledonia",
          "New Zealand",
          "Nicaragua",
          "Niger",
          "Nigeria",
          "Niue",
          "North Macedonia",
          "Northern Cyprus",
          "Northern Ireland",
          "Norway",
          "Oman",
          "Pakistan",
          "Palestine",
          "Panama",
          "Papua New Guinea",
          "Paraguay",
          "Peru",
          "Philippines",
          "Pitcairn",
          "Poland",
          "Portugal",
          "Qatar",
          "Romania",
          "Russia",
          "Rwanda",
          "Saint Helena",
          "Saint Kitts and Nevis",
          "Saint Lucia",
          "Saint Vincent and the Grenadines",
          "Samoa",
          "San Marino",
          "Sao Tome and Principe",
          "Saudi Arabia",
          "Scotland",
          "Senegal",
          "Serbia",
          "Seychelles",
          "Sierra Leone",
          "Singapore",
          "Sint Maarten (Dutch part)",
          "Slovakia",
          "Slovenia",
          "Solomon Islands",
          "Somalia",
          "South Africa",
          "South Korea",
          "South Sudan",
          "Spain",
          "Sri Lanka",
          "Sudan",
          "Suriname",
          "Sweden",
          "Switzerland",
          "Syria",
          "Taiwan",
          "Tajikistan",
          "Tanzania",
          "Thailand",
          "Timor",
          "Togo",
          "Tokelau",
          "Tonga",
          "Trinidad and Tobago",
          "Tunisia",
          "Turkey",
          "Turkmenistan",
          "Turks and Caicos Islands",
          "Tuvalu",
          "Uganda",
          "Ukraine",
          "United Arab Emirates",
          "United Kingdom",
          "United States",
          "Uruguay",
          "Uzbekistan",
          "Vanuatu",
          "Venezuela",
          "Vietnam",
          "Wales",
          "Wallis and Futuna",
          "Yemen",
          "Zambia",
          "Zimbabwe",
          "Abdala, Sinopharm/Beijing, Sinopharm/Wuhan, Sputnik V",
          "Abdala, Soberana02",
          "COVIran Barekat, Covaxin, Oxford/AstraZeneca, Sinopharm/Beijing, Soberana02, Sputnik V",
          "CanSino, Covaxin, Moderna, Oxford/AstraZeneca, Pfizer/BioNTech, Sinopharm/Beijing, Sinovac, Sputnik V",
          "CanSino, Johnson&Johnson, Moderna, Oxford/AstraZeneca, Pfizer/BioNTech, Sinovac, Sputnik V",
          "CanSino, Moderna, Oxford/AstraZeneca, Pfizer/BioNTech, Sinopharm/Beijing, Sputnik V",
          "CanSino, Oxford/AstraZeneca, Pfizer/BioNTech, Sinovac",
          "CanSino, Sinopharm/Beijing, Sinopharm/Wuhan, Sinovac, ZF2001",
          "Covaxin, Johnson&Johnson, Oxford/AstraZeneca, Sinopharm/Beijing, Sputnik V",
          "Covaxin, Moderna, Oxford/AstraZeneca, Pfizer/BioNTech, Sinopharm/Beijing, Sinovac, Sputnik V",
          "Covaxin, Oxford/AstraZeneca",
          "Covaxin, Oxford/AstraZeneca, Sinopharm/Beijing",
          "Covaxin, Oxford/AstraZeneca, Sputnik V",
          "EpiVacCorona, Oxford/AstraZeneca, Sinopharm/Beijing, Sputnik V",
          "EpiVacCorona, Sputnik V",
          "Johnson&Johnson",
          "Johnson&Johnson, Moderna",
          "Johnson&Johnson, Moderna, Oxford/AstraZeneca, Pfizer/BioNTech",
          "Johnson&Johnson, Moderna, Oxford/AstraZeneca, Pfizer/BioNTech, Sinopharm/Beijing, Sinovac, Sputnik V",
          "Johnson&Johnson, Moderna, Oxford/AstraZeneca, Pfizer/BioNTech, Sinopharm/Beijing, Sputnik V",
          "Johnson&Johnson, Moderna, Oxford/AstraZeneca, Pfizer/BioNTech, Sinovac",
          "Johnson&Johnson, Moderna, Oxford/AstraZeneca, Pfizer/BioNTech, Sputnik V",
          "Johnson&Johnson, Moderna, Pfizer/BioNTech",
          "Johnson&Johnson, Oxford/AstraZeneca",
          "Johnson&Johnson, Oxford/AstraZeneca, Pfizer/BioNTech",
          "Johnson&Johnson, Oxford/AstraZeneca, Pfizer/BioNTech, Sinopharm/Beijing",
          "Johnson&Johnson, Oxford/AstraZeneca, Pfizer/BioNTech, Sinopharm/Beijing, Sinovac",
          "Johnson&Johnson, Oxford/AstraZeneca, Pfizer/BioNTech, Sinopharm/Beijing, Sinovac, Sputnik V",
          "Johnson&Johnson, Oxford/AstraZeneca, Pfizer/BioNTech, Sinopharm/Beijing, Sputnik V",
          "Johnson&Johnson, Oxford/AstraZeneca, Pfizer/BioNTech, Sinovac",
          "Johnson&Johnson, Oxford/AstraZeneca, Sinopharm/Beijing",
          "Johnson&Johnson, Oxford/AstraZeneca, Sinopharm/Beijing, Sinovac",
          "Johnson&Johnson, Oxford/AstraZeneca, Sinopharm/Beijing, Sinovac, Sputnik Light, Sputnik V",
          "Johnson&Johnson, Oxford/AstraZeneca, Sinovac",
          "Johnson&Johnson, Pfizer/BioNTech",
          "Medigen, Moderna, Oxford/AstraZeneca, Pfizer/BioNTech",
          "Moderna",
          "Moderna, Oxford/AstraZeneca",
          "Moderna, Oxford/AstraZeneca, Pfizer/BioNTech",
          "Moderna, Oxford/AstraZeneca, Pfizer/BioNTech, Sinopharm/Beijing",
          "Moderna, Oxford/AstraZeneca, Pfizer/BioNTech, Sinopharm/Beijing, Sinovac",
          "Moderna, Oxford/AstraZeneca, Pfizer/BioNTech, Sinopharm/Beijing, Sputnik Light, Sputnik V",
          "Moderna, Oxford/AstraZeneca, Pfizer/BioNTech, Sinopharm/Beijing, Sputnik V",
          "Moderna, Oxford/AstraZeneca, Pfizer/BioNTech, Sinovac",
          "Moderna, Oxford/AstraZeneca, Pfizer/BioNTech, Sinovac, Sputnik V",
          "Moderna, Oxford/AstraZeneca, Pfizer/BioNTech, Sputnik V",
          "Moderna, Oxford/AstraZeneca, Sinopharm/Beijing, Sputnik V",
          "Moderna, Oxford/AstraZeneca, Sputnik V, ZF2001",
          "Moderna, Pfizer/BioNTech",
          "Moderna, Pfizer/BioNTech, Sinovac",
          "Oxford/AstraZeneca",
          "Oxford/AstraZeneca, Pfizer/BioNTech",
          "Oxford/AstraZeneca, Pfizer/BioNTech, Sinopharm/Beijing",
          "Oxford/AstraZeneca, Pfizer/BioNTech, Sinopharm/Beijing, Sinopharm/Wuhan, Sputnik V",
          "Oxford/AstraZeneca, Pfizer/BioNTech, Sinopharm/Beijing, Sinovac",
          "Oxford/AstraZeneca, Pfizer/BioNTech, Sinopharm/Beijing, Sinovac, Sputnik V",
          "Oxford/AstraZeneca, Pfizer/BioNTech, Sinopharm/Beijing, Sputnik V",
          "Oxford/AstraZeneca, Pfizer/BioNTech, Sinovac",
          "Oxford/AstraZeneca, Pfizer/BioNTech, Sinovac, Sputnik V",
          "Oxford/AstraZeneca, Pfizer/BioNTech, Sputnik V",
          "Oxford/AstraZeneca, Sinopharm/Beijing",
          "Oxford/AstraZeneca, Sinopharm/Beijing, Sinovac, Sputnik V",
          "Oxford/AstraZeneca, Sinopharm/Beijing, Sputnik V",
          "Oxford/AstraZeneca, Sinovac",
          "Oxford/AstraZeneca, Sputnik V",
          "Pfizer/BioNTech",
          "Pfizer/BioNTech, Sinopharm/Beijing",
          "Pfizer/BioNTech, Sinovac",
          "Pfizer/BioNTech, Sputnik V",
          "QazVac, Sinopharm/Beijing, Sputnik V",
          "Sinopharm/Beijing",
          "Sinopharm/Beijing, Sputnik V",
          "Sputnik V"
         ],
         "name": "",
         "parents": [
          "Johnson&Johnson, Oxford/AstraZeneca, Pfizer/BioNTech, Sinopharm/Beijing",
          "Oxford/AstraZeneca, Pfizer/BioNTech, Sinovac, Sputnik V",
          "Oxford/AstraZeneca, Sinopharm/Beijing, Sinovac, Sputnik V",
          "Oxford/AstraZeneca, Pfizer/BioNTech",
          "Oxford/AstraZeneca",
          "Oxford/AstraZeneca",
          "Oxford/AstraZeneca, Pfizer/BioNTech, Sputnik V",
          "CanSino, Moderna, Oxford/AstraZeneca, Pfizer/BioNTech, Sinopharm/Beijing, Sputnik V",
          "Oxford/AstraZeneca, Sinopharm/Beijing, Sinovac, Sputnik V",
          "Pfizer/BioNTech",
          "Moderna, Oxford/AstraZeneca, Pfizer/BioNTech",
          "Johnson&Johnson, Moderna, Oxford/AstraZeneca, Pfizer/BioNTech",
          "Oxford/AstraZeneca, Pfizer/BioNTech, Sinovac, Sputnik V",
          "Johnson&Johnson, Oxford/AstraZeneca, Pfizer/BioNTech",
          "Oxford/AstraZeneca, Pfizer/BioNTech, Sinopharm/Beijing, Sputnik V",
          "Moderna, Oxford/AstraZeneca, Pfizer/BioNTech, Sinopharm/Beijing",
          "Oxford/AstraZeneca, Pfizer/BioNTech, Sinopharm/Beijing",
          "Sinopharm/Beijing, Sputnik V",
          "Johnson&Johnson, Moderna, Oxford/AstraZeneca, Pfizer/BioNTech",
          "Oxford/AstraZeneca, Sinopharm/Beijing",
          "Oxford/AstraZeneca, Sinovac",
          "Oxford/AstraZeneca, Pfizer/BioNTech",
          "Moderna, Oxford/AstraZeneca, Pfizer/BioNTech, Sinopharm/Beijing",
          "Johnson&Johnson, Oxford/AstraZeneca, Pfizer/BioNTech, Sinopharm/Beijing, Sputnik V",
          "Moderna, Pfizer/BioNTech",
          "Oxford/AstraZeneca, Pfizer/BioNTech, Sinovac, Sputnik V",
          "Moderna, Oxford/AstraZeneca, Pfizer/BioNTech, Sinovac",
          "Johnson&Johnson, Oxford/AstraZeneca, Pfizer/BioNTech, Sinovac",
          "Johnson&Johnson, Oxford/AstraZeneca",
          "Oxford/AstraZeneca, Sinopharm/Beijing",
          "Johnson&Johnson, Moderna, Oxford/AstraZeneca, Pfizer/BioNTech",
          "Johnson&Johnson, Oxford/AstraZeneca, Sinopharm/Beijing",
          "Sinopharm/Beijing",
          "Johnson&Johnson, Oxford/AstraZeneca, Sinopharm/Beijing, Sinovac",
          "Johnson&Johnson, Oxford/AstraZeneca, Pfizer/BioNTech, Sinopharm/Beijing",
          "Moderna, Oxford/AstraZeneca, Pfizer/BioNTech",
          "Moderna, Oxford/AstraZeneca, Pfizer/BioNTech, Sinopharm/Beijing",
          "Oxford/AstraZeneca, Pfizer/BioNTech",
          "Covaxin, Oxford/AstraZeneca",
          "Sinopharm/Beijing",
          "CanSino, Oxford/AstraZeneca, Pfizer/BioNTech, Sinovac",
          "CanSino, Sinopharm/Beijing, Sinopharm/Wuhan, Sinovac, ZF2001",
          "Johnson&Johnson, Moderna, Oxford/AstraZeneca, Pfizer/BioNTech, Sinovac",
          "Covaxin, Oxford/AstraZeneca, Sinopharm/Beijing",
          "Moderna, Oxford/AstraZeneca, Sinopharm/Beijing, Sputnik V",
          "Pfizer/BioNTech",
          "Oxford/AstraZeneca, Pfizer/BioNTech",
          "Johnson&Johnson, Oxford/AstraZeneca, Pfizer/BioNTech, Sinopharm/Beijing, Sputnik V",
          "Johnson&Johnson, Moderna, Oxford/AstraZeneca, Pfizer/BioNTech",
          "Abdala, Soberana02",
          "Moderna, Pfizer/BioNTech",
          "Johnson&Johnson, Moderna, Oxford/AstraZeneca, Pfizer/BioNTech",
          "Johnson&Johnson, Moderna, Oxford/AstraZeneca, Pfizer/BioNTech",
          "Oxford/AstraZeneca",
          "Johnson&Johnson, Moderna, Pfizer/BioNTech",
          "Johnson&Johnson, Oxford/AstraZeneca, Pfizer/BioNTech, Sinopharm/Beijing, Sinovac, Sputnik V",
          "Oxford/AstraZeneca, Pfizer/BioNTech, Sinopharm/Beijing",
          "Oxford/AstraZeneca, Pfizer/BioNTech, Sinopharm/Beijing, Sinovac",
          "CanSino, Oxford/AstraZeneca, Pfizer/BioNTech, Sinovac",
          "Johnson&Johnson, Oxford/AstraZeneca, Pfizer/BioNTech, Sinopharm/Beijing, Sinovac, Sputnik V",
          "Oxford/AstraZeneca, Pfizer/BioNTech, Sinopharm/Beijing, Sinovac",
          "Moderna, Oxford/AstraZeneca, Pfizer/BioNTech",
          "Sinopharm/Beijing",
          "Johnson&Johnson, Moderna, Oxford/AstraZeneca, Pfizer/BioNTech",
          "Johnson&Johnson, Oxford/AstraZeneca, Pfizer/BioNTech",
          "Oxford/AstraZeneca",
          "Moderna, Pfizer/BioNTech",
          "Oxford/AstraZeneca",
          "Oxford/AstraZeneca",
          "Moderna, Oxford/AstraZeneca, Pfizer/BioNTech",
          "Johnson&Johnson, Moderna, Oxford/AstraZeneca, Pfizer/BioNTech",
          "Johnson&Johnson, Pfizer/BioNTech",
          "Sinopharm/Beijing",
          "Johnson&Johnson, Oxford/AstraZeneca, Sinopharm/Beijing",
          "Oxford/AstraZeneca, Pfizer/BioNTech, Sinopharm/Beijing, Sinovac",
          "Johnson&Johnson, Moderna, Oxford/AstraZeneca, Pfizer/BioNTech",
          "Oxford/AstraZeneca, Sputnik V",
          "Pfizer/BioNTech",
          "Johnson&Johnson, Moderna, Oxford/AstraZeneca, Pfizer/BioNTech",
          "Moderna",
          "Oxford/AstraZeneca, Pfizer/BioNTech",
          "Moderna, Oxford/AstraZeneca",
          "Moderna, Oxford/AstraZeneca, Pfizer/BioNTech",
          "Sputnik V",
          "Oxford/AstraZeneca, Sinopharm/Beijing",
          "Oxford/AstraZeneca, Sputnik V",
          "Johnson&Johnson, Moderna",
          "Johnson&Johnson, Moderna, Oxford/AstraZeneca, Pfizer/BioNTech, Sputnik V",
          "Pfizer/BioNTech, Sinovac",
          "Johnson&Johnson, Moderna, Oxford/AstraZeneca, Pfizer/BioNTech, Sinopharm/Beijing, Sputnik V",
          "Johnson&Johnson, Moderna, Oxford/AstraZeneca, Pfizer/BioNTech",
          "Covaxin, Oxford/AstraZeneca, Sputnik V",
          "Moderna, Oxford/AstraZeneca, Pfizer/BioNTech, Sinopharm/Beijing, Sinovac",
          "COVIran Barekat, Covaxin, Oxford/AstraZeneca, Sinopharm/Beijing, Soberana02, Sputnik V",
          "Oxford/AstraZeneca, Pfizer/BioNTech, Sinopharm/Beijing, Sputnik V",
          "Johnson&Johnson, Moderna, Oxford/AstraZeneca, Pfizer/BioNTech",
          "Moderna, Oxford/AstraZeneca, Pfizer/BioNTech",
          "Moderna, Pfizer/BioNTech",
          "Johnson&Johnson, Moderna, Oxford/AstraZeneca, Pfizer/BioNTech",
          "Johnson&Johnson, Moderna, Oxford/AstraZeneca, Pfizer/BioNTech",
          "Moderna, Oxford/AstraZeneca, Pfizer/BioNTech",
          "Moderna, Oxford/AstraZeneca, Pfizer/BioNTech",
          "Oxford/AstraZeneca, Pfizer/BioNTech, Sinopharm/Beijing, Sputnik V",
          "QazVac, Sinopharm/Beijing, Sputnik V",
          "Oxford/AstraZeneca, Sputnik V",
          "Oxford/AstraZeneca",
          "Oxford/AstraZeneca, Pfizer/BioNTech",
          "Pfizer/BioNTech",
          "Sinopharm/Beijing, Sputnik V",
          "Johnson&Johnson, Oxford/AstraZeneca, Pfizer/BioNTech, Sinopharm/Beijing, Sinovac, Sputnik V",
          "Johnson&Johnson, Moderna, Oxford/AstraZeneca, Pfizer/BioNTech",
          "Oxford/AstraZeneca, Pfizer/BioNTech, Sinopharm/Beijing, Sputnik V",
          "Oxford/AstraZeneca",
          "Oxford/AstraZeneca",
          "Johnson&Johnson, Moderna, Oxford/AstraZeneca, Pfizer/BioNTech, Sinopharm/Beijing, Sinovac, Sputnik V",
          "Moderna, Pfizer/BioNTech",
          "Johnson&Johnson, Moderna, Oxford/AstraZeneca, Pfizer/BioNTech",
          "Johnson&Johnson, Moderna, Oxford/AstraZeneca, Pfizer/BioNTech",
          "Pfizer/BioNTech, Sinopharm/Beijing",
          "Oxford/AstraZeneca",
          "Johnson&Johnson, Oxford/AstraZeneca",
          "CanSino, Oxford/AstraZeneca, Pfizer/BioNTech, Sinovac",
          "Oxford/AstraZeneca, Pfizer/BioNTech, Sinopharm/Beijing",
          "Oxford/AstraZeneca",
          "Johnson&Johnson, Moderna, Oxford/AstraZeneca, Pfizer/BioNTech",
          "Oxford/AstraZeneca, Sinopharm/Beijing",
          "Covaxin, Oxford/AstraZeneca, Sinopharm/Beijing",
          "CanSino, Johnson&Johnson, Moderna, Oxford/AstraZeneca, Pfizer/BioNTech, Sinovac, Sputnik V",
          "Johnson&Johnson, Oxford/AstraZeneca, Pfizer/BioNTech, Sinopharm/Beijing, Sputnik V",
          "Pfizer/BioNTech",
          "Oxford/AstraZeneca, Pfizer/BioNTech, Sinopharm/Beijing, Sputnik V",
          "Oxford/AstraZeneca, Pfizer/BioNTech, Sinopharm/Beijing, Sputnik V",
          "Oxford/AstraZeneca",
          "Johnson&Johnson, Oxford/AstraZeneca, Pfizer/BioNTech, Sinopharm/Beijing, Sputnik V",
          "Oxford/AstraZeneca, Sinopharm/Beijing",
          "Oxford/AstraZeneca, Sinopharm/Beijing",
          "Oxford/AstraZeneca, Sinopharm/Beijing",
          "Oxford/AstraZeneca",
          "Covaxin, Johnson&Johnson, Oxford/AstraZeneca, Sinopharm/Beijing, Sputnik V",
          "Johnson&Johnson, Moderna, Oxford/AstraZeneca, Pfizer/BioNTech",
          "Pfizer/BioNTech",
          "Pfizer/BioNTech",
          "Oxford/AstraZeneca, Pfizer/BioNTech, Sputnik V",
          "Oxford/AstraZeneca, Sinopharm/Beijing",
          "Oxford/AstraZeneca",
          "Oxford/AstraZeneca",
          "Oxford/AstraZeneca, Pfizer/BioNTech, Sinopharm/Beijing, Sinovac, Sputnik V",
          "Oxford/AstraZeneca, Pfizer/BioNTech, Sinovac",
          "Moderna, Oxford/AstraZeneca, Pfizer/BioNTech",
          "Moderna, Pfizer/BioNTech",
          "Oxford/AstraZeneca, Pfizer/BioNTech, Sinovac, Sputnik V",
          "CanSino, Covaxin, Moderna, Oxford/AstraZeneca, Pfizer/BioNTech, Sinopharm/Beijing, Sinovac, Sputnik V",
          "Moderna, Oxford/AstraZeneca, Pfizer/BioNTech, Sinopharm/Beijing, Sputnik Light, Sputnik V",
          "Oxford/AstraZeneca, Pfizer/BioNTech",
          "Oxford/AstraZeneca",
          "Covaxin, Moderna, Oxford/AstraZeneca, Pfizer/BioNTech, Sinopharm/Beijing, Sinovac, Sputnik V",
          "Oxford/AstraZeneca, Pfizer/BioNTech, Sinopharm/Beijing",
          "Johnson&Johnson, Moderna, Oxford/AstraZeneca, Pfizer/BioNTech, Sinopharm/Beijing, Sinovac, Sputnik V",
          "Oxford/AstraZeneca",
          "Johnson&Johnson, Moderna, Oxford/AstraZeneca, Pfizer/BioNTech",
          "Johnson&Johnson, Moderna, Oxford/AstraZeneca, Pfizer/BioNTech",
          "Moderna, Pfizer/BioNTech",
          "Johnson&Johnson, Moderna, Oxford/AstraZeneca, Pfizer/BioNTech",
          "EpiVacCorona, Sputnik V",
          "Moderna, Oxford/AstraZeneca, Pfizer/BioNTech",
          "Oxford/AstraZeneca",
          "Oxford/AstraZeneca, Pfizer/BioNTech",
          "Oxford/AstraZeneca, Pfizer/BioNTech",
          "Oxford/AstraZeneca",
          "Oxford/AstraZeneca",
          "Pfizer/BioNTech, Sputnik V",
          "Oxford/AstraZeneca",
          "Oxford/AstraZeneca, Pfizer/BioNTech",
          "Moderna, Oxford/AstraZeneca, Pfizer/BioNTech",
          "Oxford/AstraZeneca, Sinopharm/Beijing",
          "Oxford/AstraZeneca, Pfizer/BioNTech, Sinopharm/Beijing, Sputnik V",
          "Oxford/AstraZeneca, Sinopharm/Beijing, Sputnik V",
          "Oxford/AstraZeneca, Sinopharm/Beijing",
          "Moderna, Pfizer/BioNTech, Sinovac",
          "Moderna, Oxford/AstraZeneca, Pfizer/BioNTech",
          "Moderna, Oxford/AstraZeneca, Pfizer/BioNTech, Sputnik V",
          "Oxford/AstraZeneca, Pfizer/BioNTech",
          "Oxford/AstraZeneca",
          "Johnson&Johnson, Oxford/AstraZeneca, Sinopharm/Beijing, Sinovac",
          "Johnson&Johnson, Pfizer/BioNTech",
          "Johnson&Johnson, Moderna, Oxford/AstraZeneca, Pfizer/BioNTech",
          "Johnson&Johnson, Oxford/AstraZeneca",
          "Johnson&Johnson, Moderna, Oxford/AstraZeneca, Pfizer/BioNTech",
          "Moderna, Oxford/AstraZeneca, Pfizer/BioNTech, Sinopharm/Beijing, Sputnik V",
          "Johnson&Johnson, Oxford/AstraZeneca, Pfizer/BioNTech, Sinopharm/Beijing, Sinovac",
          "Oxford/AstraZeneca, Pfizer/BioNTech, Sinopharm/Beijing",
          "Moderna, Oxford/AstraZeneca, Pfizer/BioNTech",
          "Moderna, Pfizer/BioNTech",
          "Johnson&Johnson, Oxford/AstraZeneca, Sinopharm/Beijing, Sinovac, Sputnik Light, Sputnik V",
          "Medigen, Moderna, Oxford/AstraZeneca, Pfizer/BioNTech",
          "Moderna, Oxford/AstraZeneca, Pfizer/BioNTech, Sinovac, Sputnik V",
          "Johnson&Johnson",
          "Oxford/AstraZeneca, Pfizer/BioNTech, Sinopharm/Beijing, Sinovac",
          "Oxford/AstraZeneca, Sinovac",
          "Oxford/AstraZeneca",
          "Pfizer/BioNTech",
          "Oxford/AstraZeneca",
          "Oxford/AstraZeneca, Pfizer/BioNTech, Sinopharm/Beijing",
          "Johnson&Johnson, Moderna, Oxford/AstraZeneca, Pfizer/BioNTech, Sinopharm/Beijing, Sinovac, Sputnik V",
          "Pfizer/BioNTech, Sinovac",
          "EpiVacCorona, Oxford/AstraZeneca, Sinopharm/Beijing, Sputnik V",
          "Pfizer/BioNTech",
          "Oxford/AstraZeneca",
          "Oxford/AstraZeneca",
          "Moderna, Oxford/AstraZeneca, Pfizer/BioNTech, Sinovac",
          "Oxford/AstraZeneca, Pfizer/BioNTech, Sinopharm/Beijing, Sinopharm/Wuhan, Sputnik V",
          "Moderna, Oxford/AstraZeneca, Pfizer/BioNTech",
          "Johnson&Johnson, Moderna, Pfizer/BioNTech",
          "Oxford/AstraZeneca, Pfizer/BioNTech, Sinovac",
          "Moderna, Oxford/AstraZeneca, Sputnik V, ZF2001",
          "Oxford/AstraZeneca",
          "Abdala, Sinopharm/Beijing, Sinopharm/Wuhan, Sputnik V",
          "Moderna, Oxford/AstraZeneca, Pfizer/BioNTech, Sinopharm/Beijing, Sputnik V",
          "Moderna, Oxford/AstraZeneca, Pfizer/BioNTech",
          "Moderna",
          "Johnson&Johnson, Oxford/AstraZeneca, Sinovac",
          "Johnson&Johnson, Oxford/AstraZeneca, Sinopharm/Beijing",
          "Oxford/AstraZeneca, Sinopharm/Beijing, Sinovac, Sputnik V",
          "",
          "",
          "",
          "",
          "",
          "",
          "",
          "",
          "",
          "",
          "",
          "",
          "",
          "",
          "",
          "",
          "",
          "",
          "",
          "",
          "",
          "",
          "",
          "",
          "",
          "",
          "",
          "",
          "",
          "",
          "",
          "",
          "",
          "",
          "",
          "",
          "",
          "",
          "",
          "",
          "",
          "",
          "",
          "",
          "",
          "",
          "",
          "",
          "",
          "",
          "",
          "",
          "",
          "",
          "",
          "",
          "",
          "",
          "",
          "",
          "",
          "",
          "",
          "",
          "",
          "",
          "",
          "",
          "",
          "",
          "",
          "",
          ""
         ],
         "type": "treemap",
         "values": [
          2369625,
          1873903,
          11080739,
          102032,
          5940208,
          18705,
          104500,
          58553162,
          677032,
          159016,
          34828566,
          11395391,
          9424902,
          244223,
          2750639,
          60871683,
          268945,
          4472001,
          16822167,
          344463,
          252698,
          89029,
          1103506,
          7348965,
          35845,
          1242203,
          882831,
          270107435,
          33527,
          592613,
          2775555,
          380344,
          287,
          27356822,
          497689,
          58354142,
          494079,
          111027,
          385557,
          199516,
          35303092,
          2251339000,
          46007541,
          407792,
          410016,
          23489,
          6124445,
          3046263,
          3566066,
          25357844,
          192026,
          1209400,
          12143589,
          147734,
          8833610,
          92097,
          50991,
          13110383,
          21492532,
          25083832,
          8411708,
          85317024,
          424653,
          1417734,
          273523,
          4349193,
          76723,
          4407,
          1166051,
          8012208,
          98366480,
          303630,
          217606,
          241290,
          1920934,
          110950353,
          2727537,
          87370,
          12603840,
          77057,
          67959,
          8376696,
          103064,
          2169910,
          127936,
          615611,
          110603,
          6605470,
          8999383,
          12111107,
          567789,
          1030850079,
          183477223,
          81360772,
          8972041,
          7311196,
          131770,
          15869412,
          89092469,
          899344,
          185979201,
          166909,
          7400075,
          15550804,
          5029901,
          65279,
          1542975,
          2375455,
          1689000,
          4402770,
          1888230,
          3246635,
          383341,
          358079,
          1863974,
          48413,
          3365399,
          816558,
          790170,
          566265,
          1193596,
          49434613,
          748858,
          584773,
          869715,
          1300831,
          1725697,
          115624628,
          1497461,
          49980,
          4393356,
          495875,
          2911,
          46094289,
          3799385,
          15797703,
          535048,
          14863,
          15048288,
          23944362,
          324466,
          6676800,
          1306694,
          803146,
          8402127,
          2352,
          1590219,
          546076,
          2625815,
          7925688,
          5679984,
          102067945,
          2301812,
          5415924,
          290513,
          5165112,
          33831021,
          56774753,
          94,
          38671357,
          16211690,
          4819051,
          11978451,
          100766655,
          5394793,
          7892,
          49817,
          87446,
          40130,
          194141,
          47302,
          103720,
          45428214,
          8780276,
          1961144,
          6955928,
          165206,
          396196,
          10046575,
          50410,
          4787033,
          2296983,
          152832,
          647129,
          21514033,
          76167236,
          127200,
          71366561,
          28262495,
          1659666,
          444474,
          14415349,
          10994632,
          963477,
          23217629,
          4738865,
          885579,
          71237520,
          855619,
          1287154,
          1936,
          84506,
          1208750,
          8956625,
          115674594,
          7580976,
          54417,
          10861,
          2990507,
          16501573,
          20940231,
          101777928,
          415012026,
          6573945,
          25297345,
          96536,
          16127242,
          74950393,
          5054813,
          11361,
          356173,
          871881,
          5866629,
          16127242,
          25357844,
          81360772,
          102067945,
          115624628,
          58553162,
          106230237,
          2251339000,
          15048288,
          5165112,
          385557,
          2133489,
          1030850079,
          7580976,
          100766655,
          885579,
          110603,
          614400932,
          67595352,
          12111107,
          46007541,
          6605470,
          423845636,
          1354323,
          517746,
          2867314,
          1659666,
          29578699,
          57986978,
          270107435,
          1493515,
          28003951,
          963477,
          356173,
          21817663,
          23217629,
          88418,
          8376696,
          510992268,
          62469268,
          183477223,
          2301812,
          103212888,
          17384404,
          4738865,
          4787033,
          410016,
          25297345,
          39961790,
          10046575,
          27265174,
          61315851,
          36553039,
          20940231,
          94680545,
          1590219,
          34214549,
          7120021,
          18220992,
          1411194,
          25658465,
          17624400,
          165206,
          1108317,
          8373049,
          9752929,
          790170,
          124673977,
          47302,
          15550804,
          842062,
          6161001,
          2169910
         ]
        }
       ],
       "layout": {
        "legend": {
         "tracegroupgap": 0
        },
        "template": {
         "data": {
          "bar": [
           {
            "error_x": {
             "color": "#2a3f5f"
            },
            "error_y": {
             "color": "#2a3f5f"
            },
            "marker": {
             "line": {
              "color": "#E5ECF6",
              "width": 0.5
             }
            },
            "type": "bar"
           }
          ],
          "barpolar": [
           {
            "marker": {
             "line": {
              "color": "#E5ECF6",
              "width": 0.5
             }
            },
            "type": "barpolar"
           }
          ],
          "carpet": [
           {
            "aaxis": {
             "endlinecolor": "#2a3f5f",
             "gridcolor": "white",
             "linecolor": "white",
             "minorgridcolor": "white",
             "startlinecolor": "#2a3f5f"
            },
            "baxis": {
             "endlinecolor": "#2a3f5f",
             "gridcolor": "white",
             "linecolor": "white",
             "minorgridcolor": "white",
             "startlinecolor": "#2a3f5f"
            },
            "type": "carpet"
           }
          ],
          "choropleth": [
           {
            "colorbar": {
             "outlinewidth": 0,
             "ticks": ""
            },
            "type": "choropleth"
           }
          ],
          "contour": [
           {
            "colorbar": {
             "outlinewidth": 0,
             "ticks": ""
            },
            "colorscale": [
             [
              0,
              "#0d0887"
             ],
             [
              0.1111111111111111,
              "#46039f"
             ],
             [
              0.2222222222222222,
              "#7201a8"
             ],
             [
              0.3333333333333333,
              "#9c179e"
             ],
             [
              0.4444444444444444,
              "#bd3786"
             ],
             [
              0.5555555555555556,
              "#d8576b"
             ],
             [
              0.6666666666666666,
              "#ed7953"
             ],
             [
              0.7777777777777778,
              "#fb9f3a"
             ],
             [
              0.8888888888888888,
              "#fdca26"
             ],
             [
              1,
              "#f0f921"
             ]
            ],
            "type": "contour"
           }
          ],
          "contourcarpet": [
           {
            "colorbar": {
             "outlinewidth": 0,
             "ticks": ""
            },
            "type": "contourcarpet"
           }
          ],
          "heatmap": [
           {
            "colorbar": {
             "outlinewidth": 0,
             "ticks": ""
            },
            "colorscale": [
             [
              0,
              "#0d0887"
             ],
             [
              0.1111111111111111,
              "#46039f"
             ],
             [
              0.2222222222222222,
              "#7201a8"
             ],
             [
              0.3333333333333333,
              "#9c179e"
             ],
             [
              0.4444444444444444,
              "#bd3786"
             ],
             [
              0.5555555555555556,
              "#d8576b"
             ],
             [
              0.6666666666666666,
              "#ed7953"
             ],
             [
              0.7777777777777778,
              "#fb9f3a"
             ],
             [
              0.8888888888888888,
              "#fdca26"
             ],
             [
              1,
              "#f0f921"
             ]
            ],
            "type": "heatmap"
           }
          ],
          "heatmapgl": [
           {
            "colorbar": {
             "outlinewidth": 0,
             "ticks": ""
            },
            "colorscale": [
             [
              0,
              "#0d0887"
             ],
             [
              0.1111111111111111,
              "#46039f"
             ],
             [
              0.2222222222222222,
              "#7201a8"
             ],
             [
              0.3333333333333333,
              "#9c179e"
             ],
             [
              0.4444444444444444,
              "#bd3786"
             ],
             [
              0.5555555555555556,
              "#d8576b"
             ],
             [
              0.6666666666666666,
              "#ed7953"
             ],
             [
              0.7777777777777778,
              "#fb9f3a"
             ],
             [
              0.8888888888888888,
              "#fdca26"
             ],
             [
              1,
              "#f0f921"
             ]
            ],
            "type": "heatmapgl"
           }
          ],
          "histogram": [
           {
            "marker": {
             "colorbar": {
              "outlinewidth": 0,
              "ticks": ""
             }
            },
            "type": "histogram"
           }
          ],
          "histogram2d": [
           {
            "colorbar": {
             "outlinewidth": 0,
             "ticks": ""
            },
            "colorscale": [
             [
              0,
              "#0d0887"
             ],
             [
              0.1111111111111111,
              "#46039f"
             ],
             [
              0.2222222222222222,
              "#7201a8"
             ],
             [
              0.3333333333333333,
              "#9c179e"
             ],
             [
              0.4444444444444444,
              "#bd3786"
             ],
             [
              0.5555555555555556,
              "#d8576b"
             ],
             [
              0.6666666666666666,
              "#ed7953"
             ],
             [
              0.7777777777777778,
              "#fb9f3a"
             ],
             [
              0.8888888888888888,
              "#fdca26"
             ],
             [
              1,
              "#f0f921"
             ]
            ],
            "type": "histogram2d"
           }
          ],
          "histogram2dcontour": [
           {
            "colorbar": {
             "outlinewidth": 0,
             "ticks": ""
            },
            "colorscale": [
             [
              0,
              "#0d0887"
             ],
             [
              0.1111111111111111,
              "#46039f"
             ],
             [
              0.2222222222222222,
              "#7201a8"
             ],
             [
              0.3333333333333333,
              "#9c179e"
             ],
             [
              0.4444444444444444,
              "#bd3786"
             ],
             [
              0.5555555555555556,
              "#d8576b"
             ],
             [
              0.6666666666666666,
              "#ed7953"
             ],
             [
              0.7777777777777778,
              "#fb9f3a"
             ],
             [
              0.8888888888888888,
              "#fdca26"
             ],
             [
              1,
              "#f0f921"
             ]
            ],
            "type": "histogram2dcontour"
           }
          ],
          "mesh3d": [
           {
            "colorbar": {
             "outlinewidth": 0,
             "ticks": ""
            },
            "type": "mesh3d"
           }
          ],
          "parcoords": [
           {
            "line": {
             "colorbar": {
              "outlinewidth": 0,
              "ticks": ""
             }
            },
            "type": "parcoords"
           }
          ],
          "pie": [
           {
            "automargin": true,
            "type": "pie"
           }
          ],
          "scatter": [
           {
            "marker": {
             "colorbar": {
              "outlinewidth": 0,
              "ticks": ""
             }
            },
            "type": "scatter"
           }
          ],
          "scatter3d": [
           {
            "line": {
             "colorbar": {
              "outlinewidth": 0,
              "ticks": ""
             }
            },
            "marker": {
             "colorbar": {
              "outlinewidth": 0,
              "ticks": ""
             }
            },
            "type": "scatter3d"
           }
          ],
          "scattercarpet": [
           {
            "marker": {
             "colorbar": {
              "outlinewidth": 0,
              "ticks": ""
             }
            },
            "type": "scattercarpet"
           }
          ],
          "scattergeo": [
           {
            "marker": {
             "colorbar": {
              "outlinewidth": 0,
              "ticks": ""
             }
            },
            "type": "scattergeo"
           }
          ],
          "scattergl": [
           {
            "marker": {
             "colorbar": {
              "outlinewidth": 0,
              "ticks": ""
             }
            },
            "type": "scattergl"
           }
          ],
          "scattermapbox": [
           {
            "marker": {
             "colorbar": {
              "outlinewidth": 0,
              "ticks": ""
             }
            },
            "type": "scattermapbox"
           }
          ],
          "scatterpolar": [
           {
            "marker": {
             "colorbar": {
              "outlinewidth": 0,
              "ticks": ""
             }
            },
            "type": "scatterpolar"
           }
          ],
          "scatterpolargl": [
           {
            "marker": {
             "colorbar": {
              "outlinewidth": 0,
              "ticks": ""
             }
            },
            "type": "scatterpolargl"
           }
          ],
          "scatterternary": [
           {
            "marker": {
             "colorbar": {
              "outlinewidth": 0,
              "ticks": ""
             }
            },
            "type": "scatterternary"
           }
          ],
          "surface": [
           {
            "colorbar": {
             "outlinewidth": 0,
             "ticks": ""
            },
            "colorscale": [
             [
              0,
              "#0d0887"
             ],
             [
              0.1111111111111111,
              "#46039f"
             ],
             [
              0.2222222222222222,
              "#7201a8"
             ],
             [
              0.3333333333333333,
              "#9c179e"
             ],
             [
              0.4444444444444444,
              "#bd3786"
             ],
             [
              0.5555555555555556,
              "#d8576b"
             ],
             [
              0.6666666666666666,
              "#ed7953"
             ],
             [
              0.7777777777777778,
              "#fb9f3a"
             ],
             [
              0.8888888888888888,
              "#fdca26"
             ],
             [
              1,
              "#f0f921"
             ]
            ],
            "type": "surface"
           }
          ],
          "table": [
           {
            "cells": {
             "fill": {
              "color": "#EBF0F8"
             },
             "line": {
              "color": "white"
             }
            },
            "header": {
             "fill": {
              "color": "#C8D4E3"
             },
             "line": {
              "color": "white"
             }
            },
            "type": "table"
           }
          ]
         },
         "layout": {
          "annotationdefaults": {
           "arrowcolor": "#2a3f5f",
           "arrowhead": 0,
           "arrowwidth": 1
          },
          "coloraxis": {
           "colorbar": {
            "outlinewidth": 0,
            "ticks": ""
           }
          },
          "colorscale": {
           "diverging": [
            [
             0,
             "#8e0152"
            ],
            [
             0.1,
             "#c51b7d"
            ],
            [
             0.2,
             "#de77ae"
            ],
            [
             0.3,
             "#f1b6da"
            ],
            [
             0.4,
             "#fde0ef"
            ],
            [
             0.5,
             "#f7f7f7"
            ],
            [
             0.6,
             "#e6f5d0"
            ],
            [
             0.7,
             "#b8e186"
            ],
            [
             0.8,
             "#7fbc41"
            ],
            [
             0.9,
             "#4d9221"
            ],
            [
             1,
             "#276419"
            ]
           ],
           "sequential": [
            [
             0,
             "#0d0887"
            ],
            [
             0.1111111111111111,
             "#46039f"
            ],
            [
             0.2222222222222222,
             "#7201a8"
            ],
            [
             0.3333333333333333,
             "#9c179e"
            ],
            [
             0.4444444444444444,
             "#bd3786"
            ],
            [
             0.5555555555555556,
             "#d8576b"
            ],
            [
             0.6666666666666666,
             "#ed7953"
            ],
            [
             0.7777777777777778,
             "#fb9f3a"
            ],
            [
             0.8888888888888888,
             "#fdca26"
            ],
            [
             1,
             "#f0f921"
            ]
           ],
           "sequentialminus": [
            [
             0,
             "#0d0887"
            ],
            [
             0.1111111111111111,
             "#46039f"
            ],
            [
             0.2222222222222222,
             "#7201a8"
            ],
            [
             0.3333333333333333,
             "#9c179e"
            ],
            [
             0.4444444444444444,
             "#bd3786"
            ],
            [
             0.5555555555555556,
             "#d8576b"
            ],
            [
             0.6666666666666666,
             "#ed7953"
            ],
            [
             0.7777777777777778,
             "#fb9f3a"
            ],
            [
             0.8888888888888888,
             "#fdca26"
            ],
            [
             1,
             "#f0f921"
            ]
           ]
          },
          "colorway": [
           "#636efa",
           "#EF553B",
           "#00cc96",
           "#ab63fa",
           "#FFA15A",
           "#19d3f3",
           "#FF6692",
           "#B6E880",
           "#FF97FF",
           "#FECB52"
          ],
          "font": {
           "color": "#2a3f5f"
          },
          "geo": {
           "bgcolor": "white",
           "lakecolor": "white",
           "landcolor": "#E5ECF6",
           "showlakes": true,
           "showland": true,
           "subunitcolor": "white"
          },
          "hoverlabel": {
           "align": "left"
          },
          "hovermode": "closest",
          "mapbox": {
           "style": "light"
          },
          "paper_bgcolor": "white",
          "plot_bgcolor": "#E5ECF6",
          "polar": {
           "angularaxis": {
            "gridcolor": "white",
            "linecolor": "white",
            "ticks": ""
           },
           "bgcolor": "#E5ECF6",
           "radialaxis": {
            "gridcolor": "white",
            "linecolor": "white",
            "ticks": ""
           }
          },
          "scene": {
           "xaxis": {
            "backgroundcolor": "#E5ECF6",
            "gridcolor": "white",
            "gridwidth": 2,
            "linecolor": "white",
            "showbackground": true,
            "ticks": "",
            "zerolinecolor": "white"
           },
           "yaxis": {
            "backgroundcolor": "#E5ECF6",
            "gridcolor": "white",
            "gridwidth": 2,
            "linecolor": "white",
            "showbackground": true,
            "ticks": "",
            "zerolinecolor": "white"
           },
           "zaxis": {
            "backgroundcolor": "#E5ECF6",
            "gridcolor": "white",
            "gridwidth": 2,
            "linecolor": "white",
            "showbackground": true,
            "ticks": "",
            "zerolinecolor": "white"
           }
          },
          "shapedefaults": {
           "line": {
            "color": "#2a3f5f"
           }
          },
          "ternary": {
           "aaxis": {
            "gridcolor": "white",
            "linecolor": "white",
            "ticks": ""
           },
           "baxis": {
            "gridcolor": "white",
            "linecolor": "white",
            "ticks": ""
           },
           "bgcolor": "#E5ECF6",
           "caxis": {
            "gridcolor": "white",
            "linecolor": "white",
            "ticks": ""
           }
          },
          "title": {
           "x": 0.05
          },
          "xaxis": {
           "automargin": true,
           "gridcolor": "white",
           "linecolor": "white",
           "ticks": "",
           "title": {
            "standoff": 15
           },
           "zerolinecolor": "white",
           "zerolinewidth": 2
          },
          "yaxis": {
           "automargin": true,
           "gridcolor": "white",
           "linecolor": "white",
           "ticks": "",
           "title": {
            "standoff": 15
           },
           "zerolinecolor": "white",
           "zerolinewidth": 2
          }
         }
        },
        "title": {
         "text": "Total vaccinations per country"
        }
       }
      },
      "text/html": [
       "<div>                            <div id=\"d6760836-7108-48b4-a7a7-5a08aa23448d\" class=\"plotly-graph-div\" style=\"height:525px; width:100%;\"></div>            <script type=\"text/javascript\">                require([\"plotly\"], function(Plotly) {                    window.PLOTLYENV=window.PLOTLYENV || {};                                    if (document.getElementById(\"d6760836-7108-48b4-a7a7-5a08aa23448d\")) {                    Plotly.newPlot(                        \"d6760836-7108-48b4-a7a7-5a08aa23448d\",                        [{\"branchvalues\": \"total\", \"domain\": {\"x\": [0.0, 1.0], \"y\": [0.0, 1.0]}, \"hovertemplate\": \"labels=%{label}<br>Total Vaccinations=%{value}<br>parent=%{parent}<br>id=%{id}<extra></extra>\", \"ids\": [\"Johnson&Johnson, Oxford/AstraZeneca, Pfizer/BioNTech, Sinopharm/Beijing/Afghanistan\", \"Oxford/AstraZeneca, Pfizer/BioNTech, Sinovac, Sputnik V/Albania\", \"Oxford/AstraZeneca, Sinopharm/Beijing, Sinovac, Sputnik V/Algeria\", \"Oxford/AstraZeneca, Pfizer/BioNTech/Andorra\", \"Oxford/AstraZeneca/Angola\", \"Oxford/AstraZeneca/Anguilla\", \"Oxford/AstraZeneca, Pfizer/BioNTech, Sputnik V/Antigua and Barbuda\", \"CanSino, Moderna, Oxford/AstraZeneca, Pfizer/BioNTech, Sinopharm/Beijing, Sputnik V/Argentina\", \"Oxford/AstraZeneca, Sinopharm/Beijing, Sinovac, Sputnik V/Armenia\", \"Pfizer/BioNTech/Aruba\", \"Moderna, Oxford/AstraZeneca, Pfizer/BioNTech/Australia\", \"Johnson&Johnson, Moderna, Oxford/AstraZeneca, Pfizer/BioNTech/Austria\", \"Oxford/AstraZeneca, Pfizer/BioNTech, Sinovac, Sputnik V/Azerbaijan\", \"Johnson&Johnson, Oxford/AstraZeneca, Pfizer/BioNTech/Bahamas\", \"Oxford/AstraZeneca, Pfizer/BioNTech, Sinopharm/Beijing, Sputnik V/Bahrain\", \"Moderna, Oxford/AstraZeneca, Pfizer/BioNTech, Sinopharm/Beijing/Bangladesh\", \"Oxford/AstraZeneca, Pfizer/BioNTech, Sinopharm/Beijing/Barbados\", \"Sinopharm/Beijing, Sputnik V/Belarus\", \"Johnson&Johnson, Moderna, Oxford/AstraZeneca, Pfizer/BioNTech/Belgium\", \"Oxford/AstraZeneca, Sinopharm/Beijing/Belize\", \"Oxford/AstraZeneca, Sinovac/Benin\", \"Oxford/AstraZeneca, Pfizer/BioNTech/Bermuda\", \"Moderna, Oxford/AstraZeneca, Pfizer/BioNTech, Sinopharm/Beijing/Bhutan\", \"Johnson&Johnson, Oxford/AstraZeneca, Pfizer/BioNTech, Sinopharm/Beijing, Sputnik V/Bolivia\", \"Moderna, Pfizer/BioNTech/Bonaire Sint Eustatius and Saba\", \"Oxford/AstraZeneca, Pfizer/BioNTech, Sinovac, Sputnik V/Bosnia and Herzegovina\", \"Moderna, Oxford/AstraZeneca, Pfizer/BioNTech, Sinovac/Botswana\", \"Johnson&Johnson, Oxford/AstraZeneca, Pfizer/BioNTech, Sinovac/Brazil\", \"Johnson&Johnson, Oxford/AstraZeneca/British Virgin Islands\", \"Oxford/AstraZeneca, Sinopharm/Beijing/Brunei\", \"Johnson&Johnson, Moderna, Oxford/AstraZeneca, Pfizer/BioNTech/Bulgaria\", \"Johnson&Johnson, Oxford/AstraZeneca, Sinopharm/Beijing/Burkina Faso\", \"Sinopharm/Beijing/Burundi\", \"Johnson&Johnson, Oxford/AstraZeneca, Sinopharm/Beijing, Sinovac/Cambodia\", \"Johnson&Johnson, Oxford/AstraZeneca, Pfizer/BioNTech, Sinopharm/Beijing/Cameroon\", \"Moderna, Oxford/AstraZeneca, Pfizer/BioNTech/Canada\", \"Moderna, Oxford/AstraZeneca, Pfizer/BioNTech, Sinopharm/Beijing/Cape Verde\", \"Oxford/AstraZeneca, Pfizer/BioNTech/Cayman Islands\", \"Covaxin, Oxford/AstraZeneca/Central African Republic\", \"Sinopharm/Beijing/Chad\", \"CanSino, Oxford/AstraZeneca, Pfizer/BioNTech, Sinovac/Chile\", \"CanSino, Sinopharm/Beijing, Sinopharm/Wuhan, Sinovac, ZF2001/China\", \"Johnson&Johnson, Moderna, Oxford/AstraZeneca, Pfizer/BioNTech, Sinovac/Colombia\", \"Covaxin, Oxford/AstraZeneca, Sinopharm/Beijing/Comoros\", \"Moderna, Oxford/AstraZeneca, Sinopharm/Beijing, Sputnik V/Congo\", \"Pfizer/BioNTech/Cook Islands\", \"Oxford/AstraZeneca, Pfizer/BioNTech/Costa Rica\", \"Johnson&Johnson, Oxford/AstraZeneca, Pfizer/BioNTech, Sinopharm/Beijing, Sputnik V/Cote d'Ivoire\", \"Johnson&Johnson, Moderna, Oxford/AstraZeneca, Pfizer/BioNTech/Croatia\", \"Abdala, Soberana02/Cuba\", \"Moderna, Pfizer/BioNTech/Curacao\", \"Johnson&Johnson, Moderna, Oxford/AstraZeneca, Pfizer/BioNTech/Cyprus\", \"Johnson&Johnson, Moderna, Oxford/AstraZeneca, Pfizer/BioNTech/Czechia\", \"Oxford/AstraZeneca/Democratic Republic of Congo\", \"Johnson&Johnson, Moderna, Pfizer/BioNTech/Denmark\", \"Johnson&Johnson, Oxford/AstraZeneca, Pfizer/BioNTech, Sinopharm/Beijing, Sinovac, Sputnik V/Djibouti\", \"Oxford/AstraZeneca, Pfizer/BioNTech, Sinopharm/Beijing/Dominica\", \"Oxford/AstraZeneca, Pfizer/BioNTech, Sinopharm/Beijing, Sinovac/Dominican Republic\", \"CanSino, Oxford/AstraZeneca, Pfizer/BioNTech, Sinovac/Ecuador\", \"Johnson&Johnson, Oxford/AstraZeneca, Pfizer/BioNTech, Sinopharm/Beijing, Sinovac, Sputnik V/Egypt\", \"Oxford/AstraZeneca, Pfizer/BioNTech, Sinopharm/Beijing, Sinovac/El Salvador\", \"Moderna, Oxford/AstraZeneca, Pfizer/BioNTech/England\", \"Sinopharm/Beijing/Equatorial Guinea\", \"Johnson&Johnson, Moderna, Oxford/AstraZeneca, Pfizer/BioNTech/Estonia\", \"Johnson&Johnson, Oxford/AstraZeneca, Pfizer/BioNTech/Eswatini\", \"Oxford/AstraZeneca/Ethiopia\", \"Moderna, Pfizer/BioNTech/Faeroe Islands\", \"Oxford/AstraZeneca/Falkland Islands\", \"Oxford/AstraZeneca/Fiji\", \"Moderna, Oxford/AstraZeneca, Pfizer/BioNTech/Finland\", \"Johnson&Johnson, Moderna, Oxford/AstraZeneca, Pfizer/BioNTech/France\", \"Johnson&Johnson, Pfizer/BioNTech/French Polynesia\", \"Sinopharm/Beijing/Gabon\", \"Johnson&Johnson, Oxford/AstraZeneca, Sinopharm/Beijing/Gambia\", \"Oxford/AstraZeneca, Pfizer/BioNTech, Sinopharm/Beijing, Sinovac/Georgia\", \"Johnson&Johnson, Moderna, Oxford/AstraZeneca, Pfizer/BioNTech/Germany\", \"Oxford/AstraZeneca, Sputnik V/Ghana\", \"Pfizer/BioNTech/Gibraltar\", \"Johnson&Johnson, Moderna, Oxford/AstraZeneca, Pfizer/BioNTech/Greece\", \"Moderna/Greenland\", \"Oxford/AstraZeneca, Pfizer/BioNTech/Grenada\", \"Moderna, Oxford/AstraZeneca/Guatemala\", \"Moderna, Oxford/AstraZeneca, Pfizer/BioNTech/Guernsey\", \"Sputnik V/Guinea\", \"Oxford/AstraZeneca, Sinopharm/Beijing/Guinea-Bissau\", \"Oxford/AstraZeneca, Sputnik V/Guyana\", \"Johnson&Johnson, Moderna/Haiti\", \"Johnson&Johnson, Moderna, Oxford/AstraZeneca, Pfizer/BioNTech, Sputnik V/Honduras\", \"Pfizer/BioNTech, Sinovac/Hong Kong\", \"Johnson&Johnson, Moderna, Oxford/AstraZeneca, Pfizer/BioNTech, Sinopharm/Beijing, Sputnik V/Hungary\", \"Johnson&Johnson, Moderna, Oxford/AstraZeneca, Pfizer/BioNTech/Iceland\", \"Covaxin, Oxford/AstraZeneca, Sputnik V/India\", \"Moderna, Oxford/AstraZeneca, Pfizer/BioNTech, Sinopharm/Beijing, Sinovac/Indonesia\", \"COVIran Barekat, Covaxin, Oxford/AstraZeneca, Sinopharm/Beijing, Soberana02, Sputnik V/Iran\", \"Oxford/AstraZeneca, Pfizer/BioNTech, Sinopharm/Beijing, Sputnik V/Iraq\", \"Johnson&Johnson, Moderna, Oxford/AstraZeneca, Pfizer/BioNTech/Ireland\", \"Moderna, Oxford/AstraZeneca, Pfizer/BioNTech/Isle of Man\", \"Moderna, Pfizer/BioNTech/Israel\", \"Johnson&Johnson, Moderna, Oxford/AstraZeneca, Pfizer/BioNTech/Italy\", \"Johnson&Johnson, Moderna, Oxford/AstraZeneca, Pfizer/BioNTech/Jamaica\", \"Moderna, Oxford/AstraZeneca, Pfizer/BioNTech/Japan\", \"Moderna, Oxford/AstraZeneca, Pfizer/BioNTech/Jersey\", \"Oxford/AstraZeneca, Pfizer/BioNTech, Sinopharm/Beijing, Sputnik V/Jordan\", \"QazVac, Sinopharm/Beijing, Sputnik V/Kazakhstan\", \"Oxford/AstraZeneca, Sputnik V/Kenya\", \"Oxford/AstraZeneca/Kiribati\", \"Oxford/AstraZeneca, Pfizer/BioNTech/Kosovo\", \"Pfizer/BioNTech/Kuwait\", \"Sinopharm/Beijing, Sputnik V/Kyrgyzstan\", \"Johnson&Johnson, Oxford/AstraZeneca, Pfizer/BioNTech, Sinopharm/Beijing, Sinovac, Sputnik V/Laos\", \"Johnson&Johnson, Moderna, Oxford/AstraZeneca, Pfizer/BioNTech/Latvia\", \"Oxford/AstraZeneca, Pfizer/BioNTech, Sinopharm/Beijing, Sputnik V/Lebanon\", \"Oxford/AstraZeneca/Lesotho\", \"Oxford/AstraZeneca/Liberia\", \"Johnson&Johnson, Moderna, Oxford/AstraZeneca, Pfizer/BioNTech, Sinopharm/Beijing, Sinovac, Sputnik V/Libya\", \"Moderna, Pfizer/BioNTech/Liechtenstein\", \"Johnson&Johnson, Moderna, Oxford/AstraZeneca, Pfizer/BioNTech/Lithuania\", \"Johnson&Johnson, Moderna, Oxford/AstraZeneca, Pfizer/BioNTech/Luxembourg\", \"Pfizer/BioNTech, Sinopharm/Beijing/Macao\", \"Oxford/AstraZeneca/Madagascar\", \"Johnson&Johnson, Oxford/AstraZeneca/Malawi\", \"CanSino, Oxford/AstraZeneca, Pfizer/BioNTech, Sinovac/Malaysia\", \"Oxford/AstraZeneca, Pfizer/BioNTech, Sinopharm/Beijing/Maldives\", \"Oxford/AstraZeneca/Mali\", \"Johnson&Johnson, Moderna, Oxford/AstraZeneca, Pfizer/BioNTech/Malta\", \"Oxford/AstraZeneca, Sinopharm/Beijing/Mauritania\", \"Covaxin, Oxford/AstraZeneca, Sinopharm/Beijing/Mauritius\", \"CanSino, Johnson&Johnson, Moderna, Oxford/AstraZeneca, Pfizer/BioNTech, Sinovac, Sputnik V/Mexico\", \"Johnson&Johnson, Oxford/AstraZeneca, Pfizer/BioNTech, Sinopharm/Beijing, Sputnik V/Moldova\", \"Pfizer/BioNTech/Monaco\", \"Oxford/AstraZeneca, Pfizer/BioNTech, Sinopharm/Beijing, Sputnik V/Mongolia\", \"Oxford/AstraZeneca, Pfizer/BioNTech, Sinopharm/Beijing, Sputnik V/Montenegro\", \"Oxford/AstraZeneca/Montserrat\", \"Johnson&Johnson, Oxford/AstraZeneca, Pfizer/BioNTech, Sinopharm/Beijing, Sputnik V/Morocco\", \"Oxford/AstraZeneca, Sinopharm/Beijing/Mozambique\", \"Oxford/AstraZeneca, Sinopharm/Beijing/Myanmar\", \"Oxford/AstraZeneca, Sinopharm/Beijing/Namibia\", \"Oxford/AstraZeneca/Nauru\", \"Covaxin, Johnson&Johnson, Oxford/AstraZeneca, Sinopharm/Beijing, Sputnik V/Nepal\", \"Johnson&Johnson, Moderna, Oxford/AstraZeneca, Pfizer/BioNTech/Netherlands\", \"Pfizer/BioNTech/New Caledonia\", \"Pfizer/BioNTech/New Zealand\", \"Oxford/AstraZeneca, Pfizer/BioNTech, Sputnik V/Nicaragua\", \"Oxford/AstraZeneca, Sinopharm/Beijing/Niger\", \"Oxford/AstraZeneca/Nigeria\", \"Oxford/AstraZeneca/Niue\", \"Oxford/AstraZeneca, Pfizer/BioNTech, Sinopharm/Beijing, Sinovac, Sputnik V/North Macedonia\", \"Oxford/AstraZeneca, Pfizer/BioNTech, Sinovac/Northern Cyprus\", \"Moderna, Oxford/AstraZeneca, Pfizer/BioNTech/Northern Ireland\", \"Moderna, Pfizer/BioNTech/Norway\", \"Oxford/AstraZeneca, Pfizer/BioNTech, Sinovac, Sputnik V/Oman\", \"CanSino, Covaxin, Moderna, Oxford/AstraZeneca, Pfizer/BioNTech, Sinopharm/Beijing, Sinovac, Sputnik V/Pakistan\", \"Moderna, Oxford/AstraZeneca, Pfizer/BioNTech, Sinopharm/Beijing, Sputnik Light, Sputnik V/Palestine\", \"Oxford/AstraZeneca, Pfizer/BioNTech/Panama\", \"Oxford/AstraZeneca/Papua New Guinea\", \"Covaxin, Moderna, Oxford/AstraZeneca, Pfizer/BioNTech, Sinopharm/Beijing, Sinovac, Sputnik V/Paraguay\", \"Oxford/AstraZeneca, Pfizer/BioNTech, Sinopharm/Beijing/Peru\", \"Johnson&Johnson, Moderna, Oxford/AstraZeneca, Pfizer/BioNTech, Sinopharm/Beijing, Sinovac, Sputnik V/Philippines\", \"Oxford/AstraZeneca/Pitcairn\", \"Johnson&Johnson, Moderna, Oxford/AstraZeneca, Pfizer/BioNTech/Poland\", \"Johnson&Johnson, Moderna, Oxford/AstraZeneca, Pfizer/BioNTech/Portugal\", \"Moderna, Pfizer/BioNTech/Qatar\", \"Johnson&Johnson, Moderna, Oxford/AstraZeneca, Pfizer/BioNTech/Romania\", \"EpiVacCorona, Sputnik V/Russia\", \"Moderna, Oxford/AstraZeneca, Pfizer/BioNTech/Rwanda\", \"Oxford/AstraZeneca/Saint Helena\", \"Oxford/AstraZeneca, Pfizer/BioNTech/Saint Kitts and Nevis\", \"Oxford/AstraZeneca, Pfizer/BioNTech/Saint Lucia\", \"Oxford/AstraZeneca/Saint Vincent and the Grenadines\", \"Oxford/AstraZeneca/Samoa\", \"Pfizer/BioNTech, Sputnik V/San Marino\", \"Oxford/AstraZeneca/Sao Tome and Principe\", \"Oxford/AstraZeneca, Pfizer/BioNTech/Saudi Arabia\", \"Moderna, Oxford/AstraZeneca, Pfizer/BioNTech/Scotland\", \"Oxford/AstraZeneca, Sinopharm/Beijing/Senegal\", \"Oxford/AstraZeneca, Pfizer/BioNTech, Sinopharm/Beijing, Sputnik V/Serbia\", \"Oxford/AstraZeneca, Sinopharm/Beijing, Sputnik V/Seychelles\", \"Oxford/AstraZeneca, Sinopharm/Beijing/Sierra Leone\", \"Moderna, Pfizer/BioNTech, Sinovac/Singapore\", \"Moderna, Oxford/AstraZeneca, Pfizer/BioNTech/Sint Maarten (Dutch part)\", \"Moderna, Oxford/AstraZeneca, Pfizer/BioNTech, Sputnik V/Slovakia\", \"Oxford/AstraZeneca, Pfizer/BioNTech/Slovenia\", \"Oxford/AstraZeneca/Solomon Islands\", \"Johnson&Johnson, Oxford/AstraZeneca, Sinopharm/Beijing, Sinovac/Somalia\", \"Johnson&Johnson, Pfizer/BioNTech/South Africa\", \"Johnson&Johnson, Moderna, Oxford/AstraZeneca, Pfizer/BioNTech/South Korea\", \"Johnson&Johnson, Oxford/AstraZeneca/South Sudan\", \"Johnson&Johnson, Moderna, Oxford/AstraZeneca, Pfizer/BioNTech/Spain\", \"Moderna, Oxford/AstraZeneca, Pfizer/BioNTech, Sinopharm/Beijing, Sputnik V/Sri Lanka\", \"Johnson&Johnson, Oxford/AstraZeneca, Pfizer/BioNTech, Sinopharm/Beijing, Sinovac/Sudan\", \"Oxford/AstraZeneca, Pfizer/BioNTech, Sinopharm/Beijing/Suriname\", \"Moderna, Oxford/AstraZeneca, Pfizer/BioNTech/Sweden\", \"Moderna, Pfizer/BioNTech/Switzerland\", \"Johnson&Johnson, Oxford/AstraZeneca, Sinopharm/Beijing, Sinovac, Sputnik Light, Sputnik V/Syria\", \"Medigen, Moderna, Oxford/AstraZeneca, Pfizer/BioNTech/Taiwan\", \"Moderna, Oxford/AstraZeneca, Pfizer/BioNTech, Sinovac, Sputnik V/Tajikistan\", \"Johnson&Johnson/Tanzania\", \"Oxford/AstraZeneca, Pfizer/BioNTech, Sinopharm/Beijing, Sinovac/Thailand\", \"Oxford/AstraZeneca, Sinovac/Timor\", \"Oxford/AstraZeneca/Togo\", \"Pfizer/BioNTech/Tokelau\", \"Oxford/AstraZeneca/Tonga\", \"Oxford/AstraZeneca, Pfizer/BioNTech, Sinopharm/Beijing/Trinidad and Tobago\", \"Johnson&Johnson, Moderna, Oxford/AstraZeneca, Pfizer/BioNTech, Sinopharm/Beijing, Sinovac, Sputnik V/Tunisia\", \"Pfizer/BioNTech, Sinovac/Turkey\", \"EpiVacCorona, Oxford/AstraZeneca, Sinopharm/Beijing, Sputnik V/Turkmenistan\", \"Pfizer/BioNTech/Turks and Caicos Islands\", \"Oxford/AstraZeneca/Tuvalu\", \"Oxford/AstraZeneca/Uganda\", \"Moderna, Oxford/AstraZeneca, Pfizer/BioNTech, Sinovac/Ukraine\", \"Oxford/AstraZeneca, Pfizer/BioNTech, Sinopharm/Beijing, Sinopharm/Wuhan, Sputnik V/United Arab Emirates\", \"Moderna, Oxford/AstraZeneca, Pfizer/BioNTech/United Kingdom\", \"Johnson&Johnson, Moderna, Pfizer/BioNTech/United States\", \"Oxford/AstraZeneca, Pfizer/BioNTech, Sinovac/Uruguay\", \"Moderna, Oxford/AstraZeneca, Sputnik V, ZF2001/Uzbekistan\", \"Oxford/AstraZeneca/Vanuatu\", \"Abdala, Sinopharm/Beijing, Sinopharm/Wuhan, Sputnik V/Venezuela\", \"Moderna, Oxford/AstraZeneca, Pfizer/BioNTech, Sinopharm/Beijing, Sputnik V/Vietnam\", \"Moderna, Oxford/AstraZeneca, Pfizer/BioNTech/Wales\", \"Moderna/Wallis and Futuna\", \"Johnson&Johnson, Oxford/AstraZeneca, Sinovac/Yemen\", \"Johnson&Johnson, Oxford/AstraZeneca, Sinopharm/Beijing/Zambia\", \"Oxford/AstraZeneca, Sinopharm/Beijing, Sinovac, Sputnik V/Zimbabwe\", \"Abdala, Sinopharm/Beijing, Sinopharm/Wuhan, Sputnik V\", \"Abdala, Soberana02\", \"COVIran Barekat, Covaxin, Oxford/AstraZeneca, Sinopharm/Beijing, Soberana02, Sputnik V\", \"CanSino, Covaxin, Moderna, Oxford/AstraZeneca, Pfizer/BioNTech, Sinopharm/Beijing, Sinovac, Sputnik V\", \"CanSino, Johnson&Johnson, Moderna, Oxford/AstraZeneca, Pfizer/BioNTech, Sinovac, Sputnik V\", \"CanSino, Moderna, Oxford/AstraZeneca, Pfizer/BioNTech, Sinopharm/Beijing, Sputnik V\", \"CanSino, Oxford/AstraZeneca, Pfizer/BioNTech, Sinovac\", \"CanSino, Sinopharm/Beijing, Sinopharm/Wuhan, Sinovac, ZF2001\", \"Covaxin, Johnson&Johnson, Oxford/AstraZeneca, Sinopharm/Beijing, Sputnik V\", \"Covaxin, Moderna, Oxford/AstraZeneca, Pfizer/BioNTech, Sinopharm/Beijing, Sinovac, Sputnik V\", \"Covaxin, Oxford/AstraZeneca\", \"Covaxin, Oxford/AstraZeneca, Sinopharm/Beijing\", \"Covaxin, Oxford/AstraZeneca, Sputnik V\", \"EpiVacCorona, Oxford/AstraZeneca, Sinopharm/Beijing, Sputnik V\", \"EpiVacCorona, Sputnik V\", \"Johnson&Johnson\", \"Johnson&Johnson, Moderna\", \"Johnson&Johnson, Moderna, Oxford/AstraZeneca, Pfizer/BioNTech\", \"Johnson&Johnson, Moderna, Oxford/AstraZeneca, Pfizer/BioNTech, Sinopharm/Beijing, Sinovac, Sputnik V\", \"Johnson&Johnson, Moderna, Oxford/AstraZeneca, Pfizer/BioNTech, Sinopharm/Beijing, Sputnik V\", \"Johnson&Johnson, Moderna, Oxford/AstraZeneca, Pfizer/BioNTech, Sinovac\", \"Johnson&Johnson, Moderna, Oxford/AstraZeneca, Pfizer/BioNTech, Sputnik V\", \"Johnson&Johnson, Moderna, Pfizer/BioNTech\", \"Johnson&Johnson, Oxford/AstraZeneca\", \"Johnson&Johnson, Oxford/AstraZeneca, Pfizer/BioNTech\", \"Johnson&Johnson, Oxford/AstraZeneca, Pfizer/BioNTech, Sinopharm/Beijing\", \"Johnson&Johnson, Oxford/AstraZeneca, Pfizer/BioNTech, Sinopharm/Beijing, Sinovac\", \"Johnson&Johnson, Oxford/AstraZeneca, Pfizer/BioNTech, Sinopharm/Beijing, Sinovac, Sputnik V\", \"Johnson&Johnson, Oxford/AstraZeneca, Pfizer/BioNTech, Sinopharm/Beijing, Sputnik V\", \"Johnson&Johnson, Oxford/AstraZeneca, Pfizer/BioNTech, Sinovac\", \"Johnson&Johnson, Oxford/AstraZeneca, Sinopharm/Beijing\", \"Johnson&Johnson, Oxford/AstraZeneca, Sinopharm/Beijing, Sinovac\", \"Johnson&Johnson, Oxford/AstraZeneca, Sinopharm/Beijing, Sinovac, Sputnik Light, Sputnik V\", \"Johnson&Johnson, Oxford/AstraZeneca, Sinovac\", \"Johnson&Johnson, Pfizer/BioNTech\", \"Medigen, Moderna, Oxford/AstraZeneca, Pfizer/BioNTech\", \"Moderna\", \"Moderna, Oxford/AstraZeneca\", \"Moderna, Oxford/AstraZeneca, Pfizer/BioNTech\", \"Moderna, Oxford/AstraZeneca, Pfizer/BioNTech, Sinopharm/Beijing\", \"Moderna, Oxford/AstraZeneca, Pfizer/BioNTech, Sinopharm/Beijing, Sinovac\", \"Moderna, Oxford/AstraZeneca, Pfizer/BioNTech, Sinopharm/Beijing, Sputnik Light, Sputnik V\", \"Moderna, Oxford/AstraZeneca, Pfizer/BioNTech, Sinopharm/Beijing, Sputnik V\", \"Moderna, Oxford/AstraZeneca, Pfizer/BioNTech, Sinovac\", \"Moderna, Oxford/AstraZeneca, Pfizer/BioNTech, Sinovac, Sputnik V\", \"Moderna, Oxford/AstraZeneca, Pfizer/BioNTech, Sputnik V\", \"Moderna, Oxford/AstraZeneca, Sinopharm/Beijing, Sputnik V\", \"Moderna, Oxford/AstraZeneca, Sputnik V, ZF2001\", \"Moderna, Pfizer/BioNTech\", \"Moderna, Pfizer/BioNTech, Sinovac\", \"Oxford/AstraZeneca\", \"Oxford/AstraZeneca, Pfizer/BioNTech\", \"Oxford/AstraZeneca, Pfizer/BioNTech, Sinopharm/Beijing\", \"Oxford/AstraZeneca, Pfizer/BioNTech, Sinopharm/Beijing, Sinopharm/Wuhan, Sputnik V\", \"Oxford/AstraZeneca, Pfizer/BioNTech, Sinopharm/Beijing, Sinovac\", \"Oxford/AstraZeneca, Pfizer/BioNTech, Sinopharm/Beijing, Sinovac, Sputnik V\", \"Oxford/AstraZeneca, Pfizer/BioNTech, Sinopharm/Beijing, Sputnik V\", \"Oxford/AstraZeneca, Pfizer/BioNTech, Sinovac\", \"Oxford/AstraZeneca, Pfizer/BioNTech, Sinovac, Sputnik V\", \"Oxford/AstraZeneca, Pfizer/BioNTech, Sputnik V\", \"Oxford/AstraZeneca, Sinopharm/Beijing\", \"Oxford/AstraZeneca, Sinopharm/Beijing, Sinovac, Sputnik V\", \"Oxford/AstraZeneca, Sinopharm/Beijing, Sputnik V\", \"Oxford/AstraZeneca, Sinovac\", \"Oxford/AstraZeneca, Sputnik V\", \"Pfizer/BioNTech\", \"Pfizer/BioNTech, Sinopharm/Beijing\", \"Pfizer/BioNTech, Sinovac\", \"Pfizer/BioNTech, Sputnik V\", \"QazVac, Sinopharm/Beijing, Sputnik V\", \"Sinopharm/Beijing\", \"Sinopharm/Beijing, Sputnik V\", \"Sputnik V\"], \"labels\": [\"Afghanistan\", \"Albania\", \"Algeria\", \"Andorra\", \"Angola\", \"Anguilla\", \"Antigua and Barbuda\", \"Argentina\", \"Armenia\", \"Aruba\", \"Australia\", \"Austria\", \"Azerbaijan\", \"Bahamas\", \"Bahrain\", \"Bangladesh\", \"Barbados\", \"Belarus\", \"Belgium\", \"Belize\", \"Benin\", \"Bermuda\", \"Bhutan\", \"Bolivia\", \"Bonaire Sint Eustatius and Saba\", \"Bosnia and Herzegovina\", \"Botswana\", \"Brazil\", \"British Virgin Islands\", \"Brunei\", \"Bulgaria\", \"Burkina Faso\", \"Burundi\", \"Cambodia\", \"Cameroon\", \"Canada\", \"Cape Verde\", \"Cayman Islands\", \"Central African Republic\", \"Chad\", \"Chile\", \"China\", \"Colombia\", \"Comoros\", \"Congo\", \"Cook Islands\", \"Costa Rica\", \"Cote d'Ivoire\", \"Croatia\", \"Cuba\", \"Curacao\", \"Cyprus\", \"Czechia\", \"Democratic Republic of Congo\", \"Denmark\", \"Djibouti\", \"Dominica\", \"Dominican Republic\", \"Ecuador\", \"Egypt\", \"El Salvador\", \"England\", \"Equatorial Guinea\", \"Estonia\", \"Eswatini\", \"Ethiopia\", \"Faeroe Islands\", \"Falkland Islands\", \"Fiji\", \"Finland\", \"France\", \"French Polynesia\", \"Gabon\", \"Gambia\", \"Georgia\", \"Germany\", \"Ghana\", \"Gibraltar\", \"Greece\", \"Greenland\", \"Grenada\", \"Guatemala\", \"Guernsey\", \"Guinea\", \"Guinea-Bissau\", \"Guyana\", \"Haiti\", \"Honduras\", \"Hong Kong\", \"Hungary\", \"Iceland\", \"India\", \"Indonesia\", \"Iran\", \"Iraq\", \"Ireland\", \"Isle of Man\", \"Israel\", \"Italy\", \"Jamaica\", \"Japan\", \"Jersey\", \"Jordan\", \"Kazakhstan\", \"Kenya\", \"Kiribati\", \"Kosovo\", \"Kuwait\", \"Kyrgyzstan\", \"Laos\", \"Latvia\", \"Lebanon\", \"Lesotho\", \"Liberia\", \"Libya\", \"Liechtenstein\", \"Lithuania\", \"Luxembourg\", \"Macao\", \"Madagascar\", \"Malawi\", \"Malaysia\", \"Maldives\", \"Mali\", \"Malta\", \"Mauritania\", \"Mauritius\", \"Mexico\", \"Moldova\", \"Monaco\", \"Mongolia\", \"Montenegro\", \"Montserrat\", \"Morocco\", \"Mozambique\", \"Myanmar\", \"Namibia\", \"Nauru\", \"Nepal\", \"Netherlands\", \"New Caledonia\", \"New Zealand\", \"Nicaragua\", \"Niger\", \"Nigeria\", \"Niue\", \"North Macedonia\", \"Northern Cyprus\", \"Northern Ireland\", \"Norway\", \"Oman\", \"Pakistan\", \"Palestine\", \"Panama\", \"Papua New Guinea\", \"Paraguay\", \"Peru\", \"Philippines\", \"Pitcairn\", \"Poland\", \"Portugal\", \"Qatar\", \"Romania\", \"Russia\", \"Rwanda\", \"Saint Helena\", \"Saint Kitts and Nevis\", \"Saint Lucia\", \"Saint Vincent and the Grenadines\", \"Samoa\", \"San Marino\", \"Sao Tome and Principe\", \"Saudi Arabia\", \"Scotland\", \"Senegal\", \"Serbia\", \"Seychelles\", \"Sierra Leone\", \"Singapore\", \"Sint Maarten (Dutch part)\", \"Slovakia\", \"Slovenia\", \"Solomon Islands\", \"Somalia\", \"South Africa\", \"South Korea\", \"South Sudan\", \"Spain\", \"Sri Lanka\", \"Sudan\", \"Suriname\", \"Sweden\", \"Switzerland\", \"Syria\", \"Taiwan\", \"Tajikistan\", \"Tanzania\", \"Thailand\", \"Timor\", \"Togo\", \"Tokelau\", \"Tonga\", \"Trinidad and Tobago\", \"Tunisia\", \"Turkey\", \"Turkmenistan\", \"Turks and Caicos Islands\", \"Tuvalu\", \"Uganda\", \"Ukraine\", \"United Arab Emirates\", \"United Kingdom\", \"United States\", \"Uruguay\", \"Uzbekistan\", \"Vanuatu\", \"Venezuela\", \"Vietnam\", \"Wales\", \"Wallis and Futuna\", \"Yemen\", \"Zambia\", \"Zimbabwe\", \"Abdala, Sinopharm/Beijing, Sinopharm/Wuhan, Sputnik V\", \"Abdala, Soberana02\", \"COVIran Barekat, Covaxin, Oxford/AstraZeneca, Sinopharm/Beijing, Soberana02, Sputnik V\", \"CanSino, Covaxin, Moderna, Oxford/AstraZeneca, Pfizer/BioNTech, Sinopharm/Beijing, Sinovac, Sputnik V\", \"CanSino, Johnson&Johnson, Moderna, Oxford/AstraZeneca, Pfizer/BioNTech, Sinovac, Sputnik V\", \"CanSino, Moderna, Oxford/AstraZeneca, Pfizer/BioNTech, Sinopharm/Beijing, Sputnik V\", \"CanSino, Oxford/AstraZeneca, Pfizer/BioNTech, Sinovac\", \"CanSino, Sinopharm/Beijing, Sinopharm/Wuhan, Sinovac, ZF2001\", \"Covaxin, Johnson&Johnson, Oxford/AstraZeneca, Sinopharm/Beijing, Sputnik V\", \"Covaxin, Moderna, Oxford/AstraZeneca, Pfizer/BioNTech, Sinopharm/Beijing, Sinovac, Sputnik V\", \"Covaxin, Oxford/AstraZeneca\", \"Covaxin, Oxford/AstraZeneca, Sinopharm/Beijing\", \"Covaxin, Oxford/AstraZeneca, Sputnik V\", \"EpiVacCorona, Oxford/AstraZeneca, Sinopharm/Beijing, Sputnik V\", \"EpiVacCorona, Sputnik V\", \"Johnson&Johnson\", \"Johnson&Johnson, Moderna\", \"Johnson&Johnson, Moderna, Oxford/AstraZeneca, Pfizer/BioNTech\", \"Johnson&Johnson, Moderna, Oxford/AstraZeneca, Pfizer/BioNTech, Sinopharm/Beijing, Sinovac, Sputnik V\", \"Johnson&Johnson, Moderna, Oxford/AstraZeneca, Pfizer/BioNTech, Sinopharm/Beijing, Sputnik V\", \"Johnson&Johnson, Moderna, Oxford/AstraZeneca, Pfizer/BioNTech, Sinovac\", \"Johnson&Johnson, Moderna, Oxford/AstraZeneca, Pfizer/BioNTech, Sputnik V\", \"Johnson&Johnson, Moderna, Pfizer/BioNTech\", \"Johnson&Johnson, Oxford/AstraZeneca\", \"Johnson&Johnson, Oxford/AstraZeneca, Pfizer/BioNTech\", \"Johnson&Johnson, Oxford/AstraZeneca, Pfizer/BioNTech, Sinopharm/Beijing\", \"Johnson&Johnson, Oxford/AstraZeneca, Pfizer/BioNTech, Sinopharm/Beijing, Sinovac\", \"Johnson&Johnson, Oxford/AstraZeneca, Pfizer/BioNTech, Sinopharm/Beijing, Sinovac, Sputnik V\", \"Johnson&Johnson, Oxford/AstraZeneca, Pfizer/BioNTech, Sinopharm/Beijing, Sputnik V\", \"Johnson&Johnson, Oxford/AstraZeneca, Pfizer/BioNTech, Sinovac\", \"Johnson&Johnson, Oxford/AstraZeneca, Sinopharm/Beijing\", \"Johnson&Johnson, Oxford/AstraZeneca, Sinopharm/Beijing, Sinovac\", \"Johnson&Johnson, Oxford/AstraZeneca, Sinopharm/Beijing, Sinovac, Sputnik Light, Sputnik V\", \"Johnson&Johnson, Oxford/AstraZeneca, Sinovac\", \"Johnson&Johnson, Pfizer/BioNTech\", \"Medigen, Moderna, Oxford/AstraZeneca, Pfizer/BioNTech\", \"Moderna\", \"Moderna, Oxford/AstraZeneca\", \"Moderna, Oxford/AstraZeneca, Pfizer/BioNTech\", \"Moderna, Oxford/AstraZeneca, Pfizer/BioNTech, Sinopharm/Beijing\", \"Moderna, Oxford/AstraZeneca, Pfizer/BioNTech, Sinopharm/Beijing, Sinovac\", \"Moderna, Oxford/AstraZeneca, Pfizer/BioNTech, Sinopharm/Beijing, Sputnik Light, Sputnik V\", \"Moderna, Oxford/AstraZeneca, Pfizer/BioNTech, Sinopharm/Beijing, Sputnik V\", \"Moderna, Oxford/AstraZeneca, Pfizer/BioNTech, Sinovac\", \"Moderna, Oxford/AstraZeneca, Pfizer/BioNTech, Sinovac, Sputnik V\", \"Moderna, Oxford/AstraZeneca, Pfizer/BioNTech, Sputnik V\", \"Moderna, Oxford/AstraZeneca, Sinopharm/Beijing, Sputnik V\", \"Moderna, Oxford/AstraZeneca, Sputnik V, ZF2001\", \"Moderna, Pfizer/BioNTech\", \"Moderna, Pfizer/BioNTech, Sinovac\", \"Oxford/AstraZeneca\", \"Oxford/AstraZeneca, Pfizer/BioNTech\", \"Oxford/AstraZeneca, Pfizer/BioNTech, Sinopharm/Beijing\", \"Oxford/AstraZeneca, Pfizer/BioNTech, Sinopharm/Beijing, Sinopharm/Wuhan, Sputnik V\", \"Oxford/AstraZeneca, Pfizer/BioNTech, Sinopharm/Beijing, Sinovac\", \"Oxford/AstraZeneca, Pfizer/BioNTech, Sinopharm/Beijing, Sinovac, Sputnik V\", \"Oxford/AstraZeneca, Pfizer/BioNTech, Sinopharm/Beijing, Sputnik V\", \"Oxford/AstraZeneca, Pfizer/BioNTech, Sinovac\", \"Oxford/AstraZeneca, Pfizer/BioNTech, Sinovac, Sputnik V\", \"Oxford/AstraZeneca, Pfizer/BioNTech, Sputnik V\", \"Oxford/AstraZeneca, Sinopharm/Beijing\", \"Oxford/AstraZeneca, Sinopharm/Beijing, Sinovac, Sputnik V\", \"Oxford/AstraZeneca, Sinopharm/Beijing, Sputnik V\", \"Oxford/AstraZeneca, Sinovac\", \"Oxford/AstraZeneca, Sputnik V\", \"Pfizer/BioNTech\", \"Pfizer/BioNTech, Sinopharm/Beijing\", \"Pfizer/BioNTech, Sinovac\", \"Pfizer/BioNTech, Sputnik V\", \"QazVac, Sinopharm/Beijing, Sputnik V\", \"Sinopharm/Beijing\", \"Sinopharm/Beijing, Sputnik V\", \"Sputnik V\"], \"name\": \"\", \"parents\": [\"Johnson&Johnson, Oxford/AstraZeneca, Pfizer/BioNTech, Sinopharm/Beijing\", \"Oxford/AstraZeneca, Pfizer/BioNTech, Sinovac, Sputnik V\", \"Oxford/AstraZeneca, Sinopharm/Beijing, Sinovac, Sputnik V\", \"Oxford/AstraZeneca, Pfizer/BioNTech\", \"Oxford/AstraZeneca\", \"Oxford/AstraZeneca\", \"Oxford/AstraZeneca, Pfizer/BioNTech, Sputnik V\", \"CanSino, Moderna, Oxford/AstraZeneca, Pfizer/BioNTech, Sinopharm/Beijing, Sputnik V\", \"Oxford/AstraZeneca, Sinopharm/Beijing, Sinovac, Sputnik V\", \"Pfizer/BioNTech\", \"Moderna, Oxford/AstraZeneca, Pfizer/BioNTech\", \"Johnson&Johnson, Moderna, Oxford/AstraZeneca, Pfizer/BioNTech\", \"Oxford/AstraZeneca, Pfizer/BioNTech, Sinovac, Sputnik V\", \"Johnson&Johnson, Oxford/AstraZeneca, Pfizer/BioNTech\", \"Oxford/AstraZeneca, Pfizer/BioNTech, Sinopharm/Beijing, Sputnik V\", \"Moderna, Oxford/AstraZeneca, Pfizer/BioNTech, Sinopharm/Beijing\", \"Oxford/AstraZeneca, Pfizer/BioNTech, Sinopharm/Beijing\", \"Sinopharm/Beijing, Sputnik V\", \"Johnson&Johnson, Moderna, Oxford/AstraZeneca, Pfizer/BioNTech\", \"Oxford/AstraZeneca, Sinopharm/Beijing\", \"Oxford/AstraZeneca, Sinovac\", \"Oxford/AstraZeneca, Pfizer/BioNTech\", \"Moderna, Oxford/AstraZeneca, Pfizer/BioNTech, Sinopharm/Beijing\", \"Johnson&Johnson, Oxford/AstraZeneca, Pfizer/BioNTech, Sinopharm/Beijing, Sputnik V\", \"Moderna, Pfizer/BioNTech\", \"Oxford/AstraZeneca, Pfizer/BioNTech, Sinovac, Sputnik V\", \"Moderna, Oxford/AstraZeneca, Pfizer/BioNTech, Sinovac\", \"Johnson&Johnson, Oxford/AstraZeneca, Pfizer/BioNTech, Sinovac\", \"Johnson&Johnson, Oxford/AstraZeneca\", \"Oxford/AstraZeneca, Sinopharm/Beijing\", \"Johnson&Johnson, Moderna, Oxford/AstraZeneca, Pfizer/BioNTech\", \"Johnson&Johnson, Oxford/AstraZeneca, Sinopharm/Beijing\", \"Sinopharm/Beijing\", \"Johnson&Johnson, Oxford/AstraZeneca, Sinopharm/Beijing, Sinovac\", \"Johnson&Johnson, Oxford/AstraZeneca, Pfizer/BioNTech, Sinopharm/Beijing\", \"Moderna, Oxford/AstraZeneca, Pfizer/BioNTech\", \"Moderna, Oxford/AstraZeneca, Pfizer/BioNTech, Sinopharm/Beijing\", \"Oxford/AstraZeneca, Pfizer/BioNTech\", \"Covaxin, Oxford/AstraZeneca\", \"Sinopharm/Beijing\", \"CanSino, Oxford/AstraZeneca, Pfizer/BioNTech, Sinovac\", \"CanSino, Sinopharm/Beijing, Sinopharm/Wuhan, Sinovac, ZF2001\", \"Johnson&Johnson, Moderna, Oxford/AstraZeneca, Pfizer/BioNTech, Sinovac\", \"Covaxin, Oxford/AstraZeneca, Sinopharm/Beijing\", \"Moderna, Oxford/AstraZeneca, Sinopharm/Beijing, Sputnik V\", \"Pfizer/BioNTech\", \"Oxford/AstraZeneca, Pfizer/BioNTech\", \"Johnson&Johnson, Oxford/AstraZeneca, Pfizer/BioNTech, Sinopharm/Beijing, Sputnik V\", \"Johnson&Johnson, Moderna, Oxford/AstraZeneca, Pfizer/BioNTech\", \"Abdala, Soberana02\", \"Moderna, Pfizer/BioNTech\", \"Johnson&Johnson, Moderna, Oxford/AstraZeneca, Pfizer/BioNTech\", \"Johnson&Johnson, Moderna, Oxford/AstraZeneca, Pfizer/BioNTech\", \"Oxford/AstraZeneca\", \"Johnson&Johnson, Moderna, Pfizer/BioNTech\", \"Johnson&Johnson, Oxford/AstraZeneca, Pfizer/BioNTech, Sinopharm/Beijing, Sinovac, Sputnik V\", \"Oxford/AstraZeneca, Pfizer/BioNTech, Sinopharm/Beijing\", \"Oxford/AstraZeneca, Pfizer/BioNTech, Sinopharm/Beijing, Sinovac\", \"CanSino, Oxford/AstraZeneca, Pfizer/BioNTech, Sinovac\", \"Johnson&Johnson, Oxford/AstraZeneca, Pfizer/BioNTech, Sinopharm/Beijing, Sinovac, Sputnik V\", \"Oxford/AstraZeneca, Pfizer/BioNTech, Sinopharm/Beijing, Sinovac\", \"Moderna, Oxford/AstraZeneca, Pfizer/BioNTech\", \"Sinopharm/Beijing\", \"Johnson&Johnson, Moderna, Oxford/AstraZeneca, Pfizer/BioNTech\", \"Johnson&Johnson, Oxford/AstraZeneca, Pfizer/BioNTech\", \"Oxford/AstraZeneca\", \"Moderna, Pfizer/BioNTech\", \"Oxford/AstraZeneca\", \"Oxford/AstraZeneca\", \"Moderna, Oxford/AstraZeneca, Pfizer/BioNTech\", \"Johnson&Johnson, Moderna, Oxford/AstraZeneca, Pfizer/BioNTech\", \"Johnson&Johnson, Pfizer/BioNTech\", \"Sinopharm/Beijing\", \"Johnson&Johnson, Oxford/AstraZeneca, Sinopharm/Beijing\", \"Oxford/AstraZeneca, Pfizer/BioNTech, Sinopharm/Beijing, Sinovac\", \"Johnson&Johnson, Moderna, Oxford/AstraZeneca, Pfizer/BioNTech\", \"Oxford/AstraZeneca, Sputnik V\", \"Pfizer/BioNTech\", \"Johnson&Johnson, Moderna, Oxford/AstraZeneca, Pfizer/BioNTech\", \"Moderna\", \"Oxford/AstraZeneca, Pfizer/BioNTech\", \"Moderna, Oxford/AstraZeneca\", \"Moderna, Oxford/AstraZeneca, Pfizer/BioNTech\", \"Sputnik V\", \"Oxford/AstraZeneca, Sinopharm/Beijing\", \"Oxford/AstraZeneca, Sputnik V\", \"Johnson&Johnson, Moderna\", \"Johnson&Johnson, Moderna, Oxford/AstraZeneca, Pfizer/BioNTech, Sputnik V\", \"Pfizer/BioNTech, Sinovac\", \"Johnson&Johnson, Moderna, Oxford/AstraZeneca, Pfizer/BioNTech, Sinopharm/Beijing, Sputnik V\", \"Johnson&Johnson, Moderna, Oxford/AstraZeneca, Pfizer/BioNTech\", \"Covaxin, Oxford/AstraZeneca, Sputnik V\", \"Moderna, Oxford/AstraZeneca, Pfizer/BioNTech, Sinopharm/Beijing, Sinovac\", \"COVIran Barekat, Covaxin, Oxford/AstraZeneca, Sinopharm/Beijing, Soberana02, Sputnik V\", \"Oxford/AstraZeneca, Pfizer/BioNTech, Sinopharm/Beijing, Sputnik V\", \"Johnson&Johnson, Moderna, Oxford/AstraZeneca, Pfizer/BioNTech\", \"Moderna, Oxford/AstraZeneca, Pfizer/BioNTech\", \"Moderna, Pfizer/BioNTech\", \"Johnson&Johnson, Moderna, Oxford/AstraZeneca, Pfizer/BioNTech\", \"Johnson&Johnson, Moderna, Oxford/AstraZeneca, Pfizer/BioNTech\", \"Moderna, Oxford/AstraZeneca, Pfizer/BioNTech\", \"Moderna, Oxford/AstraZeneca, Pfizer/BioNTech\", \"Oxford/AstraZeneca, Pfizer/BioNTech, Sinopharm/Beijing, Sputnik V\", \"QazVac, Sinopharm/Beijing, Sputnik V\", \"Oxford/AstraZeneca, Sputnik V\", \"Oxford/AstraZeneca\", \"Oxford/AstraZeneca, Pfizer/BioNTech\", \"Pfizer/BioNTech\", \"Sinopharm/Beijing, Sputnik V\", \"Johnson&Johnson, Oxford/AstraZeneca, Pfizer/BioNTech, Sinopharm/Beijing, Sinovac, Sputnik V\", \"Johnson&Johnson, Moderna, Oxford/AstraZeneca, Pfizer/BioNTech\", \"Oxford/AstraZeneca, Pfizer/BioNTech, Sinopharm/Beijing, Sputnik V\", \"Oxford/AstraZeneca\", \"Oxford/AstraZeneca\", \"Johnson&Johnson, Moderna, Oxford/AstraZeneca, Pfizer/BioNTech, Sinopharm/Beijing, Sinovac, Sputnik V\", \"Moderna, Pfizer/BioNTech\", \"Johnson&Johnson, Moderna, Oxford/AstraZeneca, Pfizer/BioNTech\", \"Johnson&Johnson, Moderna, Oxford/AstraZeneca, Pfizer/BioNTech\", \"Pfizer/BioNTech, Sinopharm/Beijing\", \"Oxford/AstraZeneca\", \"Johnson&Johnson, Oxford/AstraZeneca\", \"CanSino, Oxford/AstraZeneca, Pfizer/BioNTech, Sinovac\", \"Oxford/AstraZeneca, Pfizer/BioNTech, Sinopharm/Beijing\", \"Oxford/AstraZeneca\", \"Johnson&Johnson, Moderna, Oxford/AstraZeneca, Pfizer/BioNTech\", \"Oxford/AstraZeneca, Sinopharm/Beijing\", \"Covaxin, Oxford/AstraZeneca, Sinopharm/Beijing\", \"CanSino, Johnson&Johnson, Moderna, Oxford/AstraZeneca, Pfizer/BioNTech, Sinovac, Sputnik V\", \"Johnson&Johnson, Oxford/AstraZeneca, Pfizer/BioNTech, Sinopharm/Beijing, Sputnik V\", \"Pfizer/BioNTech\", \"Oxford/AstraZeneca, Pfizer/BioNTech, Sinopharm/Beijing, Sputnik V\", \"Oxford/AstraZeneca, Pfizer/BioNTech, Sinopharm/Beijing, Sputnik V\", \"Oxford/AstraZeneca\", \"Johnson&Johnson, Oxford/AstraZeneca, Pfizer/BioNTech, Sinopharm/Beijing, Sputnik V\", \"Oxford/AstraZeneca, Sinopharm/Beijing\", \"Oxford/AstraZeneca, Sinopharm/Beijing\", \"Oxford/AstraZeneca, Sinopharm/Beijing\", \"Oxford/AstraZeneca\", \"Covaxin, Johnson&Johnson, Oxford/AstraZeneca, Sinopharm/Beijing, Sputnik V\", \"Johnson&Johnson, Moderna, Oxford/AstraZeneca, Pfizer/BioNTech\", \"Pfizer/BioNTech\", \"Pfizer/BioNTech\", \"Oxford/AstraZeneca, Pfizer/BioNTech, Sputnik V\", \"Oxford/AstraZeneca, Sinopharm/Beijing\", \"Oxford/AstraZeneca\", \"Oxford/AstraZeneca\", \"Oxford/AstraZeneca, Pfizer/BioNTech, Sinopharm/Beijing, Sinovac, Sputnik V\", \"Oxford/AstraZeneca, Pfizer/BioNTech, Sinovac\", \"Moderna, Oxford/AstraZeneca, Pfizer/BioNTech\", \"Moderna, Pfizer/BioNTech\", \"Oxford/AstraZeneca, Pfizer/BioNTech, Sinovac, Sputnik V\", \"CanSino, Covaxin, Moderna, Oxford/AstraZeneca, Pfizer/BioNTech, Sinopharm/Beijing, Sinovac, Sputnik V\", \"Moderna, Oxford/AstraZeneca, Pfizer/BioNTech, Sinopharm/Beijing, Sputnik Light, Sputnik V\", \"Oxford/AstraZeneca, Pfizer/BioNTech\", \"Oxford/AstraZeneca\", \"Covaxin, Moderna, Oxford/AstraZeneca, Pfizer/BioNTech, Sinopharm/Beijing, Sinovac, Sputnik V\", \"Oxford/AstraZeneca, Pfizer/BioNTech, Sinopharm/Beijing\", \"Johnson&Johnson, Moderna, Oxford/AstraZeneca, Pfizer/BioNTech, Sinopharm/Beijing, Sinovac, Sputnik V\", \"Oxford/AstraZeneca\", \"Johnson&Johnson, Moderna, Oxford/AstraZeneca, Pfizer/BioNTech\", \"Johnson&Johnson, Moderna, Oxford/AstraZeneca, Pfizer/BioNTech\", \"Moderna, Pfizer/BioNTech\", \"Johnson&Johnson, Moderna, Oxford/AstraZeneca, Pfizer/BioNTech\", \"EpiVacCorona, Sputnik V\", \"Moderna, Oxford/AstraZeneca, Pfizer/BioNTech\", \"Oxford/AstraZeneca\", \"Oxford/AstraZeneca, Pfizer/BioNTech\", \"Oxford/AstraZeneca, Pfizer/BioNTech\", \"Oxford/AstraZeneca\", \"Oxford/AstraZeneca\", \"Pfizer/BioNTech, Sputnik V\", \"Oxford/AstraZeneca\", \"Oxford/AstraZeneca, Pfizer/BioNTech\", \"Moderna, Oxford/AstraZeneca, Pfizer/BioNTech\", \"Oxford/AstraZeneca, Sinopharm/Beijing\", \"Oxford/AstraZeneca, Pfizer/BioNTech, Sinopharm/Beijing, Sputnik V\", \"Oxford/AstraZeneca, Sinopharm/Beijing, Sputnik V\", \"Oxford/AstraZeneca, Sinopharm/Beijing\", \"Moderna, Pfizer/BioNTech, Sinovac\", \"Moderna, Oxford/AstraZeneca, Pfizer/BioNTech\", \"Moderna, Oxford/AstraZeneca, Pfizer/BioNTech, Sputnik V\", \"Oxford/AstraZeneca, Pfizer/BioNTech\", \"Oxford/AstraZeneca\", \"Johnson&Johnson, Oxford/AstraZeneca, Sinopharm/Beijing, Sinovac\", \"Johnson&Johnson, Pfizer/BioNTech\", \"Johnson&Johnson, Moderna, Oxford/AstraZeneca, Pfizer/BioNTech\", \"Johnson&Johnson, Oxford/AstraZeneca\", \"Johnson&Johnson, Moderna, Oxford/AstraZeneca, Pfizer/BioNTech\", \"Moderna, Oxford/AstraZeneca, Pfizer/BioNTech, Sinopharm/Beijing, Sputnik V\", \"Johnson&Johnson, Oxford/AstraZeneca, Pfizer/BioNTech, Sinopharm/Beijing, Sinovac\", \"Oxford/AstraZeneca, Pfizer/BioNTech, Sinopharm/Beijing\", \"Moderna, Oxford/AstraZeneca, Pfizer/BioNTech\", \"Moderna, Pfizer/BioNTech\", \"Johnson&Johnson, Oxford/AstraZeneca, Sinopharm/Beijing, Sinovac, Sputnik Light, Sputnik V\", \"Medigen, Moderna, Oxford/AstraZeneca, Pfizer/BioNTech\", \"Moderna, Oxford/AstraZeneca, Pfizer/BioNTech, Sinovac, Sputnik V\", \"Johnson&Johnson\", \"Oxford/AstraZeneca, Pfizer/BioNTech, Sinopharm/Beijing, Sinovac\", \"Oxford/AstraZeneca, Sinovac\", \"Oxford/AstraZeneca\", \"Pfizer/BioNTech\", \"Oxford/AstraZeneca\", \"Oxford/AstraZeneca, Pfizer/BioNTech, Sinopharm/Beijing\", \"Johnson&Johnson, Moderna, Oxford/AstraZeneca, Pfizer/BioNTech, Sinopharm/Beijing, Sinovac, Sputnik V\", \"Pfizer/BioNTech, Sinovac\", \"EpiVacCorona, Oxford/AstraZeneca, Sinopharm/Beijing, Sputnik V\", \"Pfizer/BioNTech\", \"Oxford/AstraZeneca\", \"Oxford/AstraZeneca\", \"Moderna, Oxford/AstraZeneca, Pfizer/BioNTech, Sinovac\", \"Oxford/AstraZeneca, Pfizer/BioNTech, Sinopharm/Beijing, Sinopharm/Wuhan, Sputnik V\", \"Moderna, Oxford/AstraZeneca, Pfizer/BioNTech\", \"Johnson&Johnson, Moderna, Pfizer/BioNTech\", \"Oxford/AstraZeneca, Pfizer/BioNTech, Sinovac\", \"Moderna, Oxford/AstraZeneca, Sputnik V, ZF2001\", \"Oxford/AstraZeneca\", \"Abdala, Sinopharm/Beijing, Sinopharm/Wuhan, Sputnik V\", \"Moderna, Oxford/AstraZeneca, Pfizer/BioNTech, Sinopharm/Beijing, Sputnik V\", \"Moderna, Oxford/AstraZeneca, Pfizer/BioNTech\", \"Moderna\", \"Johnson&Johnson, Oxford/AstraZeneca, Sinovac\", \"Johnson&Johnson, Oxford/AstraZeneca, Sinopharm/Beijing\", \"Oxford/AstraZeneca, Sinopharm/Beijing, Sinovac, Sputnik V\", \"\", \"\", \"\", \"\", \"\", \"\", \"\", \"\", \"\", \"\", \"\", \"\", \"\", \"\", \"\", \"\", \"\", \"\", \"\", \"\", \"\", \"\", \"\", \"\", \"\", \"\", \"\", \"\", \"\", \"\", \"\", \"\", \"\", \"\", \"\", \"\", \"\", \"\", \"\", \"\", \"\", \"\", \"\", \"\", \"\", \"\", \"\", \"\", \"\", \"\", \"\", \"\", \"\", \"\", \"\", \"\", \"\", \"\", \"\", \"\", \"\", \"\", \"\", \"\", \"\", \"\", \"\", \"\", \"\", \"\", \"\", \"\", \"\"], \"type\": \"treemap\", \"values\": [2369625.0, 1873903.0, 11080739.0, 102032.0, 5940208.0, 18705.0, 104500.0, 58553162.0, 677032.0, 159016.0, 34828566.0, 11395391.0, 9424902.0, 244223.0, 2750639.0, 60871683.0, 268945.0, 4472001.0, 16822167.0, 344463.0, 252698.0, 89029.0, 1103506.0, 7348965.0, 35845.0, 1242203.0, 882831.0, 270107435.0, 33527.0, 592613.0, 2775555.0, 380344.0, 287.0, 27356822.0, 497689.0, 58354142.0, 494079.0, 111027.0, 385557.0, 199516.0, 35303092.0, 2251339000.0, 46007541.0, 407792.0, 410016.0, 23489.0, 6124445.0, 3046263.0, 3566066.0, 25357844.0, 192026.0, 1209400.0, 12143589.0, 147734.0, 8833610.0, 92097.0, 50991.0, 13110383.0, 21492532.0, 25083832.0, 8411708.0, 85317024.0, 424653.0, 1417734.0, 273523.0, 4349193.0, 76723.0, 4407.0, 1166051.0, 8012208.0, 98366480.0, 303630.0, 217606.0, 241290.0, 1920934.0, 110950353.0, 2727537.0, 87370.0, 12603840.0, 77057.0, 67959.0, 8376696.0, 103064.0, 2169910.0, 127936.0, 615611.0, 110603.0, 6605470.0, 8999383.0, 12111107.0, 567789.0, 1030850079.0, 183477223.0, 81360772.0, 8972041.0, 7311196.0, 131770.0, 15869412.0, 89092469.0, 899344.0, 185979201.0, 166909.0, 7400075.0, 15550804.0, 5029901.0, 65279.0, 1542975.0, 2375455.0, 1689000.0, 4402770.0, 1888230.0, 3246635.0, 383341.0, 358079.0, 1863974.0, 48413.0, 3365399.0, 816558.0, 790170.0, 566265.0, 1193596.0, 49434613.0, 748858.0, 584773.0, 869715.0, 1300831.0, 1725697.0, 115624628.0, 1497461.0, 49980.0, 4393356.0, 495875.0, 2911.0, 46094289.0, 3799385.0, 15797703.0, 535048.0, 14863.0, 15048288.0, 23944362.0, 324466.0, 6676800.0, 1306694.0, 803146.0, 8402127.0, 2352.0, 1590219.0, 546076.0, 2625815.0, 7925688.0, 5679984.0, 102067945.0, 2301812.0, 5415924.0, 290513.0, 5165112.0, 33831021.0, 56774753.0, 94.0, 38671357.0, 16211690.0, 4819051.0, 11978451.0, 100766655.0, 5394793.0, 7892.0, 49817.0, 87446.0, 40130.0, 194141.0, 47302.0, 103720.0, 45428214.0, 8780276.0, 1961144.0, 6955928.0, 165206.0, 396196.0, 10046575.0, 50410.0, 4787033.0, 2296983.0, 152832.0, 647129.0, 21514033.0, 76167236.0, 127200.0, 71366561.0, 28262495.0, 1659666.0, 444474.0, 14415349.0, 10994632.0, 963477.0, 23217629.0, 4738865.0, 885579.0, 71237520.0, 855619.0, 1287154.0, 1936.0, 84506.0, 1208750.0, 8956625.0, 115674594.0, 7580976.0, 54417.0, 10861.0, 2990507.0, 16501573.0, 20940231.0, 101777928.0, 415012026.0, 6573945.0, 25297345.0, 96536.0, 16127242.0, 74950393.0, 5054813.0, 11361.0, 356173.0, 871881.0, 5866629.0, 16127242.0, 25357844.0, 81360772.0, 102067945.0, 115624628.0, 58553162.0, 106230237.0, 2251339000.0, 15048288.0, 5165112.0, 385557.0, 2133489.0, 1030850079.0, 7580976.0, 100766655.0, 885579.0, 110603.0, 614400932.0, 67595352.0, 12111107.0, 46007541.0, 6605470.0, 423845636.0, 1354323.0, 517746.0, 2867314.0, 1659666.0, 29578699.0, 57986978.0, 270107435.0, 1493515.0, 28003951.0, 963477.0, 356173.0, 21817663.0, 23217629.0, 88418.0, 8376696.0, 510992268.0, 62469268.0, 183477223.0, 2301812.0, 103212888.0, 17384404.0, 4738865.0, 4787033.0, 410016.0, 25297345.0, 39961790.0, 10046575.0, 27265174.0, 61315851.0, 36553039.0, 20940231.0, 94680545.0, 1590219.0, 34214549.0, 7120021.0, 18220992.0, 1411194.0, 25658465.0, 17624400.0, 165206.0, 1108317.0, 8373049.0, 9752929.0, 790170.0, 124673977.0, 47302.0, 15550804.0, 842062.0, 6161001.0, 2169910.0]}],                        {\"legend\": {\"tracegroupgap\": 0}, \"template\": {\"data\": {\"bar\": [{\"error_x\": {\"color\": \"#2a3f5f\"}, \"error_y\": {\"color\": \"#2a3f5f\"}, \"marker\": {\"line\": {\"color\": \"#E5ECF6\", \"width\": 0.5}}, \"type\": \"bar\"}], \"barpolar\": [{\"marker\": {\"line\": {\"color\": \"#E5ECF6\", \"width\": 0.5}}, \"type\": \"barpolar\"}], \"carpet\": [{\"aaxis\": {\"endlinecolor\": \"#2a3f5f\", \"gridcolor\": \"white\", \"linecolor\": \"white\", \"minorgridcolor\": \"white\", \"startlinecolor\": \"#2a3f5f\"}, \"baxis\": {\"endlinecolor\": \"#2a3f5f\", \"gridcolor\": \"white\", \"linecolor\": \"white\", \"minorgridcolor\": \"white\", \"startlinecolor\": \"#2a3f5f\"}, \"type\": \"carpet\"}], \"choropleth\": [{\"colorbar\": {\"outlinewidth\": 0, \"ticks\": \"\"}, \"type\": \"choropleth\"}], \"contour\": [{\"colorbar\": {\"outlinewidth\": 0, \"ticks\": \"\"}, \"colorscale\": [[0.0, \"#0d0887\"], [0.1111111111111111, \"#46039f\"], [0.2222222222222222, \"#7201a8\"], [0.3333333333333333, \"#9c179e\"], [0.4444444444444444, \"#bd3786\"], [0.5555555555555556, \"#d8576b\"], [0.6666666666666666, \"#ed7953\"], [0.7777777777777778, \"#fb9f3a\"], [0.8888888888888888, \"#fdca26\"], [1.0, \"#f0f921\"]], \"type\": \"contour\"}], \"contourcarpet\": [{\"colorbar\": {\"outlinewidth\": 0, \"ticks\": \"\"}, \"type\": \"contourcarpet\"}], \"heatmap\": [{\"colorbar\": {\"outlinewidth\": 0, \"ticks\": \"\"}, \"colorscale\": [[0.0, \"#0d0887\"], [0.1111111111111111, \"#46039f\"], [0.2222222222222222, \"#7201a8\"], [0.3333333333333333, \"#9c179e\"], [0.4444444444444444, \"#bd3786\"], [0.5555555555555556, \"#d8576b\"], [0.6666666666666666, \"#ed7953\"], [0.7777777777777778, \"#fb9f3a\"], [0.8888888888888888, \"#fdca26\"], [1.0, \"#f0f921\"]], \"type\": \"heatmap\"}], \"heatmapgl\": [{\"colorbar\": {\"outlinewidth\": 0, \"ticks\": \"\"}, \"colorscale\": [[0.0, \"#0d0887\"], [0.1111111111111111, \"#46039f\"], [0.2222222222222222, \"#7201a8\"], [0.3333333333333333, \"#9c179e\"], [0.4444444444444444, \"#bd3786\"], [0.5555555555555556, \"#d8576b\"], [0.6666666666666666, \"#ed7953\"], [0.7777777777777778, \"#fb9f3a\"], [0.8888888888888888, \"#fdca26\"], [1.0, \"#f0f921\"]], \"type\": \"heatmapgl\"}], \"histogram\": [{\"marker\": {\"colorbar\": {\"outlinewidth\": 0, \"ticks\": \"\"}}, \"type\": \"histogram\"}], \"histogram2d\": [{\"colorbar\": {\"outlinewidth\": 0, \"ticks\": \"\"}, \"colorscale\": [[0.0, \"#0d0887\"], [0.1111111111111111, \"#46039f\"], [0.2222222222222222, \"#7201a8\"], [0.3333333333333333, \"#9c179e\"], [0.4444444444444444, \"#bd3786\"], [0.5555555555555556, \"#d8576b\"], [0.6666666666666666, \"#ed7953\"], [0.7777777777777778, \"#fb9f3a\"], [0.8888888888888888, \"#fdca26\"], [1.0, \"#f0f921\"]], \"type\": \"histogram2d\"}], \"histogram2dcontour\": [{\"colorbar\": {\"outlinewidth\": 0, \"ticks\": \"\"}, \"colorscale\": [[0.0, \"#0d0887\"], [0.1111111111111111, \"#46039f\"], [0.2222222222222222, \"#7201a8\"], [0.3333333333333333, \"#9c179e\"], [0.4444444444444444, \"#bd3786\"], [0.5555555555555556, \"#d8576b\"], [0.6666666666666666, \"#ed7953\"], [0.7777777777777778, \"#fb9f3a\"], [0.8888888888888888, \"#fdca26\"], [1.0, \"#f0f921\"]], \"type\": \"histogram2dcontour\"}], \"mesh3d\": [{\"colorbar\": {\"outlinewidth\": 0, \"ticks\": \"\"}, \"type\": \"mesh3d\"}], \"parcoords\": [{\"line\": {\"colorbar\": {\"outlinewidth\": 0, \"ticks\": \"\"}}, \"type\": \"parcoords\"}], \"pie\": [{\"automargin\": true, \"type\": \"pie\"}], \"scatter\": [{\"marker\": {\"colorbar\": {\"outlinewidth\": 0, \"ticks\": \"\"}}, \"type\": \"scatter\"}], \"scatter3d\": [{\"line\": {\"colorbar\": {\"outlinewidth\": 0, \"ticks\": \"\"}}, \"marker\": {\"colorbar\": {\"outlinewidth\": 0, \"ticks\": \"\"}}, \"type\": \"scatter3d\"}], \"scattercarpet\": [{\"marker\": {\"colorbar\": {\"outlinewidth\": 0, \"ticks\": \"\"}}, \"type\": \"scattercarpet\"}], \"scattergeo\": [{\"marker\": {\"colorbar\": {\"outlinewidth\": 0, \"ticks\": \"\"}}, \"type\": \"scattergeo\"}], \"scattergl\": [{\"marker\": {\"colorbar\": {\"outlinewidth\": 0, \"ticks\": \"\"}}, \"type\": \"scattergl\"}], \"scattermapbox\": [{\"marker\": {\"colorbar\": {\"outlinewidth\": 0, \"ticks\": \"\"}}, \"type\": \"scattermapbox\"}], \"scatterpolar\": [{\"marker\": {\"colorbar\": {\"outlinewidth\": 0, \"ticks\": \"\"}}, \"type\": \"scatterpolar\"}], \"scatterpolargl\": [{\"marker\": {\"colorbar\": {\"outlinewidth\": 0, \"ticks\": \"\"}}, \"type\": \"scatterpolargl\"}], \"scatterternary\": [{\"marker\": {\"colorbar\": {\"outlinewidth\": 0, \"ticks\": \"\"}}, \"type\": \"scatterternary\"}], \"surface\": [{\"colorbar\": {\"outlinewidth\": 0, \"ticks\": \"\"}, \"colorscale\": [[0.0, \"#0d0887\"], [0.1111111111111111, \"#46039f\"], [0.2222222222222222, \"#7201a8\"], [0.3333333333333333, \"#9c179e\"], [0.4444444444444444, \"#bd3786\"], [0.5555555555555556, \"#d8576b\"], [0.6666666666666666, \"#ed7953\"], [0.7777777777777778, \"#fb9f3a\"], [0.8888888888888888, \"#fdca26\"], [1.0, \"#f0f921\"]], \"type\": \"surface\"}], \"table\": [{\"cells\": {\"fill\": {\"color\": \"#EBF0F8\"}, \"line\": {\"color\": \"white\"}}, \"header\": {\"fill\": {\"color\": \"#C8D4E3\"}, \"line\": {\"color\": \"white\"}}, \"type\": \"table\"}]}, \"layout\": {\"annotationdefaults\": {\"arrowcolor\": \"#2a3f5f\", \"arrowhead\": 0, \"arrowwidth\": 1}, \"coloraxis\": {\"colorbar\": {\"outlinewidth\": 0, \"ticks\": \"\"}}, \"colorscale\": {\"diverging\": [[0, \"#8e0152\"], [0.1, \"#c51b7d\"], [0.2, \"#de77ae\"], [0.3, \"#f1b6da\"], [0.4, \"#fde0ef\"], [0.5, \"#f7f7f7\"], [0.6, \"#e6f5d0\"], [0.7, \"#b8e186\"], [0.8, \"#7fbc41\"], [0.9, \"#4d9221\"], [1, \"#276419\"]], \"sequential\": [[0.0, \"#0d0887\"], [0.1111111111111111, \"#46039f\"], [0.2222222222222222, \"#7201a8\"], [0.3333333333333333, \"#9c179e\"], [0.4444444444444444, \"#bd3786\"], [0.5555555555555556, \"#d8576b\"], [0.6666666666666666, \"#ed7953\"], [0.7777777777777778, \"#fb9f3a\"], [0.8888888888888888, \"#fdca26\"], [1.0, \"#f0f921\"]], \"sequentialminus\": [[0.0, \"#0d0887\"], [0.1111111111111111, \"#46039f\"], [0.2222222222222222, \"#7201a8\"], [0.3333333333333333, \"#9c179e\"], [0.4444444444444444, \"#bd3786\"], [0.5555555555555556, \"#d8576b\"], [0.6666666666666666, \"#ed7953\"], [0.7777777777777778, \"#fb9f3a\"], [0.8888888888888888, \"#fdca26\"], [1.0, \"#f0f921\"]]}, \"colorway\": [\"#636efa\", \"#EF553B\", \"#00cc96\", \"#ab63fa\", \"#FFA15A\", \"#19d3f3\", \"#FF6692\", \"#B6E880\", \"#FF97FF\", \"#FECB52\"], \"font\": {\"color\": \"#2a3f5f\"}, \"geo\": {\"bgcolor\": \"white\", \"lakecolor\": \"white\", \"landcolor\": \"#E5ECF6\", \"showlakes\": true, \"showland\": true, \"subunitcolor\": \"white\"}, \"hoverlabel\": {\"align\": \"left\"}, \"hovermode\": \"closest\", \"mapbox\": {\"style\": \"light\"}, \"paper_bgcolor\": \"white\", \"plot_bgcolor\": \"#E5ECF6\", \"polar\": {\"angularaxis\": {\"gridcolor\": \"white\", \"linecolor\": \"white\", \"ticks\": \"\"}, \"bgcolor\": \"#E5ECF6\", \"radialaxis\": {\"gridcolor\": \"white\", \"linecolor\": \"white\", \"ticks\": \"\"}}, \"scene\": {\"xaxis\": {\"backgroundcolor\": \"#E5ECF6\", \"gridcolor\": \"white\", \"gridwidth\": 2, \"linecolor\": \"white\", \"showbackground\": true, \"ticks\": \"\", \"zerolinecolor\": \"white\"}, \"yaxis\": {\"backgroundcolor\": \"#E5ECF6\", \"gridcolor\": \"white\", \"gridwidth\": 2, \"linecolor\": \"white\", \"showbackground\": true, \"ticks\": \"\", \"zerolinecolor\": \"white\"}, \"zaxis\": {\"backgroundcolor\": \"#E5ECF6\", \"gridcolor\": \"white\", \"gridwidth\": 2, \"linecolor\": \"white\", \"showbackground\": true, \"ticks\": \"\", \"zerolinecolor\": \"white\"}}, \"shapedefaults\": {\"line\": {\"color\": \"#2a3f5f\"}}, \"ternary\": {\"aaxis\": {\"gridcolor\": \"white\", \"linecolor\": \"white\", \"ticks\": \"\"}, \"baxis\": {\"gridcolor\": \"white\", \"linecolor\": \"white\", \"ticks\": \"\"}, \"bgcolor\": \"#E5ECF6\", \"caxis\": {\"gridcolor\": \"white\", \"linecolor\": \"white\", \"ticks\": \"\"}}, \"title\": {\"x\": 0.05}, \"xaxis\": {\"automargin\": true, \"gridcolor\": \"white\", \"linecolor\": \"white\", \"ticks\": \"\", \"title\": {\"standoff\": 15}, \"zerolinecolor\": \"white\", \"zerolinewidth\": 2}, \"yaxis\": {\"automargin\": true, \"gridcolor\": \"white\", \"linecolor\": \"white\", \"ticks\": \"\", \"title\": {\"standoff\": 15}, \"zerolinecolor\": \"white\", \"zerolinewidth\": 2}}}, \"title\": {\"text\": \"Total vaccinations per country\"}},                        {\"responsive\": true}                    ).then(function(){\n",
       "                            \n",
       "var gd = document.getElementById('d6760836-7108-48b4-a7a7-5a08aa23448d');\n",
       "var x = new MutationObserver(function (mutations, observer) {{\n",
       "        var display = window.getComputedStyle(gd).display;\n",
       "        if (!display || display === 'none') {{\n",
       "            console.log([gd, 'removed!']);\n",
       "            Plotly.purge(gd);\n",
       "            observer.disconnect();\n",
       "        }}\n",
       "}});\n",
       "\n",
       "// Listen for the removal of the full notebook cells\n",
       "var notebookContainer = gd.closest('#notebook-container');\n",
       "if (notebookContainer) {{\n",
       "    x.observe(notebookContainer, {childList: true});\n",
       "}}\n",
       "\n",
       "// Listen for the clearing of the current output cell\n",
       "var outputEl = gd.closest('.output');\n",
       "if (outputEl) {{\n",
       "    x.observe(outputEl, {childList: true});\n",
       "}}\n",
       "\n",
       "                        })                };                });            </script>        </div>"
      ]
     },
     "metadata": {},
     "output_type": "display_data"
    }
   ],
   "source": [
    "fig = px.treemap(country_vaccine,\n",
    "                 path = ['Vaccines', 'Country'],\n",
    "                 values = 'Total Vaccinations',\n",
    "                 title = 'Total vaccinations per country')\n",
    "fig.show()"
   ]
  }
 ],
 "metadata": {
  "interpreter": {
   "hash": "8da01e5a71448ea74f54d88afa8911010d1d12e23bc7e103d40d5def4a09152c"
  },
  "kernelspec": {
   "display_name": "Python 3",
   "language": "python",
   "name": "python3"
  },
  "language_info": {
   "codemirror_mode": {
    "name": "ipython",
    "version": 3
   },
   "file_extension": ".py",
   "mimetype": "text/x-python",
   "name": "python",
   "nbconvert_exporter": "python",
   "pygments_lexer": "ipython3",
   "version": "3.8.5"
  }
 },
 "nbformat": 4,
 "nbformat_minor": 2
}
